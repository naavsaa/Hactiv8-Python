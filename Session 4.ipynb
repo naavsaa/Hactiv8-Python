{
 "cells": [
  {
   "cell_type": "code",
   "execution_count": null,
   "id": "675c449c",
   "metadata": {},
   "outputs": [],
   "source": [
    "#NUMPY"
   ]
  },
  {
   "cell_type": "code",
   "execution_count": 1,
   "id": "50320141",
   "metadata": {},
   "outputs": [],
   "source": [
    "import numpy as np\n"
   ]
  },
  {
   "cell_type": "code",
   "execution_count": 2,
   "id": "47614259",
   "metadata": {},
   "outputs": [],
   "source": [
    "a=np.array([[1,2,4,5],[6,7,8,9],[10,11,3,12]])"
   ]
  },
  {
   "cell_type": "code",
   "execution_count": 3,
   "id": "d24406dd",
   "metadata": {},
   "outputs": [
    {
     "name": "stdout",
     "output_type": "stream",
     "text": [
      "[1 2 4 5]\n"
     ]
    }
   ],
   "source": [
    "print (a[0])"
   ]
  },
  {
   "cell_type": "code",
   "execution_count": 4,
   "id": "6c6a227a",
   "metadata": {},
   "outputs": [
    {
     "data": {
      "text/plain": [
       "array([0., 0.])"
      ]
     },
     "execution_count": 4,
     "metadata": {},
     "output_type": "execute_result"
    }
   ],
   "source": [
    "np.zeros(2)"
   ]
  },
  {
   "cell_type": "code",
   "execution_count": 5,
   "id": "7b3bdeba",
   "metadata": {},
   "outputs": [
    {
     "data": {
      "text/plain": [
       "array([1., 1., 1.])"
      ]
     },
     "execution_count": 5,
     "metadata": {},
     "output_type": "execute_result"
    }
   ],
   "source": [
    "np.ones(3)"
   ]
  },
  {
   "cell_type": "code",
   "execution_count": 7,
   "id": "cf973617",
   "metadata": {},
   "outputs": [
    {
     "ename": "AttributeError",
     "evalue": "module 'numpy' has no attribute 'twos'",
     "output_type": "error",
     "traceback": [
      "\u001b[1;31m---------------------------------------------------------------------------\u001b[0m",
      "\u001b[1;31mAttributeError\u001b[0m                            Traceback (most recent call last)",
      "\u001b[1;32m<ipython-input-7-dc30e735a775>\u001b[0m in \u001b[0;36m<module>\u001b[1;34m\u001b[0m\n\u001b[1;32m----> 1\u001b[1;33m \u001b[0mnp\u001b[0m\u001b[1;33m.\u001b[0m\u001b[0mtwos\u001b[0m\u001b[1;33m(\u001b[0m\u001b[1;36m3\u001b[0m\u001b[1;33m)\u001b[0m\u001b[1;33m\u001b[0m\u001b[1;33m\u001b[0m\u001b[0m\n\u001b[0m",
      "\u001b[1;32m~\\Anaconda3\\lib\\site-packages\\numpy\\__init__.py\u001b[0m in \u001b[0;36m__getattr__\u001b[1;34m(attr)\u001b[0m\n\u001b[0;32m    301\u001b[0m                 \u001b[1;32mreturn\u001b[0m \u001b[0mTester\u001b[0m\u001b[1;33m\u001b[0m\u001b[1;33m\u001b[0m\u001b[0m\n\u001b[0;32m    302\u001b[0m \u001b[1;33m\u001b[0m\u001b[0m\n\u001b[1;32m--> 303\u001b[1;33m             raise AttributeError(\"module {!r} has no attribute \"\n\u001b[0m\u001b[0;32m    304\u001b[0m                                  \"{!r}\".format(__name__, attr))\n\u001b[0;32m    305\u001b[0m \u001b[1;33m\u001b[0m\u001b[0m\n",
      "\u001b[1;31mAttributeError\u001b[0m: module 'numpy' has no attribute 'twos'"
     ]
    }
   ],
   "source": [
    "np.twos(3)"
   ]
  },
  {
   "cell_type": "code",
   "execution_count": 14,
   "id": "e8e977e2",
   "metadata": {},
   "outputs": [
    {
     "data": {
      "text/plain": [
       "array([0, 1, 2, 3])"
      ]
     },
     "execution_count": 14,
     "metadata": {},
     "output_type": "execute_result"
    }
   ],
   "source": [
    "np.arange(4)"
   ]
  },
  {
   "cell_type": "code",
   "execution_count": 9,
   "id": "8276bbde",
   "metadata": {},
   "outputs": [
    {
     "data": {
      "text/plain": [
       "array([1., 1., 1.])"
      ]
     },
     "execution_count": 9,
     "metadata": {},
     "output_type": "execute_result"
    }
   ],
   "source": [
    "np.empty(3)"
   ]
  },
  {
   "cell_type": "code",
   "execution_count": 11,
   "id": "62ec812e",
   "metadata": {},
   "outputs": [
    {
     "ename": "AttributeError",
     "evalue": "module 'numpy' has no attribute 'arrange'",
     "output_type": "error",
     "traceback": [
      "\u001b[1;31m---------------------------------------------------------------------------\u001b[0m",
      "\u001b[1;31mAttributeError\u001b[0m                            Traceback (most recent call last)",
      "\u001b[1;32m<ipython-input-11-99d6c00ebed3>\u001b[0m in \u001b[0;36m<module>\u001b[1;34m\u001b[0m\n\u001b[1;32m----> 1\u001b[1;33m \u001b[0mprint\u001b[0m\u001b[1;33m(\u001b[0m\u001b[0mnp\u001b[0m\u001b[1;33m.\u001b[0m\u001b[0marrange\u001b[0m\u001b[1;33m(\u001b[0m\u001b[1;36m4\u001b[0m\u001b[1;33m)\u001b[0m\u001b[1;33m)\u001b[0m\u001b[1;33m\u001b[0m\u001b[1;33m\u001b[0m\u001b[0m\n\u001b[0m",
      "\u001b[1;32m~\\Anaconda3\\lib\\site-packages\\numpy\\__init__.py\u001b[0m in \u001b[0;36m__getattr__\u001b[1;34m(attr)\u001b[0m\n\u001b[0;32m    301\u001b[0m                 \u001b[1;32mreturn\u001b[0m \u001b[0mTester\u001b[0m\u001b[1;33m\u001b[0m\u001b[1;33m\u001b[0m\u001b[0m\n\u001b[0;32m    302\u001b[0m \u001b[1;33m\u001b[0m\u001b[0m\n\u001b[1;32m--> 303\u001b[1;33m             raise AttributeError(\"module {!r} has no attribute \"\n\u001b[0m\u001b[0;32m    304\u001b[0m                                  \"{!r}\".format(__name__, attr))\n\u001b[0;32m    305\u001b[0m \u001b[1;33m\u001b[0m\u001b[0m\n",
      "\u001b[1;31mAttributeError\u001b[0m: module 'numpy' has no attribute 'arrange'"
     ]
    }
   ],
   "source": [
    "print(np.arrange(4))"
   ]
  },
  {
   "cell_type": "code",
   "execution_count": 13,
   "id": "1f56a183",
   "metadata": {},
   "outputs": [
    {
     "data": {
      "text/plain": [
       "array([0, 1, 2, 3])"
      ]
     },
     "execution_count": 13,
     "metadata": {},
     "output_type": "execute_result"
    }
   ],
   "source": [
    "np.arange(4)"
   ]
  },
  {
   "cell_type": "code",
   "execution_count": 15,
   "id": "f4c69854",
   "metadata": {},
   "outputs": [],
   "source": [
    "b=np.array([1,2,3,4,5,6,7,8])"
   ]
  },
  {
   "cell_type": "code",
   "execution_count": 16,
   "id": "6b4e4a74",
   "metadata": {},
   "outputs": [
    {
     "data": {
      "text/plain": [
       "array([1, 2, 3, 4, 5, 6, 7, 8, 9, 0])"
      ]
     },
     "execution_count": 16,
     "metadata": {},
     "output_type": "execute_result"
    }
   ],
   "source": [
    "np.append(b,[9,0])"
   ]
  },
  {
   "cell_type": "code",
   "execution_count": 17,
   "id": "aa3f95d5",
   "metadata": {},
   "outputs": [
    {
     "data": {
      "text/plain": [
       "array([1, 2, 4, 5, 6, 7, 8])"
      ]
     },
     "execution_count": 17,
     "metadata": {},
     "output_type": "execute_result"
    }
   ],
   "source": [
    "np.delete(b,2)"
   ]
  },
  {
   "cell_type": "code",
   "execution_count": 18,
   "id": "77f390c8",
   "metadata": {},
   "outputs": [
    {
     "data": {
      "text/plain": [
       "array([1, 2, 3, 4, 5, 6, 7, 8])"
      ]
     },
     "execution_count": 18,
     "metadata": {},
     "output_type": "execute_result"
    }
   ],
   "source": [
    "np.sort(b)"
   ]
  },
  {
   "cell_type": "code",
   "execution_count": 22,
   "id": "205a09a1",
   "metadata": {},
   "outputs": [
    {
     "data": {
      "text/plain": [
       "1"
      ]
     },
     "execution_count": 22,
     "metadata": {},
     "output_type": "execute_result"
    }
   ],
   "source": [
    "b.ndim"
   ]
  },
  {
   "cell_type": "code",
   "execution_count": 23,
   "id": "9ee934bc",
   "metadata": {},
   "outputs": [
    {
     "data": {
      "text/plain": [
       "8"
      ]
     },
     "execution_count": 23,
     "metadata": {},
     "output_type": "execute_result"
    }
   ],
   "source": [
    "b.size"
   ]
  },
  {
   "cell_type": "code",
   "execution_count": 24,
   "id": "fd9726da",
   "metadata": {},
   "outputs": [
    {
     "data": {
      "text/plain": [
       "(8,)"
      ]
     },
     "execution_count": 24,
     "metadata": {},
     "output_type": "execute_result"
    }
   ],
   "source": [
    "b.shape"
   ]
  },
  {
   "cell_type": "code",
   "execution_count": 49,
   "id": "45832f16",
   "metadata": {},
   "outputs": [],
   "source": [
    "c=np.array([[[1,2,4,5],\n",
    "           [6,7,8,9]],\n",
    "           [[10,11,3,12],\n",
    "           [11,12,14,15]],\n",
    "            [[2,3,5,7],\n",
    "            [2,5,3,6]]])"
   ]
  },
  {
   "cell_type": "code",
   "execution_count": 28,
   "id": "5eeab339",
   "metadata": {},
   "outputs": [
    {
     "data": {
      "text/plain": [
       "3"
      ]
     },
     "execution_count": 28,
     "metadata": {},
     "output_type": "execute_result"
    }
   ],
   "source": [
    "c.ndim"
   ]
  },
  {
   "cell_type": "code",
   "execution_count": 29,
   "id": "ec815178",
   "metadata": {},
   "outputs": [
    {
     "data": {
      "text/plain": [
       "24"
      ]
     },
     "execution_count": 29,
     "metadata": {},
     "output_type": "execute_result"
    }
   ],
   "source": [
    "c.size"
   ]
  },
  {
   "cell_type": "code",
   "execution_count": 31,
   "id": "969279c1",
   "metadata": {},
   "outputs": [
    {
     "data": {
      "text/plain": [
       "(3, 2, 4)"
      ]
     },
     "execution_count": 31,
     "metadata": {},
     "output_type": "execute_result"
    }
   ],
   "source": [
    "c.shape"
   ]
  },
  {
   "cell_type": "code",
   "execution_count": 34,
   "id": "4992f5d6",
   "metadata": {},
   "outputs": [],
   "source": [
    "d=c.reshape(4,2,3)"
   ]
  },
  {
   "cell_type": "code",
   "execution_count": 35,
   "id": "181dfa9b",
   "metadata": {},
   "outputs": [
    {
     "name": "stdout",
     "output_type": "stream",
     "text": [
      "[[[ 1  2  4]\n",
      "  [ 5  6  7]]\n",
      "\n",
      " [[ 8  9 10]\n",
      "  [11  3 12]]\n",
      "\n",
      " [[11 12 14]\n",
      "  [15  2  3]]\n",
      "\n",
      " [[ 5  7  2]\n",
      "  [ 5  3  6]]]\n"
     ]
    }
   ],
   "source": [
    "print(d)"
   ]
  },
  {
   "cell_type": "code",
   "execution_count": 36,
   "id": "0a7c6721",
   "metadata": {},
   "outputs": [],
   "source": [
    "e=d[np.newaxis]"
   ]
  },
  {
   "cell_type": "code",
   "execution_count": 37,
   "id": "42f4e092",
   "metadata": {},
   "outputs": [
    {
     "name": "stdout",
     "output_type": "stream",
     "text": [
      "[[[[ 1  2  4]\n",
      "   [ 5  6  7]]\n",
      "\n",
      "  [[ 8  9 10]\n",
      "   [11  3 12]]\n",
      "\n",
      "  [[11 12 14]\n",
      "   [15  2  3]]\n",
      "\n",
      "  [[ 5  7  2]\n",
      "   [ 5  3  6]]]]\n"
     ]
    }
   ],
   "source": [
    "print(e)"
   ]
  },
  {
   "cell_type": "code",
   "execution_count": 38,
   "id": "23f1923e",
   "metadata": {},
   "outputs": [
    {
     "name": "stdout",
     "output_type": "stream",
     "text": [
      "[11 12 11 12 14 15]\n"
     ]
    }
   ],
   "source": [
    "print (e[e>10])"
   ]
  },
  {
   "cell_type": "code",
   "execution_count": 39,
   "id": "3e8b72e1",
   "metadata": {},
   "outputs": [],
   "source": [
    "habisbagi3=e[e%3==0]"
   ]
  },
  {
   "cell_type": "code",
   "execution_count": 40,
   "id": "fc9eaf2b",
   "metadata": {},
   "outputs": [
    {
     "name": "stdout",
     "output_type": "stream",
     "text": [
      "[ 6  9  3 12 12 15  3  3  6]\n"
     ]
    }
   ],
   "source": [
    "print(habisbagi3)"
   ]
  },
  {
   "cell_type": "code",
   "execution_count": 45,
   "id": "dad94ea3",
   "metadata": {},
   "outputs": [
    {
     "data": {
      "text/plain": [
       "array([11, 12, 11, 12, 14, 15,  6,  9,  3, 12, 12, 15,  3,  3,  6])"
      ]
     },
     "execution_count": 45,
     "metadata": {},
     "output_type": "execute_result"
    }
   ],
   "source": [
    "np.hstack((e[e>10], habisbagi3))"
   ]
  },
  {
   "cell_type": "code",
   "execution_count": 46,
   "id": "c299a8fc",
   "metadata": {},
   "outputs": [],
   "source": [
    "#####################"
   ]
  },
  {
   "cell_type": "code",
   "execution_count": 47,
   "id": "268a692e",
   "metadata": {},
   "outputs": [],
   "source": [
    "## BASIC ARRAY OPERATION"
   ]
  },
  {
   "cell_type": "code",
   "execution_count": 51,
   "id": "56d2658f",
   "metadata": {},
   "outputs": [],
   "source": [
    "zeta=np.array([2,35,6,4,2])"
   ]
  },
  {
   "cell_type": "code",
   "execution_count": 52,
   "id": "19a5fec8",
   "metadata": {},
   "outputs": [
    {
     "data": {
      "text/plain": [
       "49"
      ]
     },
     "execution_count": 52,
     "metadata": {},
     "output_type": "execute_result"
    }
   ],
   "source": [
    "zeta.sum()"
   ]
  },
  {
   "cell_type": "code",
   "execution_count": 58,
   "id": "b5ba6d1c",
   "metadata": {},
   "outputs": [],
   "source": [
    "#SHAPE : NDIM berarti menunjukkan dimensi \n",
    "\n",
    "kelas_063 = np.asarray([[1,2,3,5]])\n",
    "kelas_064 = np.asarray([[2,3,4,5]])\n"
   ]
  },
  {
   "cell_type": "code",
   "execution_count": 78,
   "id": "e0c2cbeb",
   "metadata": {},
   "outputs": [],
   "source": [
    "kelas_gabungan= np.concatenate((kelas_063,kelas_064),axis=None)"
   ]
  },
  {
   "cell_type": "code",
   "execution_count": 79,
   "id": "098b73a7",
   "metadata": {},
   "outputs": [
    {
     "name": "stdout",
     "output_type": "stream",
     "text": [
      "[1 2 3 5 2 3 4 5]\n"
     ]
    }
   ],
   "source": [
    "print(kelas_gabungan)"
   ]
  },
  {
   "cell_type": "code",
   "execution_count": 80,
   "id": "bf591bcc",
   "metadata": {},
   "outputs": [],
   "source": [
    "zeta=np.array([2,35,6,4,2])"
   ]
  },
  {
   "cell_type": "code",
   "execution_count": 81,
   "id": "d37a43c3",
   "metadata": {},
   "outputs": [
    {
     "data": {
      "text/plain": [
       "array([ 4, 70, 12,  8,  4])"
      ]
     },
     "execution_count": 81,
     "metadata": {},
     "output_type": "execute_result"
    }
   ],
   "source": [
    "zeta*2"
   ]
  },
  {
   "cell_type": "code",
   "execution_count": 83,
   "id": "9aa99da7",
   "metadata": {},
   "outputs": [
    {
     "data": {
      "text/plain": [
       "35"
      ]
     },
     "execution_count": 83,
     "metadata": {},
     "output_type": "execute_result"
    }
   ],
   "source": [
    "zeta.max()"
   ]
  },
  {
   "cell_type": "code",
   "execution_count": 85,
   "id": "4f473867",
   "metadata": {},
   "outputs": [],
   "source": [
    "zeta2x = zeta*2"
   ]
  },
  {
   "cell_type": "code",
   "execution_count": 86,
   "id": "f7d5baf0",
   "metadata": {},
   "outputs": [
    {
     "data": {
      "text/plain": [
       "70"
      ]
     },
     "execution_count": 86,
     "metadata": {},
     "output_type": "execute_result"
    }
   ],
   "source": [
    "zeta2x.max()"
   ]
  },
  {
   "cell_type": "code",
   "execution_count": 87,
   "id": "e944a068",
   "metadata": {},
   "outputs": [
    {
     "name": "stdout",
     "output_type": "stream",
     "text": [
      "[[[ 1  2  4]\n",
      "  [ 5  6  7]]\n",
      "\n",
      " [[ 8  9 10]\n",
      "  [11  3 12]]\n",
      "\n",
      " [[11 12 14]\n",
      "  [15  2  3]]\n",
      "\n",
      " [[ 5  7  2]\n",
      "  [ 5  3  6]]]\n"
     ]
    }
   ],
   "source": [
    "print(d)"
   ]
  },
  {
   "cell_type": "code",
   "execution_count": 88,
   "id": "25a3e4e1",
   "metadata": {},
   "outputs": [
    {
     "name": "stdout",
     "output_type": "stream",
     "text": [
      "[[1 2 4]\n",
      " [5 6 7]]\n"
     ]
    }
   ],
   "source": [
    "print(d[0])"
   ]
  },
  {
   "cell_type": "code",
   "execution_count": 89,
   "id": "0e60fdff",
   "metadata": {},
   "outputs": [
    {
     "name": "stdout",
     "output_type": "stream",
     "text": [
      "[5 6 7]\n"
     ]
    }
   ],
   "source": [
    "print(d[0,1])"
   ]
  },
  {
   "cell_type": "code",
   "execution_count": 102,
   "id": "5e3b37e8",
   "metadata": {},
   "outputs": [
    {
     "name": "stdout",
     "output_type": "stream",
     "text": [
      "5\n"
     ]
    }
   ],
   "source": [
    "print(d[0,1,0])"
   ]
  },
  {
   "cell_type": "code",
   "execution_count": 91,
   "id": "4de71ee3",
   "metadata": {},
   "outputs": [],
   "source": [
    "x=d.flatten()"
   ]
  },
  {
   "cell_type": "code",
   "execution_count": 92,
   "id": "65975ca0",
   "metadata": {},
   "outputs": [
    {
     "name": "stdout",
     "output_type": "stream",
     "text": [
      "[ 1  2  4  5  6  7  8  9 10 11  3 12 11 12 14 15  2  3  5  7  2  5  3  6]\n"
     ]
    }
   ],
   "source": [
    "print(x)"
   ]
  },
  {
   "cell_type": "code",
   "execution_count": 96,
   "id": "0987ced8",
   "metadata": {},
   "outputs": [],
   "source": [
    "f= np.array([[1,2,4,5],\n",
    "           [6,7,8,9],\n",
    "           [10,11,3,12],\n",
    "           [11,12,14,15],\n",
    "            [2,3,5,7],\n",
    "            [2,5,3,6]])"
   ]
  },
  {
   "cell_type": "code",
   "execution_count": 98,
   "id": "afb56085",
   "metadata": {},
   "outputs": [
    {
     "data": {
      "text/plain": [
       "(6, 4)"
      ]
     },
     "execution_count": 98,
     "metadata": {},
     "output_type": "execute_result"
    }
   ],
   "source": [
    "f.shape"
   ]
  },
  {
   "cell_type": "code",
   "execution_count": 99,
   "id": "00089e15",
   "metadata": {},
   "outputs": [
    {
     "name": "stdout",
     "output_type": "stream",
     "text": [
      "4\n"
     ]
    }
   ],
   "source": [
    "print(f[0,2])"
   ]
  },
  {
   "cell_type": "code",
   "execution_count": null,
   "id": "2277663a",
   "metadata": {},
   "outputs": [],
   "source": []
  }
 ],
 "metadata": {
  "kernelspec": {
   "display_name": "Python 3",
   "language": "python",
   "name": "python3"
  },
  "language_info": {
   "codemirror_mode": {
    "name": "ipython",
    "version": 3
   },
   "file_extension": ".py",
   "mimetype": "text/x-python",
   "name": "python",
   "nbconvert_exporter": "python",
   "pygments_lexer": "ipython3",
   "version": "3.8.8"
  }
 },
 "nbformat": 4,
 "nbformat_minor": 5
}
