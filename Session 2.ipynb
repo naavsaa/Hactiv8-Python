{
 "cells": [
  {
   "cell_type": "code",
   "execution_count": 3,
   "id": "df1cf8b8",
   "metadata": {},
   "outputs": [
    {
     "name": "stdout",
     "output_type": "stream",
     "text": [
      "nilai X lebih kecil dari Y\n",
      "nilai boolean x,y : {y,x}\n"
     ]
    }
   ],
   "source": [
    "#declare var\n",
    "\n",
    "x=0\n",
    "y=5\n",
    "if x<y:\n",
    "    print (\"nilai X lebih kecil dari Y\")\n",
    "    print (\"nilai boolean x,y : {y,x}\")"
   ]
  },
  {
   "cell_type": "code",
   "execution_count": 12,
   "id": "2fdc2c7b",
   "metadata": {},
   "outputs": [
    {
     "ename": "SyntaxError",
     "evalue": "invalid syntax (<ipython-input-12-d1fc07dcc43c>, line 1)",
     "output_type": "error",
     "traceback": [
      "\u001b[1;36m  File \u001b[1;32m\"<ipython-input-12-d1fc07dcc43c>\"\u001b[1;36m, line \u001b[1;32m1\u001b[0m\n\u001b[1;33m    for i\u001b[0m\n\u001b[1;37m         ^\u001b[0m\n\u001b[1;31mSyntaxError\u001b[0m\u001b[1;31m:\u001b[0m invalid syntax\n"
     ]
    }
   ],
   "source": [
    "for i\n",
    "i<=10;i++"
   ]
  },
  {
   "cell_type": "code",
   "execution_count": null,
   "id": "ff4f4339",
   "metadata": {},
   "outputs": [],
   "source": []
  }
 ],
 "metadata": {
  "kernelspec": {
   "display_name": "Python 3",
   "language": "python",
   "name": "python3"
  },
  "language_info": {
   "codemirror_mode": {
    "name": "ipython",
    "version": 3
   },
   "file_extension": ".py",
   "mimetype": "text/x-python",
   "name": "python",
   "nbconvert_exporter": "python",
   "pygments_lexer": "ipython3",
   "version": "3.8.8"
  }
 },
 "nbformat": 4,
 "nbformat_minor": 5
}
