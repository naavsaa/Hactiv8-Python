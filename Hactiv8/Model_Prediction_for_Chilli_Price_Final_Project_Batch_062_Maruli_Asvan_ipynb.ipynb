{
  "cells": [
    {
      "cell_type": "markdown",
      "metadata": {
        "id": "view-in-github",
        "colab_type": "text"
      },
      "source": [
        "<a href=\"https://colab.research.google.com/github/naavsaa/Hactiv8-Python/blob/master/Hactiv8/Model_Prediction_for_Chilli_Price_Final_Project_Batch_062_Maruli_Asvan_ipynb.ipynb\" target=\"_parent\"><img src=\"https://colab.research.google.com/assets/colab-badge.svg\" alt=\"Open In Colab\"/></a>"
      ]
    },
    {
      "cell_type": "markdown",
      "id": "9b187975",
      "metadata": {
        "id": "9b187975"
      },
      "source": [
        "#        MODEL PREDIKSI HARGA CABAI MERAH DI SUMATERA UTARA"
      ]
    },
    {
      "cell_type": "markdown",
      "id": "a613a77d",
      "metadata": {
        "id": "a613a77d"
      },
      "source": [
        "# Briefing and Problem Description"
      ]
    },
    {
      "cell_type": "markdown",
      "id": "cb569664",
      "metadata": {
        "id": "cb569664"
      },
      "source": [
        "Cabai Merah merupakan salah satu komoditas holtikultura yang sangat banyak di gunakan di Indonesia. \n",
        "namun jika melihat pasar, harga cabai merah sangat berfluktuasi tergantung dari banyak kondisi mulai dari demand, kondisi alam, harga bbm untuk distribusi, dan hari raya/hari libur. Harga cabai merah pun berbeda-beda antara 1 daerah dengan daerah lain nya terutama beda provinsi. \n"
      ]
    },
    {
      "cell_type": "markdown",
      "id": "d4845594",
      "metadata": {
        "id": "d4845594"
      },
      "source": [
        "Fluktuasi dari harga ini dapat mengakibatkan petani mendapatkan untung besar atau rugi besar saat harga nya jatuh."
      ]
    },
    {
      "cell_type": "markdown",
      "id": "fffafd99",
      "metadata": {
        "id": "fffafd99"
      },
      "source": [
        "Model ini di tujukan untuk dapat membuat prediksi trend harga cabai merah di sumatera utara, agar petani cabai dapat memprediksi apakah mereka harus mulai menanam, segera panen atau bahkan mempersiapkan untuk mengalihkan distribusi cabai nya ke daerah lain jika di sumatera utara harga nya jatuh"
      ]
    },
    {
      "cell_type": "code",
      "execution_count": 6,
      "id": "d161c42e",
      "metadata": {
        "id": "d161c42e"
      },
      "outputs": [],
      "source": [
        "# Import Packages\n",
        "import pandas as pd\n",
        "import numpy as np\n",
        "import seaborn as sns\n",
        "import matplotlib.pyplot as plt\n",
        "\n",
        "from sklearn import preprocessing\n",
        "from sklearn.preprocessing import LabelEncoder\n",
        "from sklearn.model_selection import train_test_split\n",
        "from sklearn.preprocessing import StandardScaler\n",
        "from sklearn.metrics import classification_report, confusion_matrix, accuracy_score, r2_score"
      ]
    },
    {
      "cell_type": "markdown",
      "id": "29cd2556",
      "metadata": {
        "id": "29cd2556"
      },
      "source": [
        "# Data Read"
      ]
    },
    {
      "cell_type": "markdown",
      "id": "d72217f9",
      "metadata": {
        "id": "d72217f9"
      },
      "source": [
        "Data yang di gunakan merupakan data yang di kumpulkan dari berbagai sumber seperti: siharapanku (sistem harga pangan sumatera utara), raw data iklim bmkg, data harga pupuk dan data produksi cabai dari bps, dan data histori harga bbm solar."
      ]
    },
    {
      "cell_type": "markdown",
      "id": "7e872297",
      "metadata": {
        "id": "7e872297"
      },
      "source": [
        "Adapun data defenisi harga (mahal, normal dan murah) merupakan hasil survey ke pembeli dan petani di level mana harga cabai dapat di kategorikan mahal, normal ataupun murah. berdasarkan survey, didapat range harga normal adalah 29000-35000"
      ]
    },
    {
      "cell_type": "markdown",
      "id": "b57f3461",
      "metadata": {
        "id": "b57f3461"
      },
      "source": [
        "Data yang di dapat adalah data dari tahun 2020-2021"
      ]
    },
    {
      "cell_type": "code",
      "source": [
        "from google.colab import drive   \n",
        "drive.mount('/content/gdrive')\n",
        "%cd /content/gdrive/MyDrive/Colab Notebooks/Dataset/Food"
      ],
      "metadata": {
        "colab": {
          "base_uri": "https://localhost:8080/"
        },
        "id": "smuBpc679wZ4",
        "outputId": "2322b893-bc1f-48b5-cc3c-d37edc39d59d"
      },
      "id": "smuBpc679wZ4",
      "execution_count": 7,
      "outputs": [
        {
          "output_type": "stream",
          "name": "stdout",
          "text": [
            "Drive already mounted at /content/gdrive; to attempt to forcibly remount, call drive.mount(\"/content/gdrive\", force_remount=True).\n",
            "/content/gdrive/MyDrive/Colab Notebooks/Dataset/Food\n"
          ]
        }
      ]
    },
    {
      "cell_type": "code",
      "execution_count": 8,
      "id": "96aa7b49",
      "metadata": {
        "id": "96aa7b49"
      },
      "outputs": [],
      "source": [
        "df= pd.read_excel(\"Dataset Harga Cabai Merah Sumut 2020-2021.xlsx\",header=[0])\n"
      ]
    },
    {
      "cell_type": "code",
      "execution_count": 9,
      "id": "972b518c",
      "metadata": {
        "scrolled": false,
        "colab": {
          "base_uri": "https://localhost:8080/",
          "height": 372
        },
        "id": "972b518c",
        "outputId": "7e855abc-283e-4de4-db36-3c80a8cbe7c5"
      },
      "outputs": [
        {
          "output_type": "execute_result",
          "data": {
            "text/html": [
              "\n",
              "  <div id=\"df-78ce46d8-aef5-46cb-83fb-c716e24fb8ed\">\n",
              "    <div class=\"colab-df-container\">\n",
              "      <div>\n",
              "<style scoped>\n",
              "    .dataframe tbody tr th:only-of-type {\n",
              "        vertical-align: middle;\n",
              "    }\n",
              "\n",
              "    .dataframe tbody tr th {\n",
              "        vertical-align: top;\n",
              "    }\n",
              "\n",
              "    .dataframe thead th {\n",
              "        text-align: right;\n",
              "    }\n",
              "</style>\n",
              "<table border=\"1\" class=\"dataframe\">\n",
              "  <thead>\n",
              "    <tr style=\"text-align: right;\">\n",
              "      <th></th>\n",
              "      <th>Tanggal</th>\n",
              "      <th>Bulan</th>\n",
              "      <th>Libur Nasional</th>\n",
              "      <th>Harga BBM (Solar)</th>\n",
              "      <th>Harga Pupuk Urea per kg</th>\n",
              "      <th>Harga Pupuk SP per kg</th>\n",
              "      <th>Harga Pupuk NPK per kg</th>\n",
              "      <th>Pupuk Organik</th>\n",
              "      <th>Harga Pestisida</th>\n",
              "      <th>Total Produksi Sumut</th>\n",
              "      <th>Total Produksi Nasional</th>\n",
              "      <th>Tn</th>\n",
              "      <th>Tx</th>\n",
              "      <th>Tavg</th>\n",
              "      <th>RH_avg</th>\n",
              "      <th>RR</th>\n",
              "      <th>ss</th>\n",
              "      <th>ff_x</th>\n",
              "      <th>ddd_x</th>\n",
              "      <th>ff_avg</th>\n",
              "      <th>ddd_car</th>\n",
              "      <th>Musim</th>\n",
              "      <th>Harga Cabai Merah</th>\n",
              "      <th>Def Harga</th>\n",
              "    </tr>\n",
              "  </thead>\n",
              "  <tbody>\n",
              "    <tr>\n",
              "      <th>0</th>\n",
              "      <td>2020-01-01</td>\n",
              "      <td>1</td>\n",
              "      <td>Yes</td>\n",
              "      <td>6619</td>\n",
              "      <td>1800</td>\n",
              "      <td>2000</td>\n",
              "      <td>3000</td>\n",
              "      <td>500</td>\n",
              "      <td>NaN</td>\n",
              "      <td>NaN</td>\n",
              "      <td>78383.0</td>\n",
              "      <td>NaN</td>\n",
              "      <td>NaN</td>\n",
              "      <td>NaN</td>\n",
              "      <td>NaN</td>\n",
              "      <td>15.5</td>\n",
              "      <td>NaN</td>\n",
              "      <td>3.0</td>\n",
              "      <td>340.0</td>\n",
              "      <td>2.0</td>\n",
              "      <td>N</td>\n",
              "      <td>Hujan</td>\n",
              "      <td>38000</td>\n",
              "      <td>Mahal</td>\n",
              "    </tr>\n",
              "    <tr>\n",
              "      <th>1</th>\n",
              "      <td>2020-01-02</td>\n",
              "      <td>1</td>\n",
              "      <td>Yes</td>\n",
              "      <td>6619</td>\n",
              "      <td>1800</td>\n",
              "      <td>2000</td>\n",
              "      <td>3000</td>\n",
              "      <td>500</td>\n",
              "      <td>NaN</td>\n",
              "      <td>NaN</td>\n",
              "      <td>78383.0</td>\n",
              "      <td>NaN</td>\n",
              "      <td>NaN</td>\n",
              "      <td>NaN</td>\n",
              "      <td>NaN</td>\n",
              "      <td>15.5</td>\n",
              "      <td>NaN</td>\n",
              "      <td>3.0</td>\n",
              "      <td>340.0</td>\n",
              "      <td>2.0</td>\n",
              "      <td>N</td>\n",
              "      <td>Hujan</td>\n",
              "      <td>38000</td>\n",
              "      <td>Mahal</td>\n",
              "    </tr>\n",
              "    <tr>\n",
              "      <th>2</th>\n",
              "      <td>2020-01-03</td>\n",
              "      <td>1</td>\n",
              "      <td>No</td>\n",
              "      <td>6619</td>\n",
              "      <td>1800</td>\n",
              "      <td>2000</td>\n",
              "      <td>3000</td>\n",
              "      <td>500</td>\n",
              "      <td>NaN</td>\n",
              "      <td>NaN</td>\n",
              "      <td>78383.0</td>\n",
              "      <td>NaN</td>\n",
              "      <td>NaN</td>\n",
              "      <td>NaN</td>\n",
              "      <td>NaN</td>\n",
              "      <td>15.5</td>\n",
              "      <td>NaN</td>\n",
              "      <td>3.0</td>\n",
              "      <td>340.0</td>\n",
              "      <td>2.0</td>\n",
              "      <td>N</td>\n",
              "      <td>Hujan</td>\n",
              "      <td>38000</td>\n",
              "      <td>Mahal</td>\n",
              "    </tr>\n",
              "    <tr>\n",
              "      <th>3</th>\n",
              "      <td>2020-01-04</td>\n",
              "      <td>1</td>\n",
              "      <td>No</td>\n",
              "      <td>6619</td>\n",
              "      <td>1800</td>\n",
              "      <td>2000</td>\n",
              "      <td>3000</td>\n",
              "      <td>500</td>\n",
              "      <td>NaN</td>\n",
              "      <td>NaN</td>\n",
              "      <td>78383.0</td>\n",
              "      <td>NaN</td>\n",
              "      <td>NaN</td>\n",
              "      <td>NaN</td>\n",
              "      <td>NaN</td>\n",
              "      <td>15.5</td>\n",
              "      <td>NaN</td>\n",
              "      <td>3.0</td>\n",
              "      <td>340.0</td>\n",
              "      <td>2.0</td>\n",
              "      <td>N</td>\n",
              "      <td>Hujan</td>\n",
              "      <td>38000</td>\n",
              "      <td>Mahal</td>\n",
              "    </tr>\n",
              "    <tr>\n",
              "      <th>4</th>\n",
              "      <td>2020-01-05</td>\n",
              "      <td>1</td>\n",
              "      <td>No</td>\n",
              "      <td>6619</td>\n",
              "      <td>1800</td>\n",
              "      <td>2000</td>\n",
              "      <td>3000</td>\n",
              "      <td>500</td>\n",
              "      <td>NaN</td>\n",
              "      <td>NaN</td>\n",
              "      <td>78383.0</td>\n",
              "      <td>NaN</td>\n",
              "      <td>NaN</td>\n",
              "      <td>NaN</td>\n",
              "      <td>NaN</td>\n",
              "      <td>15.5</td>\n",
              "      <td>NaN</td>\n",
              "      <td>3.0</td>\n",
              "      <td>340.0</td>\n",
              "      <td>2.0</td>\n",
              "      <td>N</td>\n",
              "      <td>Hujan</td>\n",
              "      <td>38000</td>\n",
              "      <td>Mahal</td>\n",
              "    </tr>\n",
              "  </tbody>\n",
              "</table>\n",
              "</div>\n",
              "      <button class=\"colab-df-convert\" onclick=\"convertToInteractive('df-78ce46d8-aef5-46cb-83fb-c716e24fb8ed')\"\n",
              "              title=\"Convert this dataframe to an interactive table.\"\n",
              "              style=\"display:none;\">\n",
              "        \n",
              "  <svg xmlns=\"http://www.w3.org/2000/svg\" height=\"24px\"viewBox=\"0 0 24 24\"\n",
              "       width=\"24px\">\n",
              "    <path d=\"M0 0h24v24H0V0z\" fill=\"none\"/>\n",
              "    <path d=\"M18.56 5.44l.94 2.06.94-2.06 2.06-.94-2.06-.94-.94-2.06-.94 2.06-2.06.94zm-11 1L8.5 8.5l.94-2.06 2.06-.94-2.06-.94L8.5 2.5l-.94 2.06-2.06.94zm10 10l.94 2.06.94-2.06 2.06-.94-2.06-.94-.94-2.06-.94 2.06-2.06.94z\"/><path d=\"M17.41 7.96l-1.37-1.37c-.4-.4-.92-.59-1.43-.59-.52 0-1.04.2-1.43.59L10.3 9.45l-7.72 7.72c-.78.78-.78 2.05 0 2.83L4 21.41c.39.39.9.59 1.41.59.51 0 1.02-.2 1.41-.59l7.78-7.78 2.81-2.81c.8-.78.8-2.07 0-2.86zM5.41 20L4 18.59l7.72-7.72 1.47 1.35L5.41 20z\"/>\n",
              "  </svg>\n",
              "      </button>\n",
              "      \n",
              "  <style>\n",
              "    .colab-df-container {\n",
              "      display:flex;\n",
              "      flex-wrap:wrap;\n",
              "      gap: 12px;\n",
              "    }\n",
              "\n",
              "    .colab-df-convert {\n",
              "      background-color: #E8F0FE;\n",
              "      border: none;\n",
              "      border-radius: 50%;\n",
              "      cursor: pointer;\n",
              "      display: none;\n",
              "      fill: #1967D2;\n",
              "      height: 32px;\n",
              "      padding: 0 0 0 0;\n",
              "      width: 32px;\n",
              "    }\n",
              "\n",
              "    .colab-df-convert:hover {\n",
              "      background-color: #E2EBFA;\n",
              "      box-shadow: 0px 1px 2px rgba(60, 64, 67, 0.3), 0px 1px 3px 1px rgba(60, 64, 67, 0.15);\n",
              "      fill: #174EA6;\n",
              "    }\n",
              "\n",
              "    [theme=dark] .colab-df-convert {\n",
              "      background-color: #3B4455;\n",
              "      fill: #D2E3FC;\n",
              "    }\n",
              "\n",
              "    [theme=dark] .colab-df-convert:hover {\n",
              "      background-color: #434B5C;\n",
              "      box-shadow: 0px 1px 3px 1px rgba(0, 0, 0, 0.15);\n",
              "      filter: drop-shadow(0px 1px 2px rgba(0, 0, 0, 0.3));\n",
              "      fill: #FFFFFF;\n",
              "    }\n",
              "  </style>\n",
              "\n",
              "      <script>\n",
              "        const buttonEl =\n",
              "          document.querySelector('#df-78ce46d8-aef5-46cb-83fb-c716e24fb8ed button.colab-df-convert');\n",
              "        buttonEl.style.display =\n",
              "          google.colab.kernel.accessAllowed ? 'block' : 'none';\n",
              "\n",
              "        async function convertToInteractive(key) {\n",
              "          const element = document.querySelector('#df-78ce46d8-aef5-46cb-83fb-c716e24fb8ed');\n",
              "          const dataTable =\n",
              "            await google.colab.kernel.invokeFunction('convertToInteractive',\n",
              "                                                     [key], {});\n",
              "          if (!dataTable) return;\n",
              "\n",
              "          const docLinkHtml = 'Like what you see? Visit the ' +\n",
              "            '<a target=\"_blank\" href=https://colab.research.google.com/notebooks/data_table.ipynb>data table notebook</a>'\n",
              "            + ' to learn more about interactive tables.';\n",
              "          element.innerHTML = '';\n",
              "          dataTable['output_type'] = 'display_data';\n",
              "          await google.colab.output.renderOutput(dataTable, element);\n",
              "          const docLink = document.createElement('div');\n",
              "          docLink.innerHTML = docLinkHtml;\n",
              "          element.appendChild(docLink);\n",
              "        }\n",
              "      </script>\n",
              "    </div>\n",
              "  </div>\n",
              "  "
            ],
            "text/plain": [
              "     Tanggal  Bulan Libur Nasional  ...  Musim  Harga Cabai Merah  Def Harga\n",
              "0 2020-01-01      1            Yes  ...  Hujan              38000     Mahal \n",
              "1 2020-01-02      1            Yes  ...  Hujan              38000     Mahal \n",
              "2 2020-01-03      1             No  ...  Hujan              38000     Mahal \n",
              "3 2020-01-04      1             No  ...  Hujan              38000     Mahal \n",
              "4 2020-01-05      1             No  ...  Hujan              38000     Mahal \n",
              "\n",
              "[5 rows x 24 columns]"
            ]
          },
          "metadata": {},
          "execution_count": 9
        }
      ],
      "source": [
        "df.head()"
      ]
    },
    {
      "cell_type": "markdown",
      "id": "9c79a3c7",
      "metadata": {
        "id": "9c79a3c7"
      },
      "source": [
        "# Data Cleansing"
      ]
    },
    {
      "cell_type": "code",
      "execution_count": 10,
      "id": "7cc3e68e",
      "metadata": {
        "colab": {
          "base_uri": "https://localhost:8080/"
        },
        "id": "7cc3e68e",
        "outputId": "5928b71b-c98e-40bb-8c9c-d66ec3651e40"
      },
      "outputs": [
        {
          "output_type": "stream",
          "name": "stdout",
          "text": [
            "<class 'pandas.core.frame.DataFrame'>\n",
            "RangeIndex: 725 entries, 0 to 724\n",
            "Data columns (total 24 columns):\n",
            " #   Column                   Non-Null Count  Dtype         \n",
            "---  ------                   --------------  -----         \n",
            " 0   Tanggal                  725 non-null    datetime64[ns]\n",
            " 1   Bulan                    725 non-null    int64         \n",
            " 2   Libur Nasional           725 non-null    object        \n",
            " 3   Harga BBM (Solar)        725 non-null    int64         \n",
            " 4   Harga Pupuk Urea per kg  725 non-null    int64         \n",
            " 5   Harga Pupuk SP per kg    725 non-null    int64         \n",
            " 6   Harga Pupuk NPK per kg   725 non-null    int64         \n",
            " 7   Pupuk Organik            725 non-null    int64         \n",
            " 8   Harga Pestisida          0 non-null      float64       \n",
            " 9   Total Produksi Sumut     0 non-null      float64       \n",
            " 10  Total Produksi Nasional  725 non-null    float64       \n",
            " 11  Tn                       538 non-null    float64       \n",
            " 12  Tx                       0 non-null      float64       \n",
            " 13  Tavg                     0 non-null      float64       \n",
            " 14  RH_avg                   0 non-null      float64       \n",
            " 15  RR                       688 non-null    float64       \n",
            " 16  ss                       1 non-null      float64       \n",
            " 17  ff_x                     717 non-null    float64       \n",
            " 18  ddd_x                    717 non-null    float64       \n",
            " 19  ff_avg                   717 non-null    float64       \n",
            " 20  ddd_car                  717 non-null    object        \n",
            " 21  Musim                    719 non-null    object        \n",
            " 22  Harga Cabai Merah        725 non-null    int64         \n",
            " 23  Def Harga                725 non-null    object        \n",
            "dtypes: datetime64[ns](1), float64(12), int64(7), object(4)\n",
            "memory usage: 136.1+ KB\n"
          ]
        }
      ],
      "source": [
        "df.info()"
      ]
    },
    {
      "cell_type": "markdown",
      "id": "2019dbec",
      "metadata": {
        "id": "2019dbec"
      },
      "source": [
        "Note from BMKG data:\n",
        "8888: data tidak terukur; \n",
        "9999: Tidak Ada Data (tidak dilakukan pengukuran);\n",
        "\"Tn: Temperatur minimum\t (°C)\";\n",
        "Tx: Temperatur maksimum (°C);\n",
        "Tavg: Temperatur rata-rata (°C);\n",
        "RH_avg: Kelembapan rata-rata (%);\n",
        "RR: Curah hujan (mm);\n",
        "ss: Lamanya penyinaran matahari (jam);\n",
        "ff_x: Kecepatan angin maksimum (m/s);\n",
        "ddd_x: Arah angin saat kecepatan maksimum (°);\n",
        "ff_avg: Kecepatan angin rata-rata (m/s);\n",
        "ddd_car: Arah angin terbanyak (°);"
      ]
    },
    {
      "cell_type": "code",
      "execution_count": 11,
      "id": "680cf2ee",
      "metadata": {
        "id": "680cf2ee"
      },
      "outputs": [],
      "source": [
        "# Replace some of the column name\n",
        "df = df.rename({'Tn': 'Temp min','Tx':'Temp max', 'Tavg': 'Temp rata-rata','RR': 'Curah hujan',\n",
        "                'ss':'Lamanya matahari', 'ff_x': 'Kecepatan angin max', 'ddd_x': 'Arah angin',\n",
        "                'ff_avg': 'Kecepatan angin avg','ddd_car': 'Arah angin max'}, axis=1)"
      ]
    },
    {
      "cell_type": "code",
      "execution_count": 12,
      "id": "16071b1d",
      "metadata": {
        "id": "16071b1d"
      },
      "outputs": [],
      "source": [
        "# Remove column that has no data\n",
        "df=df.drop(['Harga Pestisida'],axis=1)\n",
        "df=df.drop(['Total Produksi Sumut'],axis=1)\n",
        "df=df.drop(['Temp max'],axis=1)\n",
        "df=df.drop(['Temp rata-rata'],axis=1)\n",
        "df=df.drop(['RH_avg'],axis=1)\n",
        "df=df.drop(['Lamanya matahari'],axis=1)"
      ]
    },
    {
      "cell_type": "code",
      "execution_count": 13,
      "id": "69fb17a8",
      "metadata": {
        "id": "69fb17a8"
      },
      "outputs": [],
      "source": [
        "# Replace value 8888 and 9999 in BMKG data with previous value\n",
        "df=df.replace('8888', np.nan)\n",
        "df=df.replace('9999', np.nan)"
      ]
    },
    {
      "cell_type": "code",
      "execution_count": 14,
      "id": "e3a10339",
      "metadata": {
        "id": "e3a10339"
      },
      "outputs": [],
      "source": [
        "#Fill blank data in BMKG data by previous value\n",
        "df['Temp min'].fillna(method='ffill', inplace=True)\n",
        "df['Temp min'].fillna(method='bfill', inplace=True)\n",
        "df['Curah hujan'].fillna(method='ffill', inplace=True)\n",
        "df['Kecepatan angin max'].fillna(method='ffill', inplace=True)\n",
        "df['Arah angin'].fillna(method='ffill', inplace=True)\n",
        "df['Kecepatan angin avg'].fillna(method='ffill', inplace=True)\n",
        "df['Arah angin max'].fillna(method='ffill', inplace=True)"
      ]
    },
    {
      "cell_type": "code",
      "execution_count": 15,
      "id": "df161930",
      "metadata": {
        "colab": {
          "base_uri": "https://localhost:8080/"
        },
        "id": "df161930",
        "outputId": "cd22f415-98e0-4206-b624-9cdbc37885a3"
      },
      "outputs": [
        {
          "output_type": "execute_result",
          "data": {
            "text/plain": [
              "array(['Yes', 'No'], dtype=object)"
            ]
          },
          "metadata": {},
          "execution_count": 15
        }
      ],
      "source": [
        "# Check Libur Nasional Column\n",
        "df['Libur Nasional'].unique()"
      ]
    },
    {
      "cell_type": "code",
      "execution_count": 16,
      "id": "338d35fe",
      "metadata": {
        "id": "338d35fe"
      },
      "outputs": [],
      "source": [
        "#Change Column Libur National, Yes=1 and No=0\n",
        "df['Libur Nasional']=df['Libur Nasional'].replace('Yes', 1)\n",
        "df['Libur Nasional']=df['Libur Nasional'].replace('No', 0)"
      ]
    },
    {
      "cell_type": "code",
      "execution_count": 17,
      "id": "b0ba5bf1",
      "metadata": {
        "colab": {
          "base_uri": "https://localhost:8080/"
        },
        "id": "b0ba5bf1",
        "outputId": "7dc1b1dc-a098-4da6-b2da-9e83e12db824"
      },
      "outputs": [
        {
          "output_type": "execute_result",
          "data": {
            "text/plain": [
              "array(['Mahal ', 'Normal', 'Murah'], dtype=object)"
            ]
          },
          "metadata": {},
          "execution_count": 17
        }
      ],
      "source": [
        "df['Def Harga'].unique()"
      ]
    },
    {
      "cell_type": "code",
      "execution_count": 18,
      "id": "465e5312",
      "metadata": {
        "id": "465e5312"
      },
      "outputs": [],
      "source": [
        "#Change Column Def Harga, Murah=0, Normal=1 and Mahal=2\n",
        "df['Def Harga']=df['Def Harga'].replace('Murah', 0)\n",
        "df['Def Harga']=df['Def Harga'].replace('Normal', 1)\n",
        "df['Def Harga']=df['Def Harga'].replace('Mahal ', 2)"
      ]
    },
    {
      "cell_type": "code",
      "execution_count": 19,
      "id": "746505da",
      "metadata": {
        "id": "746505da"
      },
      "outputs": [],
      "source": [
        "# Encode labels of column with data type:object.\n",
        "\n",
        "label_encoder = preprocessing.LabelEncoder()\n",
        "\n",
        "df['Arah angin max']= label_encoder.fit_transform(df['Arah angin max'])\n",
        "df['Musim']= label_encoder.fit_transform(df['Musim'])"
      ]
    },
    {
      "cell_type": "code",
      "execution_count": 20,
      "id": "947d5a23",
      "metadata": {
        "id": "947d5a23"
      },
      "outputs": [],
      "source": [
        "# Set Date as Index\n",
        "df=df.set_index('Tanggal')"
      ]
    },
    {
      "cell_type": "code",
      "execution_count": 21,
      "id": "ea4d5858",
      "metadata": {
        "colab": {
          "base_uri": "https://localhost:8080/"
        },
        "id": "ea4d5858",
        "outputId": "c47b67bb-dd9d-427b-c4e4-80ca7be9ceec"
      },
      "outputs": [
        {
          "output_type": "execute_result",
          "data": {
            "text/plain": [
              "Bulan                      0\n",
              "Libur Nasional             0\n",
              "Harga BBM (Solar)          0\n",
              "Harga Pupuk Urea per kg    0\n",
              "Harga Pupuk SP per kg      0\n",
              "Harga Pupuk NPK per kg     0\n",
              "Pupuk Organik              0\n",
              "Total Produksi Nasional    0\n",
              "Temp min                   0\n",
              "Curah hujan                0\n",
              "Kecepatan angin max        0\n",
              "Arah angin                 0\n",
              "Kecepatan angin avg        0\n",
              "Arah angin max             0\n",
              "Musim                      0\n",
              "Harga Cabai Merah          0\n",
              "Def Harga                  0\n",
              "dtype: int64"
            ]
          },
          "metadata": {},
          "execution_count": 21
        }
      ],
      "source": [
        "# Check if there still nan value in dataset\n",
        "df.isna().sum()"
      ]
    },
    {
      "cell_type": "markdown",
      "id": "1b299d5a",
      "metadata": {
        "id": "1b299d5a"
      },
      "source": [
        "# Data Exploratory"
      ]
    },
    {
      "cell_type": "code",
      "execution_count": 22,
      "id": "aaa5cba5",
      "metadata": {
        "scrolled": true,
        "colab": {
          "base_uri": "https://localhost:8080/",
          "height": 386
        },
        "id": "aaa5cba5",
        "outputId": "13d2ac7c-8702-411a-8fe5-850aa7f08115"
      },
      "outputs": [
        {
          "output_type": "execute_result",
          "data": {
            "text/plain": [
              "<seaborn.axisgrid.FacetGrid at 0x7f5a26f58810>"
            ]
          },
          "metadata": {},
          "execution_count": 22
        },
        {
          "output_type": "display_data",
          "data": {
            "image/png": "[encoded data removed]",
            "text/plain": [
              "<Figure size 360x360 with 1 Axes>"
            ]
          },
          "metadata": {
            "needs_background": "light"
          }
        }
      ],
      "source": [
        "# Plot Histogram dari Harga Cabai di Sumatera Utara\n",
        "Graph_Price= sns.displot(df['Harga Cabai Merah'], bins=100, kde=True,color='blue')\n",
        "Graph_Price.set(xlabel=\"Price\", ylabel=\"Frequency\")"
      ]
    },
    {
      "cell_type": "code",
      "execution_count": 23,
      "id": "da277465",
      "metadata": {
        "scrolled": false,
        "colab": {
          "base_uri": "https://localhost:8080/",
          "height": 378
        },
        "id": "da277465",
        "outputId": "a97b2a3d-5d02-4e95-e9a6-d528c18864ad"
      },
      "outputs": [
        {
          "output_type": "execute_result",
          "data": {
            "text/plain": [
              "Text(0.5, 0, 'Tanggal')"
            ]
          },
          "metadata": {},
          "execution_count": 23
        },
        {
          "output_type": "display_data",
          "data": {
            "image/png": "[encoded data removed]",
            "text/plain": [
              "<Figure size 720x360 with 1 Axes>"
            ]
          },
          "metadata": {
            "needs_background": "light"
          }
        }
      ],
      "source": [
        "df['Harga Cabai Merah'].plot(figsize=(10,5))\n",
        "plt.title('Trend Harga Cabai Merah di Sumatera Utara')\n",
        "plt.ylabel('Harga')\n",
        "plt.xlabel('Tanggal')"
      ]
    },
    {
      "cell_type": "code",
      "execution_count": 24,
      "id": "0c2cafe9",
      "metadata": {
        "colab": {
          "base_uri": "https://localhost:8080/"
        },
        "id": "0c2cafe9",
        "outputId": "b6e12a34-60bc-4b19-d4eb-3e5e36980413"
      },
      "outputs": [
        {
          "output_type": "execute_result",
          "data": {
            "text/plain": [
              "count      725.0\n",
              "mean     31825.0\n",
              "std       7266.0\n",
              "min      18000.0\n",
              "25%      26000.0\n",
              "50%      30000.0\n",
              "75%      38000.0\n",
              "max      54000.0\n",
              "Name: Harga Cabai Merah, dtype: float64"
            ]
          },
          "metadata": {},
          "execution_count": 24
        }
      ],
      "source": [
        "round(df['Harga Cabai Merah'].describe(),0)"
      ]
    },
    {
      "cell_type": "code",
      "execution_count": 25,
      "id": "4f590643",
      "metadata": {
        "scrolled": true,
        "colab": {
          "base_uri": "https://localhost:8080/",
          "height": 386
        },
        "id": "4f590643",
        "outputId": "a60db9c7-59c9-47a3-90d9-47fe3b679b10"
      },
      "outputs": [
        {
          "output_type": "execute_result",
          "data": {
            "text/plain": [
              "<seaborn.axisgrid.FacetGrid at 0x7f5a1cb609d0>"
            ]
          },
          "metadata": {},
          "execution_count": 25
        },
        {
          "output_type": "display_data",
          "data": {
            "image/png": "[encoded data removed]",
            "text/plain": [
              "<Figure size 360x360 with 1 Axes>"
            ]
          },
          "metadata": {
            "needs_background": "light"
          }
        }
      ],
      "source": [
        "Graph_def_Price= sns.displot(df['Def Harga'], bins=100, kde=True,color='blue')\n",
        "Graph_def_Price.set(xlabel=\"Price\", ylabel=\"Frequency\")"
      ]
    },
    {
      "cell_type": "markdown",
      "id": "73e6a36c",
      "metadata": {
        "id": "73e6a36c"
      },
      "source": [
        "Murah=0, Normal=1 and Mahal=2"
      ]
    },
    {
      "cell_type": "markdown",
      "id": "887c12ea",
      "metadata": {
        "id": "887c12ea"
      },
      "source": [
        "Semua defenisi harga memiliki distribusi yang cukup merata"
      ]
    },
    {
      "cell_type": "markdown",
      "id": "70a41069",
      "metadata": {
        "id": "70a41069"
      },
      "source": [
        "# Split Data: Data Train & Data Test"
      ]
    },
    {
      "cell_type": "code",
      "execution_count": 26,
      "id": "5dfdede2",
      "metadata": {
        "id": "5dfdede2"
      },
      "outputs": [],
      "source": [
        "# Define x, y and z\n",
        "x = df.loc[:, df.columns != 'Harga Cabai Merah']\n",
        "x = x.drop(['Def Harga'],axis=1)\n",
        "y = df.loc[:, df.columns == 'Harga Cabai Merah']\n",
        "\n",
        "x2 = df.loc[:, df.columns != 'Def Harga']\n",
        "z = df.loc[:, df.columns == 'Def Harga']"
      ]
    },
    {
      "cell_type": "code",
      "execution_count": 27,
      "id": "bbde5d18",
      "metadata": {
        "id": "bbde5d18"
      },
      "outputs": [],
      "source": [
        "# Data Split into Data Train and Data Test\n",
        "x_train, x_test, y_train, y_test = train_test_split(x,y,test_size=0.3, random_state=0)"
      ]
    },
    {
      "cell_type": "code",
      "execution_count": 28,
      "id": "81e58ca1",
      "metadata": {
        "id": "81e58ca1"
      },
      "outputs": [],
      "source": [
        "x2_train, x2_test, z_train, z_test = train_test_split(x2, z,test_size=0.3, random_state=0,stratify=z)"
      ]
    },
    {
      "cell_type": "code",
      "execution_count": 29,
      "id": "3695a3fb",
      "metadata": {
        "id": "3695a3fb"
      },
      "outputs": [],
      "source": [
        "# Standarization\n",
        "scaler= StandardScaler()\n",
        "x_train = scaler.fit_transform(x_train)\n",
        "x_test= scaler.fit_transform(x_test)"
      ]
    },
    {
      "cell_type": "code",
      "execution_count": 30,
      "id": "84553740",
      "metadata": {
        "scrolled": true,
        "id": "84553740"
      },
      "outputs": [],
      "source": [
        "x2_train = scaler.fit_transform(x_train)\n",
        "x2_test= scaler.fit_transform(x_test)"
      ]
    },
    {
      "cell_type": "markdown",
      "id": "e2bb01f7",
      "metadata": {
        "id": "e2bb01f7"
      },
      "source": [
        "# Model with Linear Regression"
      ]
    },
    {
      "cell_type": "code",
      "execution_count": 31,
      "id": "39a4605e",
      "metadata": {
        "id": "39a4605e"
      },
      "outputs": [],
      "source": [
        "from sklearn.linear_model import LinearRegression"
      ]
    },
    {
      "cell_type": "code",
      "execution_count": 32,
      "id": "8c51e092",
      "metadata": {
        "id": "8c51e092"
      },
      "outputs": [],
      "source": [
        "model_LR = LinearRegression()"
      ]
    },
    {
      "cell_type": "code",
      "execution_count": 33,
      "id": "2e130b70",
      "metadata": {
        "colab": {
          "base_uri": "https://localhost:8080/"
        },
        "id": "2e130b70",
        "outputId": "7e08218e-ada0-4838-f641-f4c6e2417bab"
      },
      "outputs": [
        {
          "output_type": "execute_result",
          "data": {
            "text/plain": [
              "LinearRegression()"
            ]
          },
          "metadata": {},
          "execution_count": 33
        }
      ],
      "source": [
        "model_LR.fit(x_train, y_train)"
      ]
    },
    {
      "cell_type": "code",
      "execution_count": 34,
      "id": "21aa240f",
      "metadata": {
        "id": "21aa240f"
      },
      "outputs": [],
      "source": [
        "LR_pred = model_LR.predict(x_test)"
      ]
    },
    {
      "cell_type": "code",
      "execution_count": 35,
      "id": "780d0549",
      "metadata": {
        "id": "780d0549"
      },
      "outputs": [],
      "source": [
        "LR= y_test.copy()\n",
        "LR.loc[:, ('Prediction')]=LR_pred\n",
        "LR = LR.rename({'Harga Cabai Merah': 'Actual'}, axis=1)"
      ]
    },
    {
      "cell_type": "code",
      "execution_count": 36,
      "id": "31dd8d40",
      "metadata": {
        "colab": {
          "base_uri": "https://localhost:8080/",
          "height": 0
        },
        "id": "31dd8d40",
        "outputId": "b1f51958-5c99-4866-bc78-347cf27bae1e"
      },
      "outputs": [
        {
          "output_type": "execute_result",
          "data": {
            "text/plain": [
              "Text(0.5, 0, 'Tanggal')"
            ]
          },
          "metadata": {},
          "execution_count": 36
        },
        {
          "output_type": "display_data",
          "data": {
            "image/png": "[encoded data removed]",
            "text/plain": [
              "<Figure size 720x360 with 1 Axes>"
            ]
          },
          "metadata": {
            "needs_background": "light"
          }
        }
      ],
      "source": [
        "# Plot Prediction vs Actual\n",
        "LR.plot(marker='o' , figsize=(10,5))\n",
        "plt.title('Prediction vs Actual')\n",
        "plt.ylabel('Harga')\n",
        "plt.xlabel('Tanggal')"
      ]
    },
    {
      "cell_type": "code",
      "execution_count": 37,
      "id": "352905b8",
      "metadata": {
        "colab": {
          "base_uri": "https://localhost:8080/"
        },
        "id": "352905b8",
        "outputId": "24237312-ae75-49e8-8ef1-88378149f75e"
      },
      "outputs": [
        {
          "output_type": "stream",
          "name": "stdout",
          "text": [
            "Correlation dari prediksi vs actual= 0.08\n"
          ]
        }
      ],
      "source": [
        "#Correlation from prediction vs actual\n",
        "print(\"Correlation dari prediksi vs actual=\",round(r2_score(LR['Actual'], LR['Prediction']),2))"
      ]
    },
    {
      "cell_type": "markdown",
      "id": "c1c5a4c1",
      "metadata": {
        "id": "c1c5a4c1"
      },
      "source": [
        "Dengan menggunakan simple linear regression, model yang di hasilkan memiliki korelasi yang sangat buruk. Maka dari itu di perlukan model lain yang dapat menghasilkan korelasi yang tinggi."
      ]
    },
    {
      "cell_type": "markdown",
      "id": "b659bcc0",
      "metadata": {
        "id": "b659bcc0"
      },
      "source": [
        "# Model with KNN Regression"
      ]
    },
    {
      "cell_type": "markdown",
      "id": "4d390538",
      "metadata": {
        "id": "4d390538"
      },
      "source": [
        "**Model Training"
      ]
    },
    {
      "cell_type": "code",
      "execution_count": 38,
      "id": "bed3a66d",
      "metadata": {
        "id": "bed3a66d"
      },
      "outputs": [],
      "source": [
        "from sklearn import neighbors\n",
        "from sklearn.neighbors import KNeighborsClassifier\n",
        "from sklearn.model_selection import GridSearchCV"
      ]
    },
    {
      "cell_type": "markdown",
      "id": "f58dd0fe",
      "metadata": {
        "id": "f58dd0fe"
      },
      "source": [
        "Modeling Features and Harga (Number)"
      ]
    },
    {
      "cell_type": "code",
      "execution_count": 39,
      "id": "ca8b6baa",
      "metadata": {
        "id": "ca8b6baa"
      },
      "outputs": [],
      "source": [
        "#using gridsearch to find the best parameter\n",
        "params = {'n_neighbors':[2,3,4,5,6,7,8,9]}\n",
        "knn = neighbors.KNeighborsRegressor()\n",
        "model_knn = GridSearchCV(knn, params, cv=5)"
      ]
    },
    {
      "cell_type": "code",
      "execution_count": 40,
      "id": "9f7afc45",
      "metadata": {
        "colab": {
          "base_uri": "https://localhost:8080/"
        },
        "id": "9f7afc45",
        "outputId": "c9448ad5-08d4-4dcf-c4ff-e637ea647f1d"
      },
      "outputs": [
        {
          "output_type": "execute_result",
          "data": {
            "text/plain": [
              "GridSearchCV(cv=5, estimator=KNeighborsRegressor(),\n",
              "             param_grid={'n_neighbors': [2, 3, 4, 5, 6, 7, 8, 9]})"
            ]
          },
          "metadata": {},
          "execution_count": 40
        }
      ],
      "source": [
        "model_knn.fit(x_train,y_train)\n"
      ]
    },
    {
      "cell_type": "code",
      "execution_count": 41,
      "id": "28b22c93",
      "metadata": {
        "id": "28b22c93"
      },
      "outputs": [],
      "source": [
        "y_pred = model_knn.predict(x_test)"
      ]
    },
    {
      "cell_type": "markdown",
      "id": "bec77cac",
      "metadata": {
        "id": "bec77cac"
      },
      "source": [
        "**Prediction Trend"
      ]
    },
    {
      "cell_type": "code",
      "execution_count": 42,
      "id": "281be3ab",
      "metadata": {
        "scrolled": false,
        "id": "281be3ab"
      },
      "outputs": [],
      "source": [
        "knn= y_test.copy()\n",
        "knn.loc[:, ('Prediction')]=y_pred\n",
        "knn = knn.rename({'Harga Cabai Merah': 'Actual','y_pred':'Predicition'}, axis=1)"
      ]
    },
    {
      "cell_type": "code",
      "execution_count": 43,
      "id": "96dbbf1a",
      "metadata": {
        "scrolled": true,
        "colab": {
          "base_uri": "https://localhost:8080/",
          "height": 0
        },
        "id": "96dbbf1a",
        "outputId": "084cf2f8-8e40-43a9-8e82-e24a69cf7552"
      },
      "outputs": [
        {
          "output_type": "execute_result",
          "data": {
            "text/plain": [
              "Text(0.5, 0, 'Tanggal')"
            ]
          },
          "metadata": {},
          "execution_count": 43
        },
        {
          "output_type": "display_data",
          "data": {
            "image/png": "[encoded data removed]",
            "text/plain": [
              "<Figure size 720x360 with 1 Axes>"
            ]
          },
          "metadata": {
            "needs_background": "light"
          }
        }
      ],
      "source": [
        "# Plot Prediction vs Actual\n",
        "knn.plot(marker='o' , figsize=(10,5))\n",
        "plt.title('Prediction vs Actual')\n",
        "plt.ylabel('Harga')\n",
        "plt.xlabel('Tanggal')\n"
      ]
    },
    {
      "cell_type": "code",
      "execution_count": 44,
      "id": "10b02eff",
      "metadata": {
        "colab": {
          "base_uri": "https://localhost:8080/",
          "height": 0
        },
        "id": "10b02eff",
        "outputId": "ddebc7b4-84a7-438f-960b-6aa4f4fb6c78"
      },
      "outputs": [
        {
          "output_type": "display_data",
          "data": {
            "image/png": "[encoded data removed]",
            "text/plain": [
              "<Figure size 432x288 with 1 Axes>"
            ]
          },
          "metadata": {
            "needs_background": "light"
          }
        }
      ],
      "source": [
        "\n",
        "lineStart = knn['Actual'].min() \n",
        "lineEnd = knn['Actual'].max()\n",
        "\n",
        "plt.figure()\n",
        "plt.scatter(knn['Actual'], knn['Prediction'], alpha=0.5)\n",
        "plt.plot([lineStart, lineEnd], [lineStart, lineEnd], 'k-', color = 'r')\n",
        "plt.xlim(lineStart, lineEnd)\n",
        "plt.ylim(lineStart, lineEnd)\n",
        "plt.show()"
      ]
    },
    {
      "cell_type": "code",
      "execution_count": 45,
      "id": "5019498a",
      "metadata": {
        "scrolled": true,
        "colab": {
          "base_uri": "https://localhost:8080/"
        },
        "id": "5019498a",
        "outputId": "1093f41c-3faa-4724-a309-a9e6e76bcad2"
      },
      "outputs": [
        {
          "output_type": "stream",
          "name": "stdout",
          "text": [
            "Correlation dari prediksi vs actual= 0.68\n"
          ]
        }
      ],
      "source": [
        "#Correlation from prediction vs actual\n",
        "print(\"Correlation dari prediksi vs actual=\",round(r2_score(knn['Actual'], knn['Prediction']),2))"
      ]
    },
    {
      "cell_type": "markdown",
      "id": "70c413c0",
      "metadata": {
        "id": "70c413c0"
      },
      "source": [
        "dengan menggunakan model KNN regression, didapat korelasi 0,67 dan visualisasi dari trend terlihat cukup bagus, namun kita akan mencoba model lain dengan hasil korelasi yang lebih tinggi lagi"
      ]
    },
    {
      "cell_type": "markdown",
      "id": "ff02d856",
      "metadata": {
        "id": "ff02d856"
      },
      "source": [
        "# Model with SVR Method"
      ]
    },
    {
      "cell_type": "code",
      "execution_count": 46,
      "id": "d17e13c2",
      "metadata": {
        "id": "d17e13c2"
      },
      "outputs": [],
      "source": [
        "x3=x.copy()\n",
        "y3=y.copy()\n",
        "x3_train=x_train.copy()\n",
        "x3_test=x_test.copy()\n",
        "y3_train=y_train.copy()\n",
        "y3_test=y_test.copy()"
      ]
    },
    {
      "cell_type": "code",
      "execution_count": 47,
      "id": "7f88c74e",
      "metadata": {
        "id": "7f88c74e"
      },
      "outputs": [],
      "source": [
        "from sklearn.svm import SVR\n",
        "from sklearn.svm import NuSVR\n",
        "from sklearn.pipeline import make_pipeline"
      ]
    },
    {
      "cell_type": "code",
      "execution_count": 48,
      "id": "d1566b4b",
      "metadata": {
        "scrolled": false,
        "colab": {
          "base_uri": "https://localhost:8080/"
        },
        "id": "d1566b4b",
        "outputId": "264850bf-4a3d-4b49-e6c3-10c451a685d4"
      },
      "outputs": [
        {
          "output_type": "execute_result",
          "data": {
            "text/plain": [
              "SVR(C=15, kernel='linear')"
            ]
          },
          "metadata": {},
          "execution_count": 48
        }
      ],
      "source": [
        "model_svr = SVR(kernel = 'linear', C=15)\n",
        "model_svr.fit(x3_train, y3_train['Harga Cabai Merah'])"
      ]
    },
    {
      "cell_type": "code",
      "execution_count": 49,
      "id": "d96bd87e",
      "metadata": {
        "id": "d96bd87e"
      },
      "outputs": [],
      "source": [
        "y3_pred = model_svr.predict(x3_test)"
      ]
    },
    {
      "cell_type": "code",
      "execution_count": 50,
      "id": "20b25105",
      "metadata": {
        "id": "20b25105"
      },
      "outputs": [],
      "source": [
        "svr= y3_test.copy()\n",
        "svr.loc[:, ('Prediction')]=y3_pred\n",
        "svr = svr.rename({'Harga Cabai Merah': 'Actual','y_pred':'Predicition'}, axis=1)"
      ]
    },
    {
      "cell_type": "code",
      "execution_count": 51,
      "id": "90763988",
      "metadata": {
        "colab": {
          "base_uri": "https://localhost:8080/",
          "height": 0
        },
        "id": "90763988",
        "outputId": "0262293a-3538-4dc1-f9df-4b69c2ff27bc"
      },
      "outputs": [
        {
          "output_type": "execute_result",
          "data": {
            "text/plain": [
              "Text(0.5, 0, 'Tanggal')"
            ]
          },
          "metadata": {},
          "execution_count": 51
        },
        {
          "output_type": "display_data",
          "data": {
            "image/png": "[encoded data removed]",
            "text/plain": [
              "<Figure size 720x360 with 1 Axes>"
            ]
          },
          "metadata": {
            "needs_background": "light"
          }
        }
      ],
      "source": [
        "# Plot Prediction vs Actual\n",
        "svr.plot(marker='o' , figsize=(10,5))\n",
        "plt.title('Prediction vs Actual')\n",
        "plt.ylabel('Harga')\n",
        "plt.xlabel('Tanggal')"
      ]
    },
    {
      "cell_type": "markdown",
      "id": "0ed902aa",
      "metadata": {
        "id": "0ed902aa"
      },
      "source": [
        "# Model with Random Forest Regressor"
      ]
    },
    {
      "cell_type": "code",
      "execution_count": 52,
      "id": "ad962202",
      "metadata": {
        "id": "ad962202"
      },
      "outputs": [],
      "source": [
        "x4=x.copy()\n",
        "y4=y.copy()\n",
        "x4_train=x_train.copy()\n",
        "x4_test=x_test.copy()\n",
        "y4_train=y_train.copy()\n",
        "y4_test=y_test.copy()"
      ]
    },
    {
      "cell_type": "code",
      "execution_count": 53,
      "id": "494b14cc",
      "metadata": {
        "id": "494b14cc"
      },
      "outputs": [],
      "source": [
        "from sklearn.ensemble import RandomForestRegressor"
      ]
    },
    {
      "cell_type": "code",
      "execution_count": 54,
      "id": "e6018ebe",
      "metadata": {
        "scrolled": true,
        "colab": {
          "base_uri": "https://localhost:8080/"
        },
        "id": "e6018ebe",
        "outputId": "42b3f80d-10b1-4611-ca50-1ad80af01bcd"
      },
      "outputs": [
        {
          "output_type": "execute_result",
          "data": {
            "text/plain": [
              "RandomForestRegressor(max_depth=5)"
            ]
          },
          "metadata": {},
          "execution_count": 54
        }
      ],
      "source": [
        "model_rfr = RandomForestRegressor(max_depth=5)\n",
        "model_rfr.fit(x4_train, y4_train['Harga Cabai Merah'])"
      ]
    },
    {
      "cell_type": "code",
      "execution_count": 55,
      "id": "994a42c3",
      "metadata": {
        "id": "994a42c3"
      },
      "outputs": [],
      "source": [
        "y4_pred=model_rfr.predict(x4_test)"
      ]
    },
    {
      "cell_type": "code",
      "execution_count": 56,
      "id": "3b706fe9",
      "metadata": {
        "id": "3b706fe9"
      },
      "outputs": [],
      "source": [
        "rfr= y4_test.copy()\n",
        "rfr.loc[:, ('Prediction')]=y4_pred\n",
        "rfr = rfr.rename({'Harga Cabai Merah': 'Actual','y_pred':'Predicition'}, axis=1)"
      ]
    },
    {
      "cell_type": "code",
      "execution_count": 57,
      "id": "536a8311",
      "metadata": {
        "scrolled": true,
        "colab": {
          "base_uri": "https://localhost:8080/",
          "height": 359
        },
        "id": "536a8311",
        "outputId": "e12d4cd0-d8e9-4aa0-9eb4-cff2eb12f129"
      },
      "outputs": [
        {
          "output_type": "execute_result",
          "data": {
            "text/plain": [
              "Text(0.5, 0, 'Tanggal')"
            ]
          },
          "metadata": {},
          "execution_count": 57
        },
        {
          "output_type": "display_data",
          "data": {
            "image/png": "[encoded data removed]",
            "text/plain": [
              "<Figure size 720x360 with 1 Axes>"
            ]
          },
          "metadata": {
            "needs_background": "light"
          }
        }
      ],
      "source": [
        "# Plot Prediction vs Actual\n",
        "rfr.plot(marker='o' , figsize=(10,5))\n",
        "plt.title('Prediction vs Actual')\n",
        "plt.ylabel('Harga')\n",
        "plt.xlabel('Tanggal')"
      ]
    },
    {
      "cell_type": "code",
      "execution_count": 58,
      "id": "ac29f4c5",
      "metadata": {
        "scrolled": false,
        "colab": {
          "base_uri": "https://localhost:8080/",
          "height": 374
        },
        "id": "ac29f4c5",
        "outputId": "683908dc-b85c-4de3-a950-47d231d270f6"
      },
      "outputs": [
        {
          "output_type": "display_data",
          "data": {
            "image/png": "[encoded data removed]",
            "text/plain": [
              "<Figure size 864x432 with 1 Axes>"
            ]
          },
          "metadata": {
            "needs_background": "light"
          }
        }
      ],
      "source": [
        "lineStart = rfr['Actual'].min() \n",
        "lineEnd = rfr['Actual'].max()\n",
        "\n",
        "plt.figure(figsize=(12,6))\n",
        "plt.scatter(rfr['Actual'], rfr['Prediction'], alpha=0.5)\n",
        "plt.plot([lineStart, lineEnd], [lineStart, lineEnd], 'k-', color = 'r')\n",
        "plt.plot([lineStart, lineEnd], [lineStart+2500, lineEnd+2500],'-.', 'k-', color = 'b')\n",
        "plt.plot([lineStart, lineEnd], [lineStart-2500, lineEnd-2500],'-.', 'k-', color = 'b')\n",
        "plt.xlim(lineStart, lineEnd)\n",
        "plt.ylim(lineStart, lineEnd)\n",
        "plt.show()"
      ]
    },
    {
      "cell_type": "markdown",
      "id": "bd6ecfe0",
      "metadata": {
        "id": "bd6ecfe0"
      },
      "source": [
        "Grafik diatas menunjukkan asumsi batas toleransi harga +_ 2500"
      ]
    },
    {
      "cell_type": "code",
      "execution_count": 59,
      "id": "d7ce8e1d",
      "metadata": {
        "scrolled": false,
        "colab": {
          "base_uri": "https://localhost:8080/"
        },
        "id": "d7ce8e1d",
        "outputId": "11e7c78f-187b-45ec-9934-e1e93cc24c7e"
      },
      "outputs": [
        {
          "output_type": "stream",
          "name": "stdout",
          "text": [
            "Correlation dari prediksi vs actual model Random Forest Regressor= 0.86\n"
          ]
        }
      ],
      "source": [
        "#Correlation from prediction vs actual\n",
        "print(\"Correlation dari prediksi vs actual model Random Forest Regressor=\",round(r2_score(rfr['Actual'], rfr['Prediction']),2))"
      ]
    },
    {
      "cell_type": "markdown",
      "id": "ce431dad",
      "metadata": {
        "id": "ce431dad"
      },
      "source": [
        "# Klasifikasi Harga (Mahal, Normal & Murah) dengan Random Forest"
      ]
    },
    {
      "cell_type": "code",
      "execution_count": 60,
      "id": "47eda8bc",
      "metadata": {
        "id": "47eda8bc"
      },
      "outputs": [],
      "source": [
        "from sklearn.ensemble import RandomForestClassifier"
      ]
    },
    {
      "cell_type": "code",
      "execution_count": 61,
      "id": "b8aabf9c",
      "metadata": {
        "colab": {
          "base_uri": "https://localhost:8080/"
        },
        "id": "b8aabf9c",
        "outputId": "9025f838-86b5-4438-8ec2-f060d40ebaac"
      },
      "outputs": [
        {
          "output_type": "execute_result",
          "data": {
            "text/plain": [
              "RandomForestClassifier()"
            ]
          },
          "metadata": {},
          "execution_count": 61
        }
      ],
      "source": [
        "rf_clf=RandomForestClassifier(n_estimators=100)\n",
        "rf_clf.fit(x2_train, z_train.values.ravel())"
      ]
    },
    {
      "cell_type": "code",
      "execution_count": 62,
      "id": "af0da788",
      "metadata": {
        "id": "af0da788"
      },
      "outputs": [],
      "source": [
        "z_pred = rf_clf.predict(x2_test)"
      ]
    },
    {
      "cell_type": "code",
      "execution_count": 63,
      "id": "38f11e6f",
      "metadata": {
        "colab": {
          "base_uri": "https://localhost:8080/"
        },
        "id": "38f11e6f",
        "outputId": "8a8201bd-1a74-469c-9567-ac08fdb225d4"
      },
      "outputs": [
        {
          "output_type": "stream",
          "name": "stdout",
          "text": [
            "Accuracy of Random Forest =  0.3211009174311927\n"
          ]
        }
      ],
      "source": [
        "print (\"Accuracy of Random Forest = \",accuracy_score(z_test, z_pred))"
      ]
    },
    {
      "cell_type": "code",
      "execution_count": 64,
      "id": "6a67105f",
      "metadata": {
        "colab": {
          "base_uri": "https://localhost:8080/"
        },
        "id": "6a67105f",
        "outputId": "ce65b088-ddc4-4d0a-8337-6ea4b7ea7da9"
      },
      "outputs": [
        {
          "output_type": "execute_result",
          "data": {
            "text/plain": [
              "array([[26, 27, 14],\n",
              "       [35, 31, 22],\n",
              "       [25, 25, 13]])"
            ]
          },
          "metadata": {},
          "execution_count": 64
        }
      ],
      "source": [
        "confusion_matrix(z_test, z_pred)"
      ]
    },
    {
      "cell_type": "code",
      "execution_count": 65,
      "id": "3d4d2afd",
      "metadata": {
        "colab": {
          "base_uri": "https://localhost:8080/"
        },
        "id": "3d4d2afd",
        "outputId": "b4bf9a4c-d077-4eb2-a6ea-2f35d6070b98"
      },
      "outputs": [
        {
          "output_type": "stream",
          "name": "stdout",
          "text": [
            "              precision    recall  f1-score   support\n",
            "\n",
            "           0       0.30      0.39      0.34        67\n",
            "           1       0.37      0.35      0.36        88\n",
            "           2       0.27      0.21      0.23        63\n",
            "\n",
            "    accuracy                           0.32       218\n",
            "   macro avg       0.31      0.32      0.31       218\n",
            "weighted avg       0.32      0.32      0.32       218\n",
            "\n"
          ]
        }
      ],
      "source": [
        "print(classification_report(z_test, z_pred))"
      ]
    },
    {
      "cell_type": "code",
      "execution_count": 66,
      "id": "2cabe92e",
      "metadata": {
        "id": "2cabe92e"
      },
      "outputs": [],
      "source": [
        "model_rf= z_test.copy()\n",
        "model_rf.loc[:,('Prediction')]=z_pred\n",
        "model_rf = model_rf.rename({'Def Harga': 'Actual','z_pred':'Prediciton'}, axis=1)"
      ]
    },
    {
      "cell_type": "markdown",
      "id": "ffc9238b",
      "metadata": {
        "id": "ffc9238b"
      },
      "source": [
        "Hasil Random Forest Classification menunjukkan hasil yang tidak bagus, sehingga klasifikasi berdasarkan defenisi harga tidak dapat dipakai"
      ]
    },
    {
      "cell_type": "markdown",
      "id": "19521c02",
      "metadata": {
        "id": "19521c02"
      },
      "source": [
        "# Model Deployment"
      ]
    },
    {
      "cell_type": "markdown",
      "id": "01859991",
      "metadata": {
        "id": "01859991"
      },
      "source": [
        "Dari Semua Tipe Model, Random Forest Regressor memberikan hasil korelasi yang terbaik yaitu R2= 0,87. \n"
      ]
    },
    {
      "cell_type": "markdown",
      "id": "f343f158",
      "metadata": {
        "id": "f343f158"
      },
      "source": [
        "atau R2=0,76 saat menggunakan data training-test dengan random state =1"
      ]
    },
    {
      "cell_type": "markdown",
      "id": "5b9e2539",
      "metadata": {
        "id": "5b9e2539"
      },
      "source": [
        "Sehingga dapat di simpulkan Random Forest Regressor Model akan dipakai untuk model deployment"
      ]
    },
    {
      "cell_type": "code",
      "execution_count": 67,
      "id": "dfed562c",
      "metadata": {
        "id": "dfed562c"
      },
      "outputs": [],
      "source": [
        "import pickle"
      ]
    },
    {
      "cell_type": "code",
      "execution_count": 68,
      "id": "888a61a2",
      "metadata": {
        "id": "888a61a2"
      },
      "outputs": [],
      "source": [
        "pickle.dump(model_rfr, open('chilli_price_prediction_model.pkl','wb'))"
      ]
    },
    {
      "cell_type": "markdown",
      "id": "1abceaa5",
      "metadata": {
        "id": "1abceaa5"
      },
      "source": [
        "# Conclusion"
      ]
    },
    {
      "cell_type": "markdown",
      "id": "90bf69a5",
      "metadata": {
        "id": "90bf69a5"
      },
      "source": [
        "Modeling dengan menggunakan random forest regressor memberikan hasil yang paling baik dibandingkan beberapa percobaan dengan metode lain.\n",
        "Namun ada kelemahan dengan menggunakan metode ini yaitu kemungkinan terjadi nya overfitting."
      ]
    },
    {
      "cell_type": "markdown",
      "id": "0684d913",
      "metadata": {
        "id": "0684d913"
      },
      "source": [
        "Ada pun dari dataset masih ada banyak hal yang perlu di improve seperti data iklim bmkg yang tidak lengkap seperti temperature maximum, temperatur rata-rata, dan lama penyinaran matahari tidak ada, padahal ketiga parameter ini merupakan parameter yang penting dalam pertumbuhan tanaman cabai, sehingga dapat mempengaruhi jumlah produksi dan harga."
      ]
    },
    {
      "cell_type": "markdown",
      "id": "bc937e7d",
      "metadata": {
        "id": "bc937e7d"
      },
      "source": [
        "Diperlukan juga data tambahan dari parameter lain yang kemungkinan mempengaruhi harga cabai, dan dari tahun sebelum nya (sebelum tahun 2019) untuk meningkatkan hasil korelasi R2 dari model yang ada"
      ]
    }
  ],
  "metadata": {
    "kernelspec": {
      "display_name": "Python 3",
      "language": "python",
      "name": "python3"
    },
    "language_info": {
      "codemirror_mode": {
        "name": "ipython",
        "version": 3
      },
      "file_extension": ".py",
      "mimetype": "text/x-python",
      "name": "python",
      "nbconvert_exporter": "python",
      "pygments_lexer": "ipython3",
      "version": "3.8.8"
    },
    "colab": {
      "name": "Model Prediction for Chilli Price_Final Project_Batch_062_Maruli_Asvan.ipynb.ipynb",
      "provenance": [],
      "collapsed_sections": [
        "1b299d5a",
        "70a41069",
        "e2bb01f7",
        "b659bcc0",
        "ff02d856",
        "19521c02",
        "1abceaa5"
      ],
      "include_colab_link": true
    }
  },
  "nbformat": 4,
  "nbformat_minor": 5
}