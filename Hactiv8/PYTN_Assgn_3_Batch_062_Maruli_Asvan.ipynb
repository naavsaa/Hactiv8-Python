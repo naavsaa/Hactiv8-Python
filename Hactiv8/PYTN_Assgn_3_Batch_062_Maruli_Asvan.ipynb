{
  "nbformat": 4,
  "nbformat_minor": 0,
  "metadata": {
    "colab": {
      "name": "PYTN_Assgn_3_Batch 062_Maruli Asvan.ipynb",
      "provenance": [],
      "collapsed_sections": [],
      "authorship_tag": "ABX9TyPYFM/QY2UH9LE125x79+Ex",
      "include_colab_link": true
    },
    "kernelspec": {
      "name": "python3",
      "display_name": "Python 3"
    },
    "language_info": {
      "name": "python"
    }
  },
  "cells": [
    {
      "cell_type": "markdown",
      "metadata": {
        "id": "view-in-github",
        "colab_type": "text"
      },
      "source": [
        "<a href=\"https://colab.research.google.com/github/naavsaa/Hactiv8-Python/blob/master/Hactiv8/PYTN_Assgn_3_Batch_062_Maruli_Asvan.ipynb\" target=\"_parent\"><img src=\"https://colab.research.google.com/assets/colab-badge.svg\" alt=\"Open In Colab\"/></a>"
      ]
    },
    {
      "cell_type": "code",
      "metadata": {
        "id": "e-ipwoXUu9HW",
        "colab": {
          "base_uri": "https://localhost:8080/"
        },
        "outputId": "8b89e87d-0607-4cc8-c3b1-c5dbde117d54"
      },
      "source": [
        "import numpy as np\n",
        "import pandas as pd \n",
        "import matplotlib.pyplot as plt\n",
        "import seaborn as sns\n",
        "import statsmodels.api as sm\n",
        "\n",
        "from sklearn.preprocessing import LabelEncoder\n",
        "from sklearn import metrics\n",
        "from sklearn.model_selection import train_test_split\n",
        "from sklearn.preprocessing import StandardScaler\n",
        "from sklearn.metrics import classification_report, confusion_matrix"
      ],
      "execution_count": 1,
      "outputs": [
        {
          "output_type": "stream",
          "name": "stderr",
          "text": [
            "/usr/local/lib/python3.7/dist-packages/statsmodels/tools/_testing.py:19: FutureWarning: pandas.util.testing is deprecated. Use the functions in the public API at pandas.testing instead.\n",
            "  import pandas.util.testing as tm\n"
          ]
        }
      ]
    },
    {
      "cell_type": "markdown",
      "metadata": {
        "id": "cSJWRLk2vDHs"
      },
      "source": [
        "# Read Data"
      ]
    },
    {
      "cell_type": "code",
      "metadata": {
        "colab": {
          "base_uri": "https://localhost:8080/"
        },
        "id": "FrNsT7vLx_j0",
        "outputId": "a0352a62-5279-4764-a36d-6fc9dcfb10b0"
      },
      "source": [
        "from google.colab import drive   \n",
        "drive.mount('/content/gdrive')\n",
        "%cd /content/gdrive/MyDrive/Colab Notebooks/Dataset/Bank Marketing Campaign/bank-additional"
      ],
      "execution_count": 2,
      "outputs": [
        {
          "output_type": "stream",
          "name": "stdout",
          "text": [
            "Drive already mounted at /content/gdrive; to attempt to forcibly remount, call drive.mount(\"/content/gdrive\", force_remount=True).\n",
            "/content/gdrive/MyDrive/Colab Notebooks/Dataset/Bank Marketing Campaign/bank-additional\n"
          ]
        }
      ]
    },
    {
      "cell_type": "code",
      "metadata": {
        "id": "OgbdwXDRwgX0"
      },
      "source": [
        "df= pd.read_csv('bank-additional-full.csv',sep = ';')"
      ],
      "execution_count": 3,
      "outputs": []
    },
    {
      "cell_type": "code",
      "metadata": {
        "id": "iCgjE6awyS4v"
      },
      "source": [
        "df_test= pd.read_csv('bank-additional.csv',sep = ';')"
      ],
      "execution_count": 4,
      "outputs": []
    },
    {
      "cell_type": "code",
      "metadata": {
        "colab": {
          "base_uri": "https://localhost:8080/",
          "height": 206
        },
        "id": "_3RAAZsAyu0f",
        "outputId": "9de7bfd9-e5f3-4b27-80be-b06183806417"
      },
      "source": [
        "df.head(5)"
      ],
      "execution_count": 5,
      "outputs": [
        {
          "output_type": "execute_result",
          "data": {
            "text/html": [
              "<div>\n",
              "<style scoped>\n",
              "    .dataframe tbody tr th:only-of-type {\n",
              "        vertical-align: middle;\n",
              "    }\n",
              "\n",
              "    .dataframe tbody tr th {\n",
              "        vertical-align: top;\n",
              "    }\n",
              "\n",
              "    .dataframe thead th {\n",
              "        text-align: right;\n",
              "    }\n",
              "</style>\n",
              "<table border=\"1\" class=\"dataframe\">\n",
              "  <thead>\n",
              "    <tr style=\"text-align: right;\">\n",
              "      <th></th>\n",
              "      <th>age</th>\n",
              "      <th>job</th>\n",
              "      <th>marital</th>\n",
              "      <th>education</th>\n",
              "      <th>default</th>\n",
              "      <th>housing</th>\n",
              "      <th>loan</th>\n",
              "      <th>contact</th>\n",
              "      <th>month</th>\n",
              "      <th>day_of_week</th>\n",
              "      <th>duration</th>\n",
              "      <th>campaign</th>\n",
              "      <th>pdays</th>\n",
              "      <th>previous</th>\n",
              "      <th>poutcome</th>\n",
              "      <th>emp.var.rate</th>\n",
              "      <th>cons.price.idx</th>\n",
              "      <th>cons.conf.idx</th>\n",
              "      <th>euribor3m</th>\n",
              "      <th>nr.employed</th>\n",
              "      <th>y</th>\n",
              "    </tr>\n",
              "  </thead>\n",
              "  <tbody>\n",
              "    <tr>\n",
              "      <th>0</th>\n",
              "      <td>56</td>\n",
              "      <td>housemaid</td>\n",
              "      <td>married</td>\n",
              "      <td>basic.4y</td>\n",
              "      <td>no</td>\n",
              "      <td>no</td>\n",
              "      <td>no</td>\n",
              "      <td>telephone</td>\n",
              "      <td>may</td>\n",
              "      <td>mon</td>\n",
              "      <td>261</td>\n",
              "      <td>1</td>\n",
              "      <td>999</td>\n",
              "      <td>0</td>\n",
              "      <td>nonexistent</td>\n",
              "      <td>1.1</td>\n",
              "      <td>93.994</td>\n",
              "      <td>-36.4</td>\n",
              "      <td>4.857</td>\n",
              "      <td>5191.0</td>\n",
              "      <td>no</td>\n",
              "    </tr>\n",
              "    <tr>\n",
              "      <th>1</th>\n",
              "      <td>57</td>\n",
              "      <td>services</td>\n",
              "      <td>married</td>\n",
              "      <td>high.school</td>\n",
              "      <td>unknown</td>\n",
              "      <td>no</td>\n",
              "      <td>no</td>\n",
              "      <td>telephone</td>\n",
              "      <td>may</td>\n",
              "      <td>mon</td>\n",
              "      <td>149</td>\n",
              "      <td>1</td>\n",
              "      <td>999</td>\n",
              "      <td>0</td>\n",
              "      <td>nonexistent</td>\n",
              "      <td>1.1</td>\n",
              "      <td>93.994</td>\n",
              "      <td>-36.4</td>\n",
              "      <td>4.857</td>\n",
              "      <td>5191.0</td>\n",
              "      <td>no</td>\n",
              "    </tr>\n",
              "    <tr>\n",
              "      <th>2</th>\n",
              "      <td>37</td>\n",
              "      <td>services</td>\n",
              "      <td>married</td>\n",
              "      <td>high.school</td>\n",
              "      <td>no</td>\n",
              "      <td>yes</td>\n",
              "      <td>no</td>\n",
              "      <td>telephone</td>\n",
              "      <td>may</td>\n",
              "      <td>mon</td>\n",
              "      <td>226</td>\n",
              "      <td>1</td>\n",
              "      <td>999</td>\n",
              "      <td>0</td>\n",
              "      <td>nonexistent</td>\n",
              "      <td>1.1</td>\n",
              "      <td>93.994</td>\n",
              "      <td>-36.4</td>\n",
              "      <td>4.857</td>\n",
              "      <td>5191.0</td>\n",
              "      <td>no</td>\n",
              "    </tr>\n",
              "    <tr>\n",
              "      <th>3</th>\n",
              "      <td>40</td>\n",
              "      <td>admin.</td>\n",
              "      <td>married</td>\n",
              "      <td>basic.6y</td>\n",
              "      <td>no</td>\n",
              "      <td>no</td>\n",
              "      <td>no</td>\n",
              "      <td>telephone</td>\n",
              "      <td>may</td>\n",
              "      <td>mon</td>\n",
              "      <td>151</td>\n",
              "      <td>1</td>\n",
              "      <td>999</td>\n",
              "      <td>0</td>\n",
              "      <td>nonexistent</td>\n",
              "      <td>1.1</td>\n",
              "      <td>93.994</td>\n",
              "      <td>-36.4</td>\n",
              "      <td>4.857</td>\n",
              "      <td>5191.0</td>\n",
              "      <td>no</td>\n",
              "    </tr>\n",
              "    <tr>\n",
              "      <th>4</th>\n",
              "      <td>56</td>\n",
              "      <td>services</td>\n",
              "      <td>married</td>\n",
              "      <td>high.school</td>\n",
              "      <td>no</td>\n",
              "      <td>no</td>\n",
              "      <td>yes</td>\n",
              "      <td>telephone</td>\n",
              "      <td>may</td>\n",
              "      <td>mon</td>\n",
              "      <td>307</td>\n",
              "      <td>1</td>\n",
              "      <td>999</td>\n",
              "      <td>0</td>\n",
              "      <td>nonexistent</td>\n",
              "      <td>1.1</td>\n",
              "      <td>93.994</td>\n",
              "      <td>-36.4</td>\n",
              "      <td>4.857</td>\n",
              "      <td>5191.0</td>\n",
              "      <td>no</td>\n",
              "    </tr>\n",
              "  </tbody>\n",
              "</table>\n",
              "</div>"
            ],
            "text/plain": [
              "   age        job  marital  ... euribor3m nr.employed   y\n",
              "0   56  housemaid  married  ...     4.857      5191.0  no\n",
              "1   57   services  married  ...     4.857      5191.0  no\n",
              "2   37   services  married  ...     4.857      5191.0  no\n",
              "3   40     admin.  married  ...     4.857      5191.0  no\n",
              "4   56   services  married  ...     4.857      5191.0  no\n",
              "\n",
              "[5 rows x 21 columns]"
            ]
          },
          "metadata": {},
          "execution_count": 5
        }
      ]
    },
    {
      "cell_type": "markdown",
      "metadata": {
        "id": "tupOpdvAyjNB"
      },
      "source": [
        "**Classification goal is to predict if the client will subscribe (yes/no) a term deposit (variable y)**"
      ]
    },
    {
      "cell_type": "markdown",
      "metadata": {
        "id": "mRCy--K50u6n"
      },
      "source": [
        "# Data Cleansing"
      ]
    },
    {
      "cell_type": "code",
      "metadata": {
        "id": "qYyB_kfANhQT"
      },
      "source": [
        "df=df.dropna()"
      ],
      "execution_count": 6,
      "outputs": []
    },
    {
      "cell_type": "code",
      "metadata": {
        "colab": {
          "base_uri": "https://localhost:8080/"
        },
        "id": "7R24TfFp2E7d",
        "outputId": "6c56df87-c747-4b5f-9d2c-416823e54226"
      },
      "source": [
        "df.info()"
      ],
      "execution_count": 7,
      "outputs": [
        {
          "output_type": "stream",
          "name": "stdout",
          "text": [
            "<class 'pandas.core.frame.DataFrame'>\n",
            "Int64Index: 41188 entries, 0 to 41187\n",
            "Data columns (total 21 columns):\n",
            " #   Column          Non-Null Count  Dtype  \n",
            "---  ------          --------------  -----  \n",
            " 0   age             41188 non-null  int64  \n",
            " 1   job             41188 non-null  object \n",
            " 2   marital         41188 non-null  object \n",
            " 3   education       41188 non-null  object \n",
            " 4   default         41188 non-null  object \n",
            " 5   housing         41188 non-null  object \n",
            " 6   loan            41188 non-null  object \n",
            " 7   contact         41188 non-null  object \n",
            " 8   month           41188 non-null  object \n",
            " 9   day_of_week     41188 non-null  object \n",
            " 10  duration        41188 non-null  int64  \n",
            " 11  campaign        41188 non-null  int64  \n",
            " 12  pdays           41188 non-null  int64  \n",
            " 13  previous        41188 non-null  int64  \n",
            " 14  poutcome        41188 non-null  object \n",
            " 15  emp.var.rate    41188 non-null  float64\n",
            " 16  cons.price.idx  41188 non-null  float64\n",
            " 17  cons.conf.idx   41188 non-null  float64\n",
            " 18  euribor3m       41188 non-null  float64\n",
            " 19  nr.employed     41188 non-null  float64\n",
            " 20  y               41188 non-null  object \n",
            "dtypes: float64(5), int64(5), object(11)\n",
            "memory usage: 6.9+ MB\n"
          ]
        }
      ]
    },
    {
      "cell_type": "code",
      "metadata": {
        "id": "ahM1e7GS5cCy"
      },
      "source": [
        "# Rename some column\n",
        "df.rename(columns={'default':'default status','housing':'housing loan','loan':'personal loan','campaign':'number of contact',\n",
        "                   'pdays':'days after last contact','previous':'previous num of contact','poutcome':'previous outcome','y':'Outcome'}, inplace=True)\n",
        "\n",
        "df_test.rename(columns={'default':'default status','housing':'housing loan','loan':'personal loan','campaign':'number of contact',\n",
        "                   'pdays':'days after last contact','previous':'previous num of contact','poutcome':'previous outcome','y':'Outcome'}, inplace=True)"
      ],
      "execution_count": 8,
      "outputs": []
    },
    {
      "cell_type": "code",
      "metadata": {
        "colab": {
          "base_uri": "https://localhost:8080/"
        },
        "id": "LKSAYuRxF1PR",
        "outputId": "3eb512f7-2744-47c6-a15b-b1823eeeb24e"
      },
      "source": [
        "# Grouping in Education column\n",
        "df['education'].value_counts()"
      ],
      "execution_count": 9,
      "outputs": [
        {
          "output_type": "execute_result",
          "data": {
            "text/plain": [
              "university.degree      12168\n",
              "high.school             9515\n",
              "basic.9y                6045\n",
              "professional.course     5243\n",
              "basic.4y                4176\n",
              "basic.6y                2292\n",
              "unknown                 1731\n",
              "illiterate                18\n",
              "Name: education, dtype: int64"
            ]
          },
          "metadata": {},
          "execution_count": 9
        }
      ]
    },
    {
      "cell_type": "code",
      "metadata": {
        "id": "6Li5GrIIF41M"
      },
      "source": [
        "# All basic education like basic 4y,6y and 9y can be groupped as basic education\n",
        "df['education']=np.where(df['education'] =='basic.9y', 'basic education', df['education'])\n",
        "df['education']=np.where(df['education'] =='basic.6y', 'basic education', df['education'])\n",
        "df['education']=np.where(df['education'] =='basic.4y', 'basic education', df['education'])\n",
        "\n",
        "df_test['education']=np.where(df_test['education'] =='basic.9y', 'basic education', df_test['education'])\n",
        "df_test['education']=np.where(df_test['education'] =='basic.6y', 'basic education', df_test['education'])\n",
        "df_test['education']=np.where(df_test['education'] =='basic.4y', 'basic education', df_test['education'])"
      ],
      "execution_count": 10,
      "outputs": []
    },
    {
      "cell_type": "code",
      "metadata": {
        "colab": {
          "base_uri": "https://localhost:8080/",
          "height": 215
        },
        "id": "p5g2pVq7-2fh",
        "outputId": "427d0c88-d49e-4036-e169-1d884566efae"
      },
      "source": [
        "# Check Duration Correlation with Outcome\n",
        "dfcorr=df.drop(columns={'age','job','marital','education','default status','housing loan','personal loan','contact','month','day_of_week','number of contact',\n",
        "'days after last contact','previous num of contact','previous outcome','emp.var.rate','cons.price.idx','cons.conf.idx','euribor3m','nr.employed'})\n",
        "\n",
        "dfcorr['Outcome'].replace({'yes':1,'no':0}, inplace=True)\n",
        "\n",
        "df_corr = dfcorr.corr()\n",
        "fig, ax = plt.subplots(figsize=(4, 3))\n",
        "ax = sns.heatmap(df_corr, annot=True)"
      ],
      "execution_count": 11,
      "outputs": [
        {
          "output_type": "display_data",
          "data": {
            "image/png": "[encoded data removed]",
            "text/plain": [
              "<Figure size 288x216 with 2 Axes>"
            ]
          },
          "metadata": {
            "needs_background": "light"
          }
        }
      ]
    },
    {
      "cell_type": "code",
      "metadata": {
        "id": "7AfMnQW87zY7"
      },
      "source": [
        "# Since the column duration is highly affected the outcome, it can potentially impact higly the result of prediction model, thus has to be dropped\n",
        "df.drop(columns='duration', inplace=True)\n",
        "df_test.drop(columns='duration', inplace=True)"
      ],
      "execution_count": 12,
      "outputs": []
    },
    {
      "cell_type": "code",
      "metadata": {
        "colab": {
          "base_uri": "https://localhost:8080/"
        },
        "id": "qlu17quT0sOK",
        "outputId": "e9e76e1a-737e-4e3f-dc0a-7c0876b0dbd5"
      },
      "source": [
        "len(df['job'].value_counts())\n"
      ],
      "execution_count": 13,
      "outputs": [
        {
          "output_type": "execute_result",
          "data": {
            "text/plain": [
              "12"
            ]
          },
          "metadata": {},
          "execution_count": 13
        }
      ]
    },
    {
      "cell_type": "code",
      "metadata": {
        "colab": {
          "base_uri": "https://localhost:8080/"
        },
        "id": "TSqXRXPq02Ea",
        "outputId": "692f6262-c11f-4051-fc68-e48b8c9fa087"
      },
      "source": [
        "df['marital'].value_counts()\n"
      ],
      "execution_count": 14,
      "outputs": [
        {
          "output_type": "execute_result",
          "data": {
            "text/plain": [
              "married     24928\n",
              "single      11568\n",
              "divorced     4612\n",
              "unknown        80\n",
              "Name: marital, dtype: int64"
            ]
          },
          "metadata": {},
          "execution_count": 14
        }
      ]
    },
    {
      "cell_type": "markdown",
      "metadata": {
        "id": "OoB5NLhINtLF"
      },
      "source": [
        "# Data Exploration"
      ]
    },
    {
      "cell_type": "markdown",
      "metadata": {
        "id": "0U1o9I1JNyIx"
      },
      "source": [
        "**Job**"
      ]
    },
    {
      "cell_type": "code",
      "metadata": {
        "colab": {
          "base_uri": "https://localhost:8080/"
        },
        "id": "ybAiEUYfNwaI",
        "outputId": "e0763e24-dbfc-4ed3-c50a-9715c65a3292"
      },
      "source": [
        "df['job'].value_counts()"
      ],
      "execution_count": 15,
      "outputs": [
        {
          "output_type": "execute_result",
          "data": {
            "text/plain": [
              "admin.           10422\n",
              "blue-collar       9254\n",
              "technician        6743\n",
              "services          3969\n",
              "management        2924\n",
              "retired           1720\n",
              "entrepreneur      1456\n",
              "self-employed     1421\n",
              "housemaid         1060\n",
              "unemployed        1014\n",
              "student            875\n",
              "unknown            330\n",
              "Name: job, dtype: int64"
            ]
          },
          "metadata": {},
          "execution_count": 15
        }
      ]
    },
    {
      "cell_type": "code",
      "metadata": {
        "id": "S89BMztUO1Y3"
      },
      "source": [
        "# Change the category in Job Column as binary using label encoder or with \"replace\" for month and days column\n",
        "labelencoder=LabelEncoder()\n",
        "df['job']=labelencoder.fit_transform(df['job'])"
      ],
      "execution_count": 16,
      "outputs": []
    },
    {
      "cell_type": "markdown",
      "metadata": {
        "id": "CLsVQK0VP0fJ"
      },
      "source": [
        "**Marital**"
      ]
    },
    {
      "cell_type": "code",
      "metadata": {
        "colab": {
          "base_uri": "https://localhost:8080/"
        },
        "id": "w7qiC8aMPhUp",
        "outputId": "b38eafd0-c494-472a-93cd-e2d07c9865fb"
      },
      "source": [
        "df['marital'].value_counts()"
      ],
      "execution_count": 17,
      "outputs": [
        {
          "output_type": "execute_result",
          "data": {
            "text/plain": [
              "married     24928\n",
              "single      11568\n",
              "divorced     4612\n",
              "unknown        80\n",
              "Name: marital, dtype: int64"
            ]
          },
          "metadata": {},
          "execution_count": 17
        }
      ]
    },
    {
      "cell_type": "code",
      "metadata": {
        "id": "b7PgaANdPhR8"
      },
      "source": [
        "df['marital']=labelencoder.fit_transform(df['marital'])"
      ],
      "execution_count": 18,
      "outputs": []
    },
    {
      "cell_type": "markdown",
      "metadata": {
        "id": "vC7vatcEP62O"
      },
      "source": [
        "**Education**"
      ]
    },
    {
      "cell_type": "code",
      "metadata": {
        "colab": {
          "base_uri": "https://localhost:8080/"
        },
        "id": "iezj9LvYPhH-",
        "outputId": "5089580c-020e-406b-8287-0a7e8b2c547c"
      },
      "source": [
        "df['education'].value_counts()"
      ],
      "execution_count": 19,
      "outputs": [
        {
          "output_type": "execute_result",
          "data": {
            "text/plain": [
              "basic education        12513\n",
              "university.degree      12168\n",
              "high.school             9515\n",
              "professional.course     5243\n",
              "unknown                 1731\n",
              "illiterate                18\n",
              "Name: education, dtype: int64"
            ]
          },
          "metadata": {},
          "execution_count": 19
        }
      ]
    },
    {
      "cell_type": "code",
      "metadata": {
        "id": "SctEtxYTQZAn"
      },
      "source": [
        "df['education']=labelencoder.fit_transform(df['education'])"
      ],
      "execution_count": 20,
      "outputs": []
    },
    {
      "cell_type": "markdown",
      "metadata": {
        "id": "rSooMHjSRAsz"
      },
      "source": [
        "**Default Status**"
      ]
    },
    {
      "cell_type": "code",
      "metadata": {
        "colab": {
          "base_uri": "https://localhost:8080/"
        },
        "id": "SxgOMy6nRNI3",
        "outputId": "713df9a4-20ad-4e9b-c9cb-6e7701b1c98b"
      },
      "source": [
        "df['default status'].value_counts() "
      ],
      "execution_count": 21,
      "outputs": [
        {
          "output_type": "execute_result",
          "data": {
            "text/plain": [
              "no         32588\n",
              "unknown     8597\n",
              "yes            3\n",
              "Name: default status, dtype: int64"
            ]
          },
          "metadata": {},
          "execution_count": 21
        }
      ]
    },
    {
      "cell_type": "code",
      "metadata": {
        "id": "yGW8I5xLRM-M"
      },
      "source": [
        "df['default status']=labelencoder.fit_transform(df['default status'])"
      ],
      "execution_count": 22,
      "outputs": []
    },
    {
      "cell_type": "markdown",
      "metadata": {
        "id": "E8gW8PLiQEJj"
      },
      "source": [
        "**Housing**"
      ]
    },
    {
      "cell_type": "code",
      "metadata": {
        "colab": {
          "base_uri": "https://localhost:8080/"
        },
        "id": "8jtAVC4qQCnf",
        "outputId": "b2b18f69-23f6-446f-be5d-91d073e3caa8"
      },
      "source": [
        "df['housing loan'].value_counts()"
      ],
      "execution_count": 23,
      "outputs": [
        {
          "output_type": "execute_result",
          "data": {
            "text/plain": [
              "yes        21576\n",
              "no         18622\n",
              "unknown      990\n",
              "Name: housing loan, dtype: int64"
            ]
          },
          "metadata": {},
          "execution_count": 23
        }
      ]
    },
    {
      "cell_type": "code",
      "metadata": {
        "id": "jrYXscDaQCkV"
      },
      "source": [
        "df['housing loan']=labelencoder.fit_transform(df['housing loan'])"
      ],
      "execution_count": 24,
      "outputs": []
    },
    {
      "cell_type": "markdown",
      "metadata": {
        "id": "-NtkpWubQHWb"
      },
      "source": [
        "**Loan**"
      ]
    },
    {
      "cell_type": "code",
      "metadata": {
        "colab": {
          "base_uri": "https://localhost:8080/"
        },
        "id": "6sMHNZoxQJtI",
        "outputId": "6d7e3c61-a3a9-4cea-eb5e-ecdff2436405"
      },
      "source": [
        "df['personal loan'].value_counts()"
      ],
      "execution_count": 25,
      "outputs": [
        {
          "output_type": "execute_result",
          "data": {
            "text/plain": [
              "no         33950\n",
              "yes         6248\n",
              "unknown      990\n",
              "Name: personal loan, dtype: int64"
            ]
          },
          "metadata": {},
          "execution_count": 25
        }
      ]
    },
    {
      "cell_type": "code",
      "metadata": {
        "id": "j4ikezzkQlWV"
      },
      "source": [
        "df['personal loan']=labelencoder.fit_transform(df['personal loan'])"
      ],
      "execution_count": 26,
      "outputs": []
    },
    {
      "cell_type": "markdown",
      "metadata": {
        "id": "XXgS321uQKIb"
      },
      "source": [
        "**Contact**"
      ]
    },
    {
      "cell_type": "code",
      "metadata": {
        "colab": {
          "base_uri": "https://localhost:8080/"
        },
        "id": "1NDh8ZaHQNk3",
        "outputId": "450ed543-74f7-412d-9d58-f206605f7588"
      },
      "source": [
        "df['contact'].value_counts()"
      ],
      "execution_count": 27,
      "outputs": [
        {
          "output_type": "execute_result",
          "data": {
            "text/plain": [
              "cellular     26144\n",
              "telephone    15044\n",
              "Name: contact, dtype: int64"
            ]
          },
          "metadata": {},
          "execution_count": 27
        }
      ]
    },
    {
      "cell_type": "code",
      "metadata": {
        "id": "f4UfN-gwQmd0"
      },
      "source": [
        "df['contact']=labelencoder.fit_transform(df['contact'])"
      ],
      "execution_count": 28,
      "outputs": []
    },
    {
      "cell_type": "markdown",
      "metadata": {
        "id": "8X5ZwRs6QOXn"
      },
      "source": [
        "**Month**"
      ]
    },
    {
      "cell_type": "code",
      "metadata": {
        "colab": {
          "base_uri": "https://localhost:8080/"
        },
        "id": "bvESZ7EuQOwW",
        "outputId": "3c4b9bc9-132b-43e0-cc31-ac59ea9de91b"
      },
      "source": [
        "df['month'].value_counts()"
      ],
      "execution_count": 29,
      "outputs": [
        {
          "output_type": "execute_result",
          "data": {
            "text/plain": [
              "may    13769\n",
              "jul     7174\n",
              "aug     6178\n",
              "jun     5318\n",
              "nov     4101\n",
              "apr     2632\n",
              "oct      718\n",
              "sep      570\n",
              "mar      546\n",
              "dec      182\n",
              "Name: month, dtype: int64"
            ]
          },
          "metadata": {},
          "execution_count": 29
        }
      ]
    },
    {
      "cell_type": "code",
      "metadata": {
        "id": "d4-352A2R74y"
      },
      "source": [
        "df[\"month\"].replace({\"jan\": 1, \"feb\": 2, \"mar\":3, \"apr\":4, \"may\":5, \"jun\":6, \"jul\":7, \"aug\":8, \"sep\":9, \"oct\":10, \"nov\":11, \"dec\":12}, inplace=True)"
      ],
      "execution_count": 30,
      "outputs": []
    },
    {
      "cell_type": "code",
      "metadata": {
        "id": "CnnS3y30QoeX"
      },
      "source": [
        "#df['month']=labelencoder.fit_transform(df['month'])"
      ],
      "execution_count": 31,
      "outputs": []
    },
    {
      "cell_type": "markdown",
      "metadata": {
        "id": "IDbYKg6oQPGu"
      },
      "source": [
        "**Day of Week**"
      ]
    },
    {
      "cell_type": "code",
      "metadata": {
        "colab": {
          "base_uri": "https://localhost:8080/"
        },
        "id": "xPL_YgMFQphR",
        "outputId": "3cfaf339-fcbe-4578-fc3b-66f95d3697ea"
      },
      "source": [
        "df['day_of_week'].value_counts()"
      ],
      "execution_count": 32,
      "outputs": [
        {
          "output_type": "execute_result",
          "data": {
            "text/plain": [
              "thu    8623\n",
              "mon    8514\n",
              "wed    8134\n",
              "tue    8090\n",
              "fri    7827\n",
              "Name: day_of_week, dtype: int64"
            ]
          },
          "metadata": {},
          "execution_count": 32
        }
      ]
    },
    {
      "cell_type": "code",
      "metadata": {
        "id": "n8UgTdxPQpWD"
      },
      "source": [
        "df[\"day_of_week\"].replace({\"mon\": 1, \"tue\": 2, \"wed\":3, \"thu\":4, \"fri\":5, \"sat\":6, \"sun\":7}, inplace=True)"
      ],
      "execution_count": 33,
      "outputs": []
    },
    {
      "cell_type": "markdown",
      "metadata": {
        "id": "173VN1lHS5yO"
      },
      "source": [
        "**Previous Outcome**"
      ]
    },
    {
      "cell_type": "code",
      "metadata": {
        "colab": {
          "base_uri": "https://localhost:8080/"
        },
        "id": "TqhBRM4dS9i7",
        "outputId": "f8730c64-4837-4f48-c261-ffd4177c8631"
      },
      "source": [
        "df['previous outcome'].value_counts()"
      ],
      "execution_count": 34,
      "outputs": [
        {
          "output_type": "execute_result",
          "data": {
            "text/plain": [
              "nonexistent    35563\n",
              "failure         4252\n",
              "success         1373\n",
              "Name: previous outcome, dtype: int64"
            ]
          },
          "metadata": {},
          "execution_count": 34
        }
      ]
    },
    {
      "cell_type": "code",
      "metadata": {
        "id": "rjtbHaoaS9gW"
      },
      "source": [
        "df['previous outcome']=labelencoder.fit_transform(df['previous outcome'])"
      ],
      "execution_count": 35,
      "outputs": []
    },
    {
      "cell_type": "markdown",
      "metadata": {
        "id": "-kRbn3LBTJsH"
      },
      "source": [
        "**Outcome**"
      ]
    },
    {
      "cell_type": "code",
      "metadata": {
        "colab": {
          "base_uri": "https://localhost:8080/"
        },
        "id": "pXNTScVvTL-f",
        "outputId": "819738b4-e016-47be-9c50-cfa357dfcd49"
      },
      "source": [
        "df['Outcome'].value_counts()"
      ],
      "execution_count": 36,
      "outputs": [
        {
          "output_type": "execute_result",
          "data": {
            "text/plain": [
              "no     36548\n",
              "yes     4640\n",
              "Name: Outcome, dtype: int64"
            ]
          },
          "metadata": {},
          "execution_count": 36
        }
      ]
    },
    {
      "cell_type": "code",
      "metadata": {
        "id": "zYFykxoFTOP0"
      },
      "source": [
        "df[\"Outcome\"].replace({\"no\":0, \"yes\":1}, inplace=True)"
      ],
      "execution_count": 37,
      "outputs": []
    },
    {
      "cell_type": "code",
      "metadata": {
        "colab": {
          "base_uri": "https://localhost:8080/",
          "height": 224
        },
        "id": "RI83W1kIPLia",
        "outputId": "799460da-b19e-4d76-a7bb-2677fa74b1b0"
      },
      "source": [
        "df.head()"
      ],
      "execution_count": 38,
      "outputs": [
        {
          "output_type": "execute_result",
          "data": {
            "text/html": [
              "<div>\n",
              "<style scoped>\n",
              "    .dataframe tbody tr th:only-of-type {\n",
              "        vertical-align: middle;\n",
              "    }\n",
              "\n",
              "    .dataframe tbody tr th {\n",
              "        vertical-align: top;\n",
              "    }\n",
              "\n",
              "    .dataframe thead th {\n",
              "        text-align: right;\n",
              "    }\n",
              "</style>\n",
              "<table border=\"1\" class=\"dataframe\">\n",
              "  <thead>\n",
              "    <tr style=\"text-align: right;\">\n",
              "      <th></th>\n",
              "      <th>age</th>\n",
              "      <th>job</th>\n",
              "      <th>marital</th>\n",
              "      <th>education</th>\n",
              "      <th>default status</th>\n",
              "      <th>housing loan</th>\n",
              "      <th>personal loan</th>\n",
              "      <th>contact</th>\n",
              "      <th>month</th>\n",
              "      <th>day_of_week</th>\n",
              "      <th>number of contact</th>\n",
              "      <th>days after last contact</th>\n",
              "      <th>previous num of contact</th>\n",
              "      <th>previous outcome</th>\n",
              "      <th>emp.var.rate</th>\n",
              "      <th>cons.price.idx</th>\n",
              "      <th>cons.conf.idx</th>\n",
              "      <th>euribor3m</th>\n",
              "      <th>nr.employed</th>\n",
              "      <th>Outcome</th>\n",
              "    </tr>\n",
              "  </thead>\n",
              "  <tbody>\n",
              "    <tr>\n",
              "      <th>0</th>\n",
              "      <td>56</td>\n",
              "      <td>3</td>\n",
              "      <td>1</td>\n",
              "      <td>0</td>\n",
              "      <td>0</td>\n",
              "      <td>0</td>\n",
              "      <td>0</td>\n",
              "      <td>1</td>\n",
              "      <td>5</td>\n",
              "      <td>1</td>\n",
              "      <td>1</td>\n",
              "      <td>999</td>\n",
              "      <td>0</td>\n",
              "      <td>1</td>\n",
              "      <td>1.1</td>\n",
              "      <td>93.994</td>\n",
              "      <td>-36.4</td>\n",
              "      <td>4.857</td>\n",
              "      <td>5191.0</td>\n",
              "      <td>0</td>\n",
              "    </tr>\n",
              "    <tr>\n",
              "      <th>1</th>\n",
              "      <td>57</td>\n",
              "      <td>7</td>\n",
              "      <td>1</td>\n",
              "      <td>1</td>\n",
              "      <td>1</td>\n",
              "      <td>0</td>\n",
              "      <td>0</td>\n",
              "      <td>1</td>\n",
              "      <td>5</td>\n",
              "      <td>1</td>\n",
              "      <td>1</td>\n",
              "      <td>999</td>\n",
              "      <td>0</td>\n",
              "      <td>1</td>\n",
              "      <td>1.1</td>\n",
              "      <td>93.994</td>\n",
              "      <td>-36.4</td>\n",
              "      <td>4.857</td>\n",
              "      <td>5191.0</td>\n",
              "      <td>0</td>\n",
              "    </tr>\n",
              "    <tr>\n",
              "      <th>2</th>\n",
              "      <td>37</td>\n",
              "      <td>7</td>\n",
              "      <td>1</td>\n",
              "      <td>1</td>\n",
              "      <td>0</td>\n",
              "      <td>2</td>\n",
              "      <td>0</td>\n",
              "      <td>1</td>\n",
              "      <td>5</td>\n",
              "      <td>1</td>\n",
              "      <td>1</td>\n",
              "      <td>999</td>\n",
              "      <td>0</td>\n",
              "      <td>1</td>\n",
              "      <td>1.1</td>\n",
              "      <td>93.994</td>\n",
              "      <td>-36.4</td>\n",
              "      <td>4.857</td>\n",
              "      <td>5191.0</td>\n",
              "      <td>0</td>\n",
              "    </tr>\n",
              "    <tr>\n",
              "      <th>3</th>\n",
              "      <td>40</td>\n",
              "      <td>0</td>\n",
              "      <td>1</td>\n",
              "      <td>0</td>\n",
              "      <td>0</td>\n",
              "      <td>0</td>\n",
              "      <td>0</td>\n",
              "      <td>1</td>\n",
              "      <td>5</td>\n",
              "      <td>1</td>\n",
              "      <td>1</td>\n",
              "      <td>999</td>\n",
              "      <td>0</td>\n",
              "      <td>1</td>\n",
              "      <td>1.1</td>\n",
              "      <td>93.994</td>\n",
              "      <td>-36.4</td>\n",
              "      <td>4.857</td>\n",
              "      <td>5191.0</td>\n",
              "      <td>0</td>\n",
              "    </tr>\n",
              "    <tr>\n",
              "      <th>4</th>\n",
              "      <td>56</td>\n",
              "      <td>7</td>\n",
              "      <td>1</td>\n",
              "      <td>1</td>\n",
              "      <td>0</td>\n",
              "      <td>0</td>\n",
              "      <td>2</td>\n",
              "      <td>1</td>\n",
              "      <td>5</td>\n",
              "      <td>1</td>\n",
              "      <td>1</td>\n",
              "      <td>999</td>\n",
              "      <td>0</td>\n",
              "      <td>1</td>\n",
              "      <td>1.1</td>\n",
              "      <td>93.994</td>\n",
              "      <td>-36.4</td>\n",
              "      <td>4.857</td>\n",
              "      <td>5191.0</td>\n",
              "      <td>0</td>\n",
              "    </tr>\n",
              "  </tbody>\n",
              "</table>\n",
              "</div>"
            ],
            "text/plain": [
              "   age  job  marital  education  ...  cons.conf.idx  euribor3m  nr.employed  Outcome\n",
              "0   56    3        1          0  ...          -36.4      4.857       5191.0        0\n",
              "1   57    7        1          1  ...          -36.4      4.857       5191.0        0\n",
              "2   37    7        1          1  ...          -36.4      4.857       5191.0        0\n",
              "3   40    0        1          0  ...          -36.4      4.857       5191.0        0\n",
              "4   56    7        1          1  ...          -36.4      4.857       5191.0        0\n",
              "\n",
              "[5 rows x 20 columns]"
            ]
          },
          "metadata": {},
          "execution_count": 38
        }
      ]
    },
    {
      "cell_type": "markdown",
      "metadata": {
        "id": "cv3W1knsrDul"
      },
      "source": [
        "# Split Data: Data Train & Data Test"
      ]
    },
    {
      "cell_type": "code",
      "metadata": {
        "id": "9rg5BRzasfGo"
      },
      "source": [
        "# Define x and y\n",
        "x = df.loc[:, df.columns != 'Outcome']\n",
        "y = df.loc[:, df.columns == 'Outcome']"
      ],
      "execution_count": 39,
      "outputs": []
    },
    {
      "cell_type": "code",
      "metadata": {
        "id": "rDCJsm6prHAd"
      },
      "source": [
        "# Data Split into Data Train and Data Test\n",
        "x_train, x_test, y_train, y_test = train_test_split(x,y,test_size=0.2, random_state=1)"
      ],
      "execution_count": 40,
      "outputs": []
    },
    {
      "cell_type": "code",
      "metadata": {
        "id": "flacmz8brVF_"
      },
      "source": [
        "# Standarization\n",
        "scaler= StandardScaler()\n",
        "x_train = scaler.fit_transform(x_train)\n",
        "x_test=scaler.fit_transform(x_test)"
      ],
      "execution_count": 41,
      "outputs": []
    },
    {
      "cell_type": "code",
      "metadata": {
        "id": "lp53PHcU9ku6"
      },
      "source": [
        "x_train2 = x_train\n",
        "x_test2=x_test\n",
        "y_train2 = y_train\n",
        "y_test2 = y_test"
      ],
      "execution_count": 42,
      "outputs": []
    },
    {
      "cell_type": "markdown",
      "metadata": {
        "id": "FFt9vxtP-nVO"
      },
      "source": [
        "# Logistic Regression"
      ]
    },
    {
      "cell_type": "code",
      "metadata": {
        "id": "I1hdZhpPxccB"
      },
      "source": [
        "from sklearn.linear_model import LogisticRegression"
      ],
      "execution_count": 43,
      "outputs": []
    },
    {
      "cell_type": "code",
      "metadata": {
        "colab": {
          "base_uri": "https://localhost:8080/"
        },
        "id": "iGfmpIfkHv1X",
        "outputId": "2afd7e3c-0f63-4537-be20-e5612a162d8d"
      },
      "source": [
        "# Stats Summary\n",
        "logit_regression=sm.Logit(y_train,x_train)\n",
        "stats_regression=logit_regression.fit()\n",
        "print(stats_regression.summary())"
      ],
      "execution_count": 44,
      "outputs": [
        {
          "output_type": "stream",
          "name": "stdout",
          "text": [
            "Optimization terminated successfully.\n",
            "         Current function value: 0.644713\n",
            "         Iterations 8\n",
            "                           Logit Regression Results                           \n",
            "==============================================================================\n",
            "Dep. Variable:                Outcome   No. Observations:                32950\n",
            "Model:                          Logit   Df Residuals:                    32931\n",
            "Method:                           MLE   Df Model:                           18\n",
            "Date:                Sun, 05 Dec 2021   Pseudo R-squ.:                 -0.8366\n",
            "Time:                        09:43:05   Log-Likelihood:                -21243.\n",
            "converged:                       True   LL-Null:                       -11566.\n",
            "Covariance Type:            nonrobust   LLR p-value:                     1.000\n",
            "==============================================================================\n",
            "                 coef    std err          z      P>|z|      [0.025      0.975]\n",
            "------------------------------------------------------------------------------\n",
            "x1             0.0293      0.013      2.203      0.028       0.003       0.055\n",
            "x2             0.0095      0.012      0.820      0.412      -0.013       0.032\n",
            "x3             0.0269      0.013      2.144      0.032       0.002       0.052\n",
            "x4             0.0289      0.012      2.422      0.015       0.006       0.052\n",
            "x5            -0.0300      0.012     -2.515      0.012      -0.053      -0.007\n",
            "x6            -0.0032      0.012     -0.279      0.780      -0.026       0.019\n",
            "x7             0.0030      0.012      0.259      0.796      -0.020       0.026\n",
            "x8            -0.2520      0.020    -12.833      0.000      -0.291      -0.214\n",
            "x9             0.0158      0.017      0.923      0.356      -0.018       0.049\n",
            "x10            0.0199      0.012      1.731      0.083      -0.003       0.043\n",
            "x11           -0.0185      0.012     -1.591      0.112      -0.041       0.004\n",
            "x12           -0.5151      0.065     -7.966      0.000      -0.642      -0.388\n",
            "x13            0.2226      0.054      4.106      0.000       0.116       0.329\n",
            "x14            0.3110      0.046      6.809      0.000       0.221       0.401\n",
            "x15           -0.6316      0.084     -7.483      0.000      -0.797      -0.466\n",
            "x16            0.4485      0.036     12.437      0.000       0.378       0.519\n",
            "x17            0.1701      0.021      8.022      0.000       0.129       0.212\n",
            "x18            0.1834      0.109      1.681      0.093      -0.030       0.397\n",
            "x19           -0.2133      0.072     -2.975      0.003      -0.354      -0.073\n",
            "==============================================================================\n"
          ]
        }
      ]
    },
    {
      "cell_type": "code",
      "metadata": {
        "colab": {
          "base_uri": "https://localhost:8080/"
        },
        "id": "NAq_RDD5Bj7a",
        "outputId": "b91426eb-7e4f-4d18-f57a-f4ad6386febd"
      },
      "source": [
        "model_regression=LogisticRegression(solver='liblinear', C=0.05, multi_class='ovr', random_state=0)\n",
        "model_regression.fit(x_train,y_train)\n"
      ],
      "execution_count": 45,
      "outputs": [
        {
          "output_type": "stream",
          "name": "stderr",
          "text": [
            "/usr/local/lib/python3.7/dist-packages/sklearn/utils/validation.py:985: DataConversionWarning: A column-vector y was passed when a 1d array was expected. Please change the shape of y to (n_samples, ), for example using ravel().\n",
            "  y = column_or_1d(y, warn=True)\n"
          ]
        },
        {
          "output_type": "execute_result",
          "data": {
            "text/plain": [
              "LogisticRegression(C=0.05, multi_class='ovr', random_state=0,\n",
              "                   solver='liblinear')"
            ]
          },
          "metadata": {},
          "execution_count": 45
        }
      ]
    },
    {
      "cell_type": "markdown",
      "metadata": {
        "id": "kBVXKl2ptjfU"
      },
      "source": [
        "**Model Score**"
      ]
    },
    {
      "cell_type": "code",
      "metadata": {
        "colab": {
          "base_uri": "https://localhost:8080/"
        },
        "id": "hrP24mxptiPa",
        "outputId": "d7c0b52d-5bf8-4b27-b23a-79f0d19ebe7b"
      },
      "source": [
        "print (\"Model Score Data Train=\", model_regression.score(x_train,y_train))"
      ],
      "execution_count": 46,
      "outputs": [
        {
          "output_type": "stream",
          "name": "stdout",
          "text": [
            "Model Score Data Train= 0.9001517450682853\n"
          ]
        }
      ]
    },
    {
      "cell_type": "markdown",
      "metadata": {
        "id": "Cn22AJ9RuE8A"
      },
      "source": [
        "**Model Evaluation**"
      ]
    },
    {
      "cell_type": "code",
      "metadata": {
        "id": "1TfdUt8CuHnQ"
      },
      "source": [
        "# Model Prediction\n",
        "y_predict_regg = model_regression.predict(x_test)"
      ],
      "execution_count": 47,
      "outputs": []
    },
    {
      "cell_type": "code",
      "metadata": {
        "colab": {
          "base_uri": "https://localhost:8080/"
        },
        "id": "F43Sj-8kukWj",
        "outputId": "4551bdb1-4aaf-4603-a218-2b772ff075a3"
      },
      "source": [
        "print (\"Model Score Data Test=\", model_regression.score(x_test,y_test))"
      ],
      "execution_count": 48,
      "outputs": [
        {
          "output_type": "stream",
          "name": "stdout",
          "text": [
            "Model Score Data Test= 0.8982762806506434\n"
          ]
        }
      ]
    },
    {
      "cell_type": "code",
      "metadata": {
        "colab": {
          "base_uri": "https://localhost:8080/"
        },
        "id": "_pUporF9wNBA",
        "outputId": "ac7ae7e7-e52b-4b03-ce5f-986da402b303"
      },
      "source": [
        "print(\"Model Accuracy Log Regg=\", metrics.accuracy_score(y_test, y_predict_regg))"
      ],
      "execution_count": 49,
      "outputs": [
        {
          "output_type": "stream",
          "name": "stdout",
          "text": [
            "Model Accuracy Log Regg= 0.8982762806506434\n"
          ]
        }
      ]
    },
    {
      "cell_type": "code",
      "metadata": {
        "colab": {
          "base_uri": "https://localhost:8080/",
          "height": 497
        },
        "id": "PMYS__M1CSSy",
        "outputId": "c6cd389a-9bf8-40a4-f6be-5c28032e329f"
      },
      "source": [
        "#Confusion Matrix\n",
        "cm_regression= confusion_matrix(y_test, y_predict_regg)\n",
        "fig,ax = plt.subplots(figsize=(8,8))\n",
        "ax.imshow(cm_regression)\n",
        "ax.grid(False)\n",
        "ax.set_xlabel(\"Predicted Outputs\", color='black')\n",
        "ax.set_ylabel(\"Actual Outputs\", color='black')\n",
        "ax.xaxis.set(ticks=range(2))\n",
        "ax.yaxis.set(ticks=range(2))\n",
        "ax.set_ylim(1.5,-0.5)\n",
        "for i in range(2):\n",
        "  for j in range(2):\n",
        "    ax.text(j,i,cm_regression[i,j],ha='center',va='center',color='white')\n",
        "\n",
        "plt.show()"
      ],
      "execution_count": 50,
      "outputs": [
        {
          "output_type": "display_data",
          "data": {
            "image/png": "[encoded data removed]",
            "text/plain": [
              "<Figure size 576x576 with 1 Axes>"
            ]
          },
          "metadata": {
            "needs_background": "light"
          }
        }
      ]
    },
    {
      "cell_type": "code",
      "metadata": {
        "colab": {
          "base_uri": "https://localhost:8080/"
        },
        "id": "_wmpHZPIIyy5",
        "outputId": "f6728256-8093-41ff-8adb-485fbfaad67b"
      },
      "source": [
        "#Classification Report\n",
        "print(classification_report(y_test, y_predict_regg))"
      ],
      "execution_count": 51,
      "outputs": [
        {
          "output_type": "stream",
          "name": "stdout",
          "text": [
            "              precision    recall  f1-score   support\n",
            "\n",
            "           0       0.91      0.99      0.95      7294\n",
            "           1       0.68      0.21      0.32       944\n",
            "\n",
            "    accuracy                           0.90      8238\n",
            "   macro avg       0.79      0.60      0.63      8238\n",
            "weighted avg       0.88      0.90      0.87      8238\n",
            "\n"
          ]
        }
      ]
    },
    {
      "cell_type": "markdown",
      "metadata": {
        "id": "STVri1BIwZEY"
      },
      "source": [
        "# K-Nearest Neighbor"
      ]
    },
    {
      "cell_type": "code",
      "metadata": {
        "id": "kfpUxvSjxM2I"
      },
      "source": [
        "from sklearn.neighbors import KNeighborsClassifier"
      ],
      "execution_count": 52,
      "outputs": []
    },
    {
      "cell_type": "code",
      "metadata": {
        "colab": {
          "base_uri": "https://localhost:8080/"
        },
        "id": "UX5B6UZMxeLe",
        "outputId": "f542d697-febe-46d7-f7e6-8518f10fd21a"
      },
      "source": [
        "knn= KNeighborsClassifier(n_neighbors=5)\n",
        "knn.fit(x_train, y_train)\n",
        "y_predict_knn= knn.predict(x_test)"
      ],
      "execution_count": 53,
      "outputs": [
        {
          "output_type": "stream",
          "name": "stderr",
          "text": [
            "/usr/local/lib/python3.7/dist-packages/sklearn/neighbors/_classification.py:198: DataConversionWarning: A column-vector y was passed when a 1d array was expected. Please change the shape of y to (n_samples,), for example using ravel().\n",
            "  return self._fit(X, y)\n"
          ]
        }
      ]
    },
    {
      "cell_type": "markdown",
      "metadata": {
        "id": "xnrf9qtVyRCE"
      },
      "source": [
        "**Model Evaluation**"
      ]
    },
    {
      "cell_type": "code",
      "metadata": {
        "colab": {
          "base_uri": "https://localhost:8080/"
        },
        "id": "TDAuK4kfyZip",
        "outputId": "9367d0e9-fbb3-4249-f0e9-b83cde0c5701"
      },
      "source": [
        "print(\"Model Accuracy KNN=\", metrics.accuracy_score(y_test, y_predict_knn))"
      ],
      "execution_count": 54,
      "outputs": [
        {
          "output_type": "stream",
          "name": "stdout",
          "text": [
            "Model Accuracy KNN= 0.8912357368293276\n"
          ]
        }
      ]
    },
    {
      "cell_type": "markdown",
      "metadata": {
        "id": "MfQE6rHj1KTb"
      },
      "source": [
        "# Naive Bayes Classifier"
      ]
    },
    {
      "cell_type": "code",
      "metadata": {
        "id": "l8ufc_oWK-br"
      },
      "source": [
        "from sklearn.naive_bayes import GaussianNB"
      ],
      "execution_count": 55,
      "outputs": []
    },
    {
      "cell_type": "code",
      "metadata": {
        "id": "R_JpXBxALCM4"
      },
      "source": [
        "model_nb = GaussianNB()"
      ],
      "execution_count": 56,
      "outputs": []
    },
    {
      "cell_type": "code",
      "metadata": {
        "colab": {
          "base_uri": "https://localhost:8080/"
        },
        "id": "EavSJ6Q1LGsV",
        "outputId": "11fcea2f-c80d-49b6-8040-e637f098dd32"
      },
      "source": [
        "model_nb.fit(x_train,y_train)\n",
        "y_predict_nb = model_nb.predict(x_test)"
      ],
      "execution_count": 57,
      "outputs": [
        {
          "output_type": "stream",
          "name": "stderr",
          "text": [
            "/usr/local/lib/python3.7/dist-packages/sklearn/utils/validation.py:985: DataConversionWarning: A column-vector y was passed when a 1d array was expected. Please change the shape of y to (n_samples, ), for example using ravel().\n",
            "  y = column_or_1d(y, warn=True)\n"
          ]
        }
      ]
    },
    {
      "cell_type": "code",
      "metadata": {
        "colab": {
          "base_uri": "https://localhost:8080/"
        },
        "id": "EKkVvs6wL_P0",
        "outputId": "9626a3c2-eb37-44e8-99a3-32429f4140c6"
      },
      "source": [
        "print (\"Accuracy of Naive Bayer Model = \", metrics.accuracy_score(y_test, y_predict_nb))"
      ],
      "execution_count": 58,
      "outputs": [
        {
          "output_type": "stream",
          "name": "stdout",
          "text": [
            "Accuracy of Naive Bayer Model =  0.8373391599902889\n"
          ]
        }
      ]
    },
    {
      "cell_type": "markdown",
      "metadata": {
        "id": "cMxC7MB7MODF"
      },
      "source": [
        "# Decision Tree Classifier"
      ]
    },
    {
      "cell_type": "code",
      "metadata": {
        "id": "fdBtGd7pMW0X"
      },
      "source": [
        "from sklearn.tree import DecisionTreeClassifier\n",
        "import sklearn.tree as tree\n",
        "import pydotplus\n",
        "from six import StringIO\n",
        "from IPython.display import Image"
      ],
      "execution_count": 59,
      "outputs": []
    },
    {
      "cell_type": "markdown",
      "metadata": {
        "id": "q5ewKy3VOS0e"
      },
      "source": [
        "Feature = All Column except Outcome\n",
        "Target =  Column Outcome (0= No, and 1 = Yes)"
      ]
    },
    {
      "cell_type": "code",
      "metadata": {
        "id": "AnXSz3ywMi8_"
      },
      "source": [
        "tree_clf= DecisionTreeClassifier(random_state=123, criterion='entropy', max_depth = 5)\n",
        "tree_clf = tree_clf.fit(x_train, y_train)\n",
        "y_predict_tree = tree_clf.predict(x_test)"
      ],
      "execution_count": 60,
      "outputs": []
    },
    {
      "cell_type": "code",
      "metadata": {
        "colab": {
          "base_uri": "https://localhost:8080/"
        },
        "id": "XcZfntbqO-dO",
        "outputId": "5788fa05-e4b8-4ceb-9f73-86dd9f69b99a"
      },
      "source": [
        "print (\"Accuracy of Decision Tree Model = \", metrics.accuracy_score(y_test, y_predict_tree))"
      ],
      "execution_count": 61,
      "outputs": [
        {
          "output_type": "stream",
          "name": "stdout",
          "text": [
            "Accuracy of Decision Tree Model =  0.898154891964069\n"
          ]
        }
      ]
    },
    {
      "cell_type": "markdown",
      "metadata": {
        "id": "E-GWPH2sPtcV"
      },
      "source": [
        "**Visualization**"
      ]
    },
    {
      "cell_type": "code",
      "metadata": {
        "colab": {
          "base_uri": "https://localhost:8080/",
          "height": 1000
        },
        "id": "QzlIE59s6mfk",
        "outputId": "497f2b3c-380d-4ef5-82c6-fb268737f976"
      },
      "source": [
        "# Visualize the Decision Tree\n",
        "fig = plt.figure(figsize=(55,45))\n",
        "_ = tree.plot_tree(tree_clf, \n",
        "                   feature_names=(x_train),\n",
        "                   class_names=['yes','no'],\n",
        "                   filled=True)"
      ],
      "execution_count": 62,
      "outputs": [
        {
          "output_type": "display_data",
          "data": {
            "image/png": "[encoded data removed]",
            "text/plain": [
              "<Figure size 3960x3240 with 1 Axes>"
            ]
          },
          "metadata": {
            "needs_background": "light"
          }
        }
      ]
    },
    {
      "cell_type": "markdown",
      "metadata": {
        "id": "iu2msEx7s0qo"
      },
      "source": [
        "# Random Forest"
      ]
    },
    {
      "cell_type": "code",
      "metadata": {
        "id": "N-gW6cFrtEJk"
      },
      "source": [
        "from sklearn.ensemble import RandomForestClassifier"
      ],
      "execution_count": 63,
      "outputs": []
    },
    {
      "cell_type": "code",
      "metadata": {
        "colab": {
          "base_uri": "https://localhost:8080/"
        },
        "id": "iosF_zKotEG3",
        "outputId": "bce96565-7b05-441c-850d-a4ea34bc129a"
      },
      "source": [
        "rf_clf=RandomForestClassifier(n_estimators=100)\n",
        "rf_clf.fit(x_train, y_train)"
      ],
      "execution_count": 64,
      "outputs": [
        {
          "output_type": "stream",
          "name": "stderr",
          "text": [
            "/usr/local/lib/python3.7/dist-packages/ipykernel_launcher.py:2: DataConversionWarning: A column-vector y was passed when a 1d array was expected. Please change the shape of y to (n_samples,), for example using ravel().\n",
            "  \n"
          ]
        },
        {
          "output_type": "execute_result",
          "data": {
            "text/plain": [
              "RandomForestClassifier()"
            ]
          },
          "metadata": {},
          "execution_count": 64
        }
      ]
    },
    {
      "cell_type": "code",
      "metadata": {
        "id": "zmiJtDVxtD9J"
      },
      "source": [
        "y_predict_RF = rf_clf.predict(x_test)"
      ],
      "execution_count": 65,
      "outputs": []
    },
    {
      "cell_type": "code",
      "metadata": {
        "colab": {
          "base_uri": "https://localhost:8080/"
        },
        "id": "M1GBeE0jus8V",
        "outputId": "3927de36-1cd9-490e-e609-06ed9c4bc75a"
      },
      "source": [
        "print (\"Accuracy of Random Forest = \", metrics.accuracy_score(y_test, y_predict_RF))"
      ],
      "execution_count": 66,
      "outputs": [
        {
          "output_type": "stream",
          "name": "stdout",
          "text": [
            "Accuracy of Random Forest =  0.8935421218742413\n"
          ]
        }
      ]
    },
    {
      "cell_type": "markdown",
      "metadata": {
        "id": "sqLzdqTFs1Cx"
      },
      "source": [
        "# SVM"
      ]
    },
    {
      "cell_type": "code",
      "metadata": {
        "id": "4X1JgdylvDDa"
      },
      "source": [
        "from sklearn import svm"
      ],
      "execution_count": 67,
      "outputs": []
    },
    {
      "cell_type": "code",
      "metadata": {
        "colab": {
          "base_uri": "https://localhost:8080/"
        },
        "id": "z-bgww5_vDAk",
        "outputId": "8445b862-42e8-47ea-860d-a140d7ed37ba"
      },
      "source": [
        "svm_clf= svm.SVC(kernel='linear') # Linear Kernel\n",
        "svm_clf.fit(x_train, y_train)"
      ],
      "execution_count": 68,
      "outputs": [
        {
          "output_type": "stream",
          "name": "stderr",
          "text": [
            "/usr/local/lib/python3.7/dist-packages/sklearn/utils/validation.py:985: DataConversionWarning: A column-vector y was passed when a 1d array was expected. Please change the shape of y to (n_samples, ), for example using ravel().\n",
            "  y = column_or_1d(y, warn=True)\n"
          ]
        },
        {
          "output_type": "execute_result",
          "data": {
            "text/plain": [
              "SVC(kernel='linear')"
            ]
          },
          "metadata": {},
          "execution_count": 68
        }
      ]
    },
    {
      "cell_type": "code",
      "metadata": {
        "id": "AAZvolVBvC9a"
      },
      "source": [
        "y_predict_svm = svm_clf.predict (x_test)"
      ],
      "execution_count": 69,
      "outputs": []
    },
    {
      "cell_type": "code",
      "metadata": {
        "colab": {
          "base_uri": "https://localhost:8080/"
        },
        "id": "udH9j1B1w6C7",
        "outputId": "8671ddf6-7f30-49a1-9533-edbde6c8a80b"
      },
      "source": [
        "print (\"Accuracy of SVM = \", metrics.accuracy_score(y_test, y_predict_svm))"
      ],
      "execution_count": 70,
      "outputs": [
        {
          "output_type": "stream",
          "name": "stdout",
          "text": [
            "Accuracy of SVM =  0.8973051711580481\n"
          ]
        }
      ]
    },
    {
      "cell_type": "markdown",
      "metadata": {
        "id": "L78xThtgv7bj"
      },
      "source": [
        "# Summary of Accuracy"
      ]
    },
    {
      "cell_type": "code",
      "metadata": {
        "colab": {
          "base_uri": "https://localhost:8080/"
        },
        "id": "xWlGtaJtwAG1",
        "outputId": "33965d2b-d6e6-421a-b353-23f0619fa43a"
      },
      "source": [
        "print(\"Model Accuracy Logistic Reggression=\", metrics.accuracy_score(y_test, y_predict_regg))\n",
        "print(\"Model Accuracy KNN=\", metrics.accuracy_score(y_test, y_predict_knn))\n",
        "print (\"Accuracy of Naive Bayer Model = \", metrics.accuracy_score(y_test, y_predict_nb))\n",
        "print (\"Accuracy of Decision Tree Model = \", metrics.accuracy_score(y_test, y_predict_tree))\n",
        "print (\"Accuracy of Random Forest = \", metrics.accuracy_score(y_test, y_predict_RF))\n",
        "print (\"Accuracy of SVM = \", metrics.accuracy_score(y_test, y_predict_svm))"
      ],
      "execution_count": 71,
      "outputs": [
        {
          "output_type": "stream",
          "name": "stdout",
          "text": [
            "Model Accuracy Logistic Reggression= 0.8982762806506434\n",
            "Model Accuracy KNN= 0.8912357368293276\n",
            "Accuracy of Naive Bayer Model =  0.8373391599902889\n",
            "Accuracy of Decision Tree Model =  0.898154891964069\n",
            "Accuracy of Random Forest =  0.8935421218742413\n",
            "Accuracy of SVM =  0.8973051711580481\n"
          ]
        }
      ]
    },
    {
      "cell_type": "markdown",
      "metadata": {
        "id": "VANJG2gVhPuI"
      },
      "source": [
        "# Summary of Classification Report"
      ]
    },
    {
      "cell_type": "code",
      "metadata": {
        "colab": {
          "base_uri": "https://localhost:8080/"
        },
        "id": "rSXf16xahIst",
        "outputId": "6e987fed-68cd-4a2b-8589-3290aec16882"
      },
      "source": [
        "print(\"Classification Report for Log Regression Model\")\n",
        "print(classification_report(y_test, y_predict_regg))"
      ],
      "execution_count": 72,
      "outputs": [
        {
          "output_type": "stream",
          "name": "stdout",
          "text": [
            "Classification Report for Log Regression Model\n",
            "              precision    recall  f1-score   support\n",
            "\n",
            "           0       0.91      0.99      0.95      7294\n",
            "           1       0.68      0.21      0.32       944\n",
            "\n",
            "    accuracy                           0.90      8238\n",
            "   macro avg       0.79      0.60      0.63      8238\n",
            "weighted avg       0.88      0.90      0.87      8238\n",
            "\n"
          ]
        }
      ]
    },
    {
      "cell_type": "code",
      "metadata": {
        "colab": {
          "base_uri": "https://localhost:8080/"
        },
        "id": "11aQL9oyhpI2",
        "outputId": "905b5d55-dab5-43c2-c5ed-304bc8e1c579"
      },
      "source": [
        "print(\"Classification Report for KNN\")\n",
        "print(classification_report(y_test, y_predict_knn))"
      ],
      "execution_count": 73,
      "outputs": [
        {
          "output_type": "stream",
          "name": "stdout",
          "text": [
            "Classification Report for KNN\n",
            "              precision    recall  f1-score   support\n",
            "\n",
            "           0       0.91      0.97      0.94      7294\n",
            "           1       0.55      0.28      0.37       944\n",
            "\n",
            "    accuracy                           0.89      8238\n",
            "   macro avg       0.73      0.63      0.66      8238\n",
            "weighted avg       0.87      0.89      0.88      8238\n",
            "\n"
          ]
        }
      ]
    },
    {
      "cell_type": "code",
      "metadata": {
        "colab": {
          "base_uri": "https://localhost:8080/"
        },
        "id": "GEgC58zfhpEn",
        "outputId": "42ffa1c7-8deb-457b-88dd-383d36cabb77"
      },
      "source": [
        "print(\"Classification Report for Naive Bayer Model\")\n",
        "print(classification_report(y_test, y_predict_nb))"
      ],
      "execution_count": 74,
      "outputs": [
        {
          "output_type": "stream",
          "name": "stdout",
          "text": [
            "Classification Report for Naive Bayer Model\n",
            "              precision    recall  f1-score   support\n",
            "\n",
            "           0       0.93      0.88      0.91      7294\n",
            "           1       0.36      0.51      0.42       944\n",
            "\n",
            "    accuracy                           0.84      8238\n",
            "   macro avg       0.64      0.70      0.66      8238\n",
            "weighted avg       0.87      0.84      0.85      8238\n",
            "\n"
          ]
        }
      ]
    },
    {
      "cell_type": "code",
      "metadata": {
        "colab": {
          "base_uri": "https://localhost:8080/"
        },
        "id": "rLbibih8hpBs",
        "outputId": "f3e4a1da-50ff-4740-9cba-08cc581cf02f"
      },
      "source": [
        "print(\"Classification Report for Decision Tree Model\")\n",
        "print(classification_report(y_test, y_predict_tree))"
      ],
      "execution_count": 75,
      "outputs": [
        {
          "output_type": "stream",
          "name": "stdout",
          "text": [
            "Classification Report for Decision Tree Model\n",
            "              precision    recall  f1-score   support\n",
            "\n",
            "           0       0.91      0.99      0.94      7294\n",
            "           1       0.66      0.23      0.34       944\n",
            "\n",
            "    accuracy                           0.90      8238\n",
            "   macro avg       0.79      0.61      0.64      8238\n",
            "weighted avg       0.88      0.90      0.88      8238\n",
            "\n"
          ]
        }
      ]
    },
    {
      "cell_type": "code",
      "metadata": {
        "colab": {
          "base_uri": "https://localhost:8080/"
        },
        "id": "XIzIbC90ho-v",
        "outputId": "9af51a81-ee97-4c06-e8dd-f826e1cb9041"
      },
      "source": [
        "print(\"Classification Report for Random Forest\")\n",
        "print(classification_report(y_test, y_predict_RF))"
      ],
      "execution_count": 76,
      "outputs": [
        {
          "output_type": "stream",
          "name": "stdout",
          "text": [
            "Classification Report for Random Forest\n",
            "              precision    recall  f1-score   support\n",
            "\n",
            "           0       0.91      0.97      0.94      7294\n",
            "           1       0.58      0.27      0.37       944\n",
            "\n",
            "    accuracy                           0.89      8238\n",
            "   macro avg       0.74      0.62      0.66      8238\n",
            "weighted avg       0.87      0.89      0.88      8238\n",
            "\n"
          ]
        }
      ]
    },
    {
      "cell_type": "code",
      "metadata": {
        "colab": {
          "base_uri": "https://localhost:8080/"
        },
        "id": "NM6ZFtiQho77",
        "outputId": "1b461f43-e783-48ec-d487-538bf0c8ba91"
      },
      "source": [
        "print(\"Classification Report for SVM\")\n",
        "print(classification_report(y_test, y_predict_svm))"
      ],
      "execution_count": 77,
      "outputs": [
        {
          "output_type": "stream",
          "name": "stdout",
          "text": [
            "Classification Report for SVM\n",
            "              precision    recall  f1-score   support\n",
            "\n",
            "           0       0.91      0.98      0.94      7294\n",
            "           1       0.65      0.22      0.33       944\n",
            "\n",
            "    accuracy                           0.90      8238\n",
            "   macro avg       0.78      0.60      0.64      8238\n",
            "weighted avg       0.88      0.90      0.87      8238\n",
            "\n"
          ]
        }
      ]
    },
    {
      "cell_type": "markdown",
      "metadata": {
        "id": "xKaG6dHxxgus"
      },
      "source": [
        "**From Summary of Accuracy, the best Model is: Logistic Regression and Decision Tree with Accuracy 0,9. Both also has good precision**"
      ]
    }
  ]
}