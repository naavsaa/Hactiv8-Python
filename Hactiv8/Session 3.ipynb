{
 "cells": [
  {
   "cell_type": "code",
   "execution_count": 1,
   "id": "7e17d959",
   "metadata": {},
   "outputs": [],
   "source": [
    "def function_name (parameters):\n",
    "    \"docstring\"\n",
    "    statement (s)"
   ]
  },
  {
   "cell_type": "code",
   "execution_count": 4,
   "id": "e921ac29",
   "metadata": {},
   "outputs": [],
   "source": [
    "def my_function(p, l):\n",
    "    \"fungsi untuk menghitung luas\"\n",
    "    print (p*l)"
   ]
  },
  {
   "cell_type": "code",
   "execution_count": 5,
   "id": "e1cd3464",
   "metadata": {},
   "outputs": [
    {
     "name": "stdout",
     "output_type": "stream",
     "text": [
      "8\n"
     ]
    }
   ],
   "source": [
    "my_function (2,4)"
   ]
  },
  {
   "cell_type": "code",
   "execution_count": 9,
   "id": "d526343b",
   "metadata": {},
   "outputs": [
    {
     "name": "stdout",
     "output_type": "stream",
     "text": [
      "I'm first call to user defined function!\n",
      "Again second call to the same function\n"
     ]
    }
   ],
   "source": [
    "def printme (str):\n",
    "    \"This prints a passed string into this function\"\n",
    "    print (str)\n",
    "    return;\n",
    "\n",
    "#Now you can call printme function\n",
    "printme(\"I'm first call to user defined function!\")\n",
    "printme(\"Again second call to the same function\")"
   ]
  },
  {
   "cell_type": "code",
   "execution_count": 10,
   "id": "4c6474f4",
   "metadata": {},
   "outputs": [],
   "source": [
    "#PASS BY REFRENCE VS VALUE"
   ]
  },
  {
   "cell_type": "code",
   "execution_count": 12,
   "id": "b7b70afb",
   "metadata": {},
   "outputs": [
    {
     "name": "stdout",
     "output_type": "stream",
     "text": [
      "Values inside the function: [10, 20, 30, [1, 2, 3, 4]]\n",
      "Values outside the functions: [10, 20, 30, [1, 2, 3, 4]]\n"
     ]
    }
   ],
   "source": [
    "#Function definition is here\n",
    "def changeme (mylist):\n",
    "    \"This changes a passed list into this function\"\n",
    "    mylist.append([1,2,3,4]);\n",
    "    print(\"Values inside the function:\", mylist)\n",
    "    return\n",
    "\n",
    "#Now you can call changeme function\n",
    "mylist = [10,20,30];\n",
    "changeme(mylist);\n",
    "print (\"Values outside the functions:\", mylist)"
   ]
  },
  {
   "cell_type": "code",
   "execution_count": 13,
   "id": "434b3ce5",
   "metadata": {},
   "outputs": [
    {
     "name": "stdout",
     "output_type": "stream",
     "text": [
      "Values inside the function: [1, 2, 3, 4]\n",
      "values outside the function: [10, 20, 30]\n"
     ]
    }
   ],
   "source": [
    "#Function definition is here\n",
    "def changeme(mylist):\n",
    "    \"this changes a passed list into this function\"\n",
    "    mylist=[1,2,3,4]; #this whould assign new reference in my list\n",
    "    print(\"Values inside the function:\", mylist)\n",
    "    return\n",
    "\n",
    "#Now you can call changeme function\n",
    "mylist = [10,20,30]\n",
    "changeme(mylist);\n",
    "print (\"values outside the function:\",mylist)"
   ]
  },
  {
   "cell_type": "code",
   "execution_count": 15,
   "id": "9d47feaa",
   "metadata": {},
   "outputs": [],
   "source": [
    "#FUNCTION ARGUMENTS\n",
    "#consist of: Required arguments, keyword arguments, default arguments, and variable arguments"
   ]
  },
  {
   "cell_type": "code",
   "execution_count": 16,
   "id": "3836add1",
   "metadata": {},
   "outputs": [],
   "source": [
    "#Required Arguments and Keyword Arguments"
   ]
  },
  {
   "cell_type": "code",
   "execution_count": 18,
   "id": "1aeaef16",
   "metadata": {},
   "outputs": [
    {
     "name": "stdout",
     "output_type": "stream",
     "text": [
      "Hactiv8\n"
     ]
    }
   ],
   "source": [
    "#Function definition is here\n",
    "def printme (str):\n",
    "    \"this prints a passed string into this function\"\n",
    "    print(str)\n",
    "    return;\n",
    "#Now you can call printme function\n",
    "printme(str= \"Hactiv8\")"
   ]
  },
  {
   "cell_type": "code",
   "execution_count": 19,
   "id": "2035859d",
   "metadata": {},
   "outputs": [
    {
     "name": "stdout",
     "output_type": "stream",
     "text": [
      "Name: Asvan\n",
      "Age: 4\n"
     ]
    }
   ],
   "source": [
    "#Function definition is here\n",
    "def printinfo (name, age):\n",
    "    \"this prints a passed string into this function\"\n",
    "    print(\"Name:\",name)\n",
    "    print(\"Age:\", age)\n",
    "    return;\n",
    "#Now you can call printme function\n",
    "printinfo(age=4, name=\"Asvan\")"
   ]
  },
  {
   "cell_type": "code",
   "execution_count": 20,
   "id": "6f4bfca4",
   "metadata": {},
   "outputs": [],
   "source": [
    "#Default Arguments"
   ]
  },
  {
   "cell_type": "code",
   "execution_count": 23,
   "id": "70e9940b",
   "metadata": {},
   "outputs": [
    {
     "name": "stdout",
     "output_type": "stream",
     "text": [
      "Name: Maruli\n",
      "Age: 50\n",
      "Name: Maruli2\n",
      "Age: 26\n"
     ]
    }
   ],
   "source": [
    "#Function definition is here\n",
    "def printinfo (name, age=26):\n",
    "    \"this prints a passed string into this function\"\n",
    "    print(\"Name:\",name)\n",
    "    print(\"Age:\", age)\n",
    "    return;\n",
    "#Now you can call printme function\n",
    "printinfo(age=50, name=\"Maruli\")\n",
    "printinfo(name=\"Maruli2\")"
   ]
  },
  {
   "cell_type": "code",
   "execution_count": 24,
   "id": "e4ab942f",
   "metadata": {},
   "outputs": [],
   "source": [
    "#variable arguments\n"
   ]
  },
  {
   "cell_type": "code",
   "execution_count": 25,
   "id": "7386867d",
   "metadata": {},
   "outputs": [
    {
     "name": "stdout",
     "output_type": "stream",
     "text": [
      "output is: \n",
      "10\n",
      "output is: \n",
      "70\n",
      "60\n",
      "50\n",
      "a\n"
     ]
    }
   ],
   "source": [
    "#Functions definition is here\n",
    "def printgo(arg1, *vartuple):\n",
    "    print(\"output is: \")\n",
    "    print(arg1)\n",
    "    for var in vartuple:\n",
    "        print(var)\n",
    "    return;\n",
    "\n",
    "#Now you can call printinfo function\n",
    "printgo(10)\n",
    "printgo(70,60,50,\"a\")"
   ]
  },
  {
   "cell_type": "code",
   "execution_count": 26,
   "id": "9a284d2e",
   "metadata": {},
   "outputs": [],
   "source": [
    "#THE ANONYMOUS FUNCTIONS"
   ]
  },
  {
   "cell_type": "code",
   "execution_count": null,
   "id": "88576ad6",
   "metadata": {},
   "outputs": [],
   "source": []
  }
 ],
 "metadata": {
  "kernelspec": {
   "display_name": "Python 3",
   "language": "python",
   "name": "python3"
  },
  "language_info": {
   "codemirror_mode": {
    "name": "ipython",
    "version": 3
   },
   "file_extension": ".py",
   "mimetype": "text/x-python",
   "name": "python",
   "nbconvert_exporter": "python",
   "pygments_lexer": "ipython3",
   "version": "3.8.8"
  }
 },
 "nbformat": 4,
 "nbformat_minor": 5
}
