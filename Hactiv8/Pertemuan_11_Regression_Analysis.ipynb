{
  "nbformat": 4,
  "nbformat_minor": 0,
  "metadata": {
    "colab": {
      "name": "Pertemuan_11_Regression Analysis.ipynb",
      "provenance": [],
      "collapsed_sections": [],
      "include_colab_link": true
    },
    "kernelspec": {
      "name": "python3",
      "display_name": "Python 3"
    },
    "language_info": {
      "name": "python"
    }
  },
  "cells": [
    {
      "cell_type": "markdown",
      "metadata": {
        "id": "view-in-github",
        "colab_type": "text"
      },
      "source": [
        "<a href=\"https://colab.research.google.com/github/naavsaa/Hactiv8-Python/blob/master/Hactiv8/Pertemuan_11_Regression_Analysis.ipynb\" target=\"_parent\"><img src=\"https://colab.research.google.com/assets/colab-badge.svg\" alt=\"Open In Colab\"/></a>"
      ]
    },
    {
      "cell_type": "code",
      "metadata": {
        "id": "AOz1u2chLK2I"
      },
      "source": [
        "import numpy as np\n",
        "import matplotlib.pyplot as plt\n",
        "from sklearn.linear_model import LinearRegression\n",
        "\n",
        "\n"
      ],
      "execution_count": 1,
      "outputs": []
    },
    {
      "cell_type": "code",
      "metadata": {
        "colab": {
          "base_uri": "https://localhost:8080/"
        },
        "id": "1mXaP2G8qprN",
        "outputId": "5a48c5f6-b426-4a16-a51a-679b1844e4c8"
      },
      "source": [
        "#data training\n",
        "x=np.array([5,15,25,35,45,55]).reshape((-1,1))\n",
        "y=np.array([5,20,14,32,22,38])\n",
        "\n",
        "print(x)\n",
        "print(y)\n",
        "\n"
      ],
      "execution_count": 2,
      "outputs": [
        {
          "output_type": "stream",
          "name": "stdout",
          "text": [
            "[[ 5]\n",
            " [15]\n",
            " [25]\n",
            " [35]\n",
            " [45]\n",
            " [55]]\n",
            "[ 5 20 14 32 22 38]\n"
          ]
        }
      ]
    },
    {
      "cell_type": "code",
      "metadata": {
        "colab": {
          "base_uri": "https://localhost:8080/"
        },
        "id": "Ab9r_VhcqsJq",
        "outputId": "5bbc17d0-aa16-492a-8e87-5247e6ccc439"
      },
      "source": [
        "model = LinearRegression()\n",
        "model.fit(x,y)\n"
      ],
      "execution_count": 3,
      "outputs": [
        {
          "output_type": "execute_result",
          "data": {
            "text/plain": [
              "LinearRegression(copy_X=True, fit_intercept=True, n_jobs=None, normalize=False)"
            ]
          },
          "metadata": {},
          "execution_count": 3
        }
      ]
    },
    {
      "cell_type": "code",
      "metadata": {
        "colab": {
          "base_uri": "https://localhost:8080/"
        },
        "id": "CHnxjiIgq0SV",
        "outputId": "fc5ddc2e-a16b-4ae7-d81a-8d16511e8101"
      },
      "source": [
        "#Step 1 buat Linear regression via SCIPY\n",
        "LinearRegression(copy_X=True, \n",
        "                 fit_intercept=True,\n",
        "                 n_jobs=None, \n",
        "                 normalize=False)\n"
      ],
      "execution_count": 4,
      "outputs": [
        {
          "output_type": "execute_result",
          "data": {
            "text/plain": [
              "LinearRegression(copy_X=True, fit_intercept=True, n_jobs=None, normalize=False)"
            ]
          },
          "metadata": {},
          "execution_count": 4
        }
      ]
    },
    {
      "cell_type": "code",
      "metadata": {
        "colab": {
          "base_uri": "https://localhost:8080/"
        },
        "id": "Zq4o3ZkmrDw5",
        "outputId": "96a3b70f-515e-4f2a-d0c2-0c65917c113a"
      },
      "source": [
        "#Step 2 hitung dan hitung coefficient of determination\n",
        "\n",
        "model= LinearRegression().fit(x,y)\n",
        "r_sq = model.score(x,y)\n",
        "print('coefficient of determination (R sq) =',r_sq)\n",
        "print('intercept=', model.intercept_)\n",
        "print('slope=', model.coef_)\n"
      ],
      "execution_count": 7,
      "outputs": [
        {
          "output_type": "stream",
          "name": "stdout",
          "text": [
            "coefficient of determination (R sq) = 0.7158756137479542\n",
            "intercept= 5.633333333333329\n",
            "slope= [0.54]\n"
          ]
        }
      ]
    },
    {
      "cell_type": "code",
      "metadata": {
        "colab": {
          "base_uri": "https://localhost:8080/"
        },
        "id": "3JScf7ftrVKr",
        "outputId": "3b875e76-634f-44b7-c742-bf77582721e1"
      },
      "source": [
        "# Experiment calculate new model with new input \n",
        "# y as two dimensional array\n",
        "\n",
        "new_model = LinearRegression().fit(x,y.reshape(-1,1))\n",
        "print('intercept', new_model.intercept_)\n",
        "print('slope:', new_model.coef_)\n"
      ],
      "execution_count": 10,
      "outputs": [
        {
          "output_type": "stream",
          "name": "stdout",
          "text": [
            "intercept [5.63333333]\n",
            "slope: [[0.54]]\n"
          ]
        }
      ]
    },
    {
      "cell_type": "code",
      "metadata": {
        "colab": {
          "base_uri": "https://localhost:8080/"
        },
        "id": "RtiM18y1r8vv",
        "outputId": "7ee04941-fa80-4922-bbaf-a0ca5ef5859f"
      },
      "source": [
        "# Predic Response\n",
        "y_pred = model.predict(x)\n",
        "print('predicted response:', y_pred, sep='\\n')"
      ],
      "execution_count": 9,
      "outputs": [
        {
          "output_type": "stream",
          "name": "stdout",
          "text": [
            "predicted response:\n",
            "[ 8.33333333 13.73333333 19.13333333 24.53333333 29.93333333 35.33333333]\n"
          ]
        }
      ]
    },
    {
      "cell_type": "code",
      "metadata": {
        "colab": {
          "base_uri": "https://localhost:8080/",
          "height": 295
        },
        "id": "11L_ETursMB8",
        "outputId": "ed597745-7dd0-4950-d68f-684fd02ecab7"
      },
      "source": [
        "plt.scatter(x,y, alpha = 0.5)\n",
        "plt.plot (x, y_pred)\n",
        "plt.title ('Scatter Plot X and Y')\n",
        "plt.xlabel ('x')\n",
        "plt.ylabel ('y)')\n",
        "plt.show()"
      ],
      "execution_count": 12,
      "outputs": [
        {
          "output_type": "display_data",
          "data": {
            "image/png": "[encoded data removed]",
            "text/plain": [
              "<Figure size 432x288 with 1 Axes>"
            ]
          },
          "metadata": {
            "needs_background": "light"
          }
        }
      ]
    },
    {
      "cell_type": "code",
      "metadata": {
        "id": "k2vHmH6pseDM"
      },
      "source": [
        ""
      ],
      "execution_count": null,
      "outputs": []
    }
  ]
}