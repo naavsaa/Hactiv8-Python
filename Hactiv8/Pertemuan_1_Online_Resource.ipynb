{
  "nbformat": 4,
  "nbformat_minor": 0,
  "metadata": {
    "colab": {
      "name": "Online Resource - Pertemuan 1.ipynb",
      "provenance": [],
      "include_colab_link": true
    },
    "kernelspec": {
      "name": "python3",
      "display_name": "Python 3"
    },
    "language_info": {
      "name": "python"
    }
  },
  "cells": [
    {
      "cell_type": "markdown",
      "metadata": {
        "id": "view-in-github",
        "colab_type": "text"
      },
      "source": [
        "<a href=\"https://colab.research.google.com/github/naavsaa/Hactiv8-Python/blob/master/Online_Resource_Pertemuan_1.ipynb\" target=\"_parent\"><img src=\"https://colab.research.google.com/assets/colab-badge.svg\" alt=\"Open In Colab\"/></a>"
      ]
    },
    {
      "cell_type": "markdown",
      "metadata": {
        "id": "eyL_b6dvfT0g"
      },
      "source": [
        "**Introduction**"
      ]
    },
    {
      "cell_type": "code",
      "metadata": {
        "colab": {
          "base_uri": "https://localhost:8080/"
        },
        "id": "y051E_kvXJwa",
        "outputId": "01bb0173-155d-46c3-cb3a-2cdcd51f47b4"
      },
      "source": [
        "print(\"Python 063 H8 Hello World pertemuan 1\")\n",
        "\n",
        "#variable declaration \n",
        "\n",
        "jumlah_peserta = 6\n",
        "kelas = 63\n",
        "\n",
        "#how to print 1 (recommended) most simple\n",
        "print(f\"Print 1 : Kelas Python {kelas} ada {jumlah_peserta} siswa dan siswi\")\n",
        "\n",
        "#how to print 2 (string manipulation)\n",
        "print(\"Print 2 : Kelas Python \"+ str(kelas) + \" ada \" + str(jumlah_peserta) +\" siswa dan siswi \")\n",
        "\n",
        "#how to print 3 (string manipulation)\n",
        "print(\"\"\"\n",
        "\n",
        "      Print 2 : Kelas Python \"\"\"\n",
        "      + str(kelas) + \n",
        "      \"\"\" ada \"\"\"\n",
        "      + str(jumlah_peserta) +\n",
        "      \"\"\" siswa dan siswi\n",
        "      \n",
        "      \"\"\")\n",
        "\n",
        "#long long long string memakai 3 \"\"\" \"\"\"\n",
        "#string biasa menggunakan \"\" or ''\n",
        "\n",
        "article = \"\"\"Indonesia is undoubtedly one of the most attractive markets in Southeast Asia. \n",
        "\n",
        "With a population of over 250 million – the largest in the region and the fourth largest in the world, after China, India, and the US – \n",
        "who wouldn’t keep an eye on this market?\n",
        "\n",
        "So let’s focus on how Indonesia has fared in web and mobile, \n",
        "two key things that matter to tech giants and startups doing business in this country.\n",
        "\n",
        "According to We Are Social’s compendium of world digital stats, \n",
        "Indonesia now has 88.1 million active internet users, up 15 percent over the past 12 months.\n",
        "\n",
        "Its mobile market has exploded over the past couple of years. \n",
        "SIM subscriptions in Indonesia stand at 326.3 million, way more than its population.\n",
        "This means each mobile phone user owns an average of two SIM cards. \n",
        "85 percent of the population own mobile phones, while 43 percent carry smartphones.\n",
        "\n",
        "\"\"\"\n"
      ],
      "execution_count": null,
      "outputs": [
        {
          "output_type": "stream",
          "name": "stdout",
          "text": [
            "Python 063 H8 Hello World pertemuan 1\n",
            "Print 1 : Kelas Python 63 ada 6 siswa dan siswi\n",
            "Print 2 : Kelas Python 63 ada 6 siswa dan siswi \n",
            "\n",
            "\n",
            "      Print 2 : Kelas Python 63 ada 6 siswa dan siswi\n",
            "      \n",
            "      \n"
          ]
        }
      ]
    },
    {
      "cell_type": "markdown",
      "metadata": {
        "id": "REVvR1cffV_y"
      },
      "source": [
        "**Data Type**"
      ]
    },
    {
      "cell_type": "code",
      "metadata": {
        "colab": {
          "base_uri": "https://localhost:8080/"
        },
        "id": "zXFWyKY9cBwq",
        "outputId": "3be3e0e5-847a-4f0b-94f1-0d6829ea62e8"
      },
      "source": [
        "print(123123123123123123123123123123123123123123123123123 + 1)\n",
        "print(10)\n",
        "print(type(10))\n",
        "\n",
        "\n",
        "print(4.2)\n",
        "print(type(4.2))\n",
        "print(4.)\n",
        "#6 digit behind number + 1 digit behind zero\n",
        "print(.4e7)\n",
        "#by comparison in java or c# or c, we have to declare data type int or string or char or else class \n",
        "#in python we don't do that"
      ],
      "execution_count": null,
      "outputs": [
        {
          "output_type": "stream",
          "name": "stdout",
          "text": [
            "123123123123123123123123123123123123123123123123124\n",
            "10\n",
            "<class 'int'>\n",
            "4.2\n",
            "<class 'float'>\n",
            "4.0\n",
            "4000000.0\n"
          ]
        }
      ]
    },
    {
      "cell_type": "markdown",
      "metadata": {
        "id": "dSiUApFafgzx"
      },
      "source": [
        "**Boolean type**"
      ]
    },
    {
      "cell_type": "code",
      "metadata": {
        "colab": {
          "base_uri": "https://localhost:8080/"
        },
        "id": "Umzl2WZvfSP6",
        "outputId": "fd8e0968-e6fd-4917-fcb1-782e8211178b"
      },
      "source": [
        "#boolean hanya memiliki true dan false / 1 dan 0\n",
        "print(type(True))\n",
        "print(type(False))"
      ],
      "execution_count": null,
      "outputs": [
        {
          "output_type": "stream",
          "name": "stdout",
          "text": [
            "<class 'bool'>\n",
            "<class 'bool'>\n"
          ]
        }
      ]
    },
    {
      "cell_type": "markdown",
      "metadata": {
        "id": "zFfuML5vfoqi"
      },
      "source": [
        "**Operator and Expressions**"
      ]
    },
    {
      "cell_type": "code",
      "metadata": {
        "colab": {
          "base_uri": "https://localhost:8080/"
        },
        "id": "1KwnKL-KfSFn",
        "outputId": "7986a91f-5e7b-408a-a3bd-3bd99bb515d5"
      },
      "source": [
        "a = b = c = 1000\n",
        "\n",
        "print(f\"{a} {b} {c} same value\")\n",
        "\n",
        "a = 0\n",
        "b = 500\n",
        "c = 1000\n",
        "\n",
        "print(f\"{a} {b} {c} different value\")\n",
        "\n",
        "a = 0\n",
        "b = 500 + a\n",
        "c = 1000 + b\n",
        "\n",
        "print(f\"{a} {b} {c} addition (+) value\")\n",
        "\n",
        "a = 0\n",
        "b = 500 - a\n",
        "c = 1000 - b\n",
        "\n",
        "print(f\"{a} {b} {c} substract (-) value\")\n",
        "\n",
        "a = 0\n",
        "b = 500 * a\n",
        "c = 1000 * b\n",
        "\n",
        "print(f\"{a} {b} {c} multiply (*) value\")\n",
        "\n",
        "a = 1\n",
        "b = 500 / a\n",
        "c = 1000 / b\n",
        "\n",
        "print(f\"{a} {b} {c} divide (/) value\")\n",
        "\n",
        "a = 2\n",
        "b = 20 ** a\n",
        "c = 1 ** b\n",
        "\n",
        "print(f\"{a} {b} {c} power (indonesian : pangkat) (**) value\")\n",
        "\n",
        "variable = 23.5\n",
        "#variable reuse\n",
        "variable = \"string\"\n",
        "\n",
        "# in javascript -> int a = 2 ; var b = 2 ;\n",
        "# in python a = 2 b = 2, no int nor var declared\n",
        "#int a = 2\n",
        "#char var = 2\n",
        "\n",
        "\n",
        "#variable can't be declared if started with numbers or symbol (exception '_' )\n",
        "# e.g. 9_kepala_naga will return syntax error or +_kepala_naga / ]_kepala_naga = 10 will return syntax error \n",
        "\n",
        "_variable = 10\n",
        "\n",
        "#var here is not a syntax.. it's only a name\n",
        "\n",
        "__variable\n",
        "\n",
        "#comparison operator\n",
        "data_a = 10\n",
        "data_b = 20\n",
        "\n",
        "print(data_a == data_b)\n",
        "print(data_a != data_b)\n",
        "print(data_a <= data_b) \n",
        "print(data_a >= data_b)\n",
        "print(data_a > data_b)\n",
        "print(data_a < data_b)\n",
        "\n",
        "# for additional lesson please try it yourself :) because it will be fun "
      ],
      "execution_count": null,
      "outputs": [
        {
          "output_type": "stream",
          "name": "stdout",
          "text": [
            "1000 1000 1000 same value\n",
            "0 500 1000 different value\n",
            "0 500 1500 addition (+) value\n",
            "0 500 500 substract (-) value\n",
            "0 0 0 multiply (*) value\n",
            "1 500.0 2.0 divide (/) value\n",
            "2 400 1 power (indonesian : pangkat) (**) value\n",
            "False\n",
            "True\n",
            "True\n",
            "False\n",
            "False\n"
          ]
        }
      ]
    },
    {
      "cell_type": "markdown",
      "metadata": {
        "id": "3s6hLtiJfu-4"
      },
      "source": [
        "**Python List, Tuples, Dictionary.**\n",
        "\n",
        "---\n",
        "\n",
        "\n",
        "\n",
        "---\n",
        "\n"
      ]
    },
    {
      "cell_type": "code",
      "metadata": {
        "colab": {
          "base_uri": "https://localhost:8080/"
        },
        "id": "4X4qPN64fQ-N",
        "outputId": "ce92a2ba-55d9-44a3-862c-cbcdbddc10f6"
      },
      "source": [
        "# Python list are ordered, can contain any arbitrary objects, can accessed by index, mutable dynamic\n",
        "# Java list = new List(int) , in comparison python is more straightforward ans dynamic\n",
        "# started by [ and ended by ]\n",
        "\n",
        "list_kelas_063 = [\"mas Michael\",\"mas zulfikar\",\"mba dhila\" ,\"mas ruben\",\"mas asvan\"]\n",
        "\n",
        "print(f\"kelas h8 063 dihadiri oleh {list_kelas_063}\")\n",
        "\n",
        "list_kelas_063_pertemuan_2 = [\"mas Michael\",\"mas zulfikar\",\"mba dhila\" ,\"mas ruben\",\"mas asvan\",\"mas arrizal\"]\n",
        "\n",
        "print(f\"apakah pertemuan 1 dan 2 sama ? {list_kelas_063 == list_kelas_063_pertemuan_2}\")\n",
        "\n",
        "list_kelas_063_pertemuan_3 = [\"mas Michael\",\"mas zulfikar\",\"mba dhila\" ,\"mas ruben\",\"mas asvan\",\"mas arrizal\"]\n",
        "\n",
        "print(f\"apakah pertemuan 2 dan 3 sama ? {list_kelas_063_pertemuan_2 == list_kelas_063_pertemuan_3}\")\n",
        "\n",
        "#accessing string from 0 to M\n",
        "\n",
        "print(f\"\"\"\n",
        "\n",
        "      absensi 1 {list_kelas_063[0]} \n",
        "              2 {list_kelas_063[1]}\n",
        "              3 {list_kelas_063[2]} \n",
        "              4 {list_kelas_063[3]} \n",
        "              5 {list_kelas_063[4]} \n",
        "\n",
        "\n",
        "dari belakang absensi 1 {list_kelas_063[-1]} \n",
        "                      2 {list_kelas_063[-2]}\n",
        "                      3 {list_kelas_063[-3]} \n",
        "                      4 {list_kelas_063[-4]} \n",
        "                      5 {list_kelas_063[-5]} \n",
        "          \n",
        "          \"\"\")\n",
        "\n",
        "#try it yourself :)\n",
        "\n",
        "\n",
        "#Arbitrary object\n",
        "\n",
        "list_acak = [\"String\", 10,\"String lagi\",9000.0]\n",
        "print(list_acak)\n"
      ],
      "execution_count": null,
      "outputs": [
        {
          "output_type": "stream",
          "name": "stdout",
          "text": [
            "kelas h8 063 dihadiri oleh ['mas Michael', 'mas zulfikar', 'mba dhila', 'mas ruben', 'mas asvan']\n",
            "apakah pertemuan 1 dan 2 sama ? False\n",
            "apakah pertemuan 2 dan 3 sama ? True\n",
            "\n",
            "\n",
            "      absensi 1 mas Michael \n",
            "              2 mas zulfikar\n",
            "              3 mba dhila \n",
            "              4 mas ruben \n",
            "              5 mas asvan \n",
            "\n",
            "\n",
            "dari belakang absensi 1 mas asvan \n",
            "                      2 mas ruben\n",
            "                      3 mba dhila \n",
            "                      4 mas zulfikar \n",
            "                      5 mas Michael \n",
            "          \n",
            "          \n",
            "['String', 10, 'String lagi', 9000.0]\n"
          ]
        }
      ]
    },
    {
      "cell_type": "code",
      "metadata": {
        "id": "ozTYCZS2of3E"
      },
      "source": [
        "# Python tuples are ordered but more simple and efficient\n",
        "# Java tuple = new Tuple(int) , in comparison python is more straightforward ans dynamic\n",
        "# started by ( and ended by )"
      ],
      "execution_count": null,
      "outputs": []
    },
    {
      "cell_type": "code",
      "metadata": {
        "colab": {
          "base_uri": "https://localhost:8080/"
        },
        "id": "CgAwJ_FzofkS",
        "outputId": "1692da7d-5924-4279-dc99-85ee699833c7"
      },
      "source": [
        "tuple_materi_h8 = (\"materi python 1 -> data type\" , \n",
        "                   \"materi python 2 -> pandas \", \n",
        "                   \"materi python 3 -> numpy\")\n",
        "\n",
        "print(f\"data tuple {tuple_materi_h8}\")"
      ],
      "execution_count": null,
      "outputs": [
        {
          "output_type": "stream",
          "name": "stdout",
          "text": [
            "data tuple ('materi python 1 -> data type', 'materi python 2 -> pandas ', 'materi python 3 -> numpy')\n"
          ]
        }
      ]
    },
    {
      "cell_type": "code",
      "metadata": {
        "colab": {
          "base_uri": "https://localhost:8080/"
        },
        "id": "JWxMMx-apfrk",
        "outputId": "83b91006-9065-490e-a20b-d6e1cdee6eb3"
      },
      "source": [
        "# Python dictionary are similiar with NoSQL document based e.g JSON\n",
        "# started by { and ended by }\n",
        "\n",
        "harga_barang_di_alfamidi = { \"susu beruang\" : 10000 , \n",
        "                             \"chitato 200g\" : 15000, \n",
        "                             \"cup noodles nissin\" : 30000 , \n",
        "                             \"panadol\" : 5000\n",
        "                              \n",
        "                            }\n",
        "\n",
        "print(f\"harga barang menggunakan dictionary NoSQL : {harga_barang_di_alfamidi}\")\n",
        "print(f\"\"\"\n",
        "\n",
        "per invoice barang \n",
        "\n",
        "susu beruang : {harga_barang_di_alfamidi['susu beruang']}\n",
        "chitato : {harga_barang_di_alfamidi['chitato 200g']}\n",
        "cup noodles nissin : {harga_barang_di_alfamidi['cup noodles nissin']}\n",
        "panadol : {harga_barang_di_alfamidi['panadol']}\n",
        "\n",
        "\"\"\")\n",
        "\n",
        "#other way to avoid typo\n",
        "\n",
        "list_harga = [(\"susu beruang\", \"10000\"), \n",
        "              (\"chitato 200g\", \"15000\"), \n",
        "              (\"cup noodles nissin\", \"30000\")]\n",
        "\n",
        "print(f\"\"\"\n",
        "\n",
        "per invoice barang \n",
        "\n",
        "susu beruang : {list_harga[0][0]}\n",
        "chitato : {list_harga[1][1]}\n",
        "cup noodles nissin : {list_harga[2]}\n",
        "\n",
        "\"\"\")"
      ],
      "execution_count": null,
      "outputs": [
        {
          "output_type": "stream",
          "name": "stdout",
          "text": [
            "harga barang menggunakan dictionary NoSQL : {'susu beruang': 10000, 'chitato 200g': 15000, 'cup noodles nissin': 30000, 'panadol': 5000}\n",
            "\n",
            "\n",
            "per invoice barang \n",
            "\n",
            "susu beruang : 10000\n",
            "chitato : 15000\n",
            "cup noodles nissin : 30000\n",
            "panadol : 5000\n",
            "\n",
            "\n",
            "\n",
            "\n",
            "per invoice barang \n",
            "\n",
            "susu beruang : susu beruang\n",
            "chitato : 15000\n",
            "cup noodles nissin : ('cup noodles nissin', '30000')\n",
            "\n",
            "\n"
          ]
        }
      ]
    },
    {
      "cell_type": "code",
      "metadata": {
        "id": "wuqdyEUntA4P"
      },
      "source": [
        "# FYI Line Continuation : misal kode python terlalu panjang bisa dibagi menjadi ...\n",
        "# beberapa line dengan menggunakan enter / newline asal masih di dalam scope yang sama (indent)\n",
        "# (read more...)\n"
      ],
      "execution_count": null,
      "outputs": []
    },
    {
      "cell_type": "code",
      "metadata": {
        "id": "bA5MGXE8tAuQ"
      },
      "source": [
        ""
      ],
      "execution_count": null,
      "outputs": []
    }
  ]
}