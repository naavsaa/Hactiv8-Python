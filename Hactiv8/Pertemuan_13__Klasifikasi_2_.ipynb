{
  "nbformat": 4,
  "nbformat_minor": 0,
  "metadata": {
    "colab": {
      "name": "Pertemuan_13_ Klasifikasi 2 .ipynb",
      "provenance": [],
      "include_colab_link": true
    },
    "kernelspec": {
      "name": "python3",
      "display_name": "Python 3"
    },
    "language_info": {
      "name": "python"
    }
  },
  "cells": [
    {
      "cell_type": "markdown",
      "metadata": {
        "id": "view-in-github",
        "colab_type": "text"
      },
      "source": [
        "<a href=\"https://colab.research.google.com/github/naavsaa/Hactiv8-Python/blob/master/Hactiv8/Pertemuan_13__Klasifikasi_2_.ipynb\" target=\"_parent\"><img src=\"https://colab.research.google.com/assets/colab-badge.svg\" alt=\"Open In Colab\"/></a>"
      ]
    },
    {
      "cell_type": "code",
      "metadata": {
        "colab": {
          "base_uri": "https://localhost:8080/"
        },
        "id": "b-PcyxF88lnT",
        "outputId": "159073f2-9a8a-4d4d-e711-278d90866f80"
      },
      "source": [
        "#KNN, Naive Bayes, Decision Tree, Random Forest Algorithm, SVM\n",
        "\n",
        "#mencari kesamaan berdasarkan kedekatan dari kategori2 yang ada\n",
        "\n",
        "weather = ['Sunny','Sunny','Overcast','Rainy','Rainy',\n",
        "           'Rainy','Overcast','Sunny','Sunny','Rainy',\n",
        "           'Sunny','Overcast','Overcast','Rainy']\n",
        "\n",
        "temp = ['Hot','Hot','Hot','Mild','Cool',\n",
        "        'Cool','Cool','Mild','Cool','Mild',\n",
        "        'Mild','Mild','Hot','Mild']\n",
        "\n",
        "play = ['No','No','Yes','Yes','Yes',\n",
        "        'No','Yes','No','Yes','Yes',\n",
        "        'Yes','Yes','Yes','No']\n",
        "\n",
        "\n",
        "from sklearn import preprocessing\n",
        "\n",
        "encode = preprocessing.LabelEncoder()\n",
        "weather_encoded=encode.fit_transform(weather)\n",
        "#Sunny = 2 , Overcast = 0 , Rainy = 1\n",
        "print(weather_encoded)\n",
        "\n",
        "#Mild = 2 , Hot = 1, Cool = 0\n",
        "temp_encoded = encode.fit_transform(temp)\n",
        "print(temp_encoded)\n",
        "\n",
        "#No = 0, Yes = 1\n",
        "play_encoded = encode.fit_transform(play)\n",
        "label = play_encoded\n",
        "print(play_encoded)\n",
        "\n",
        "#zip encoder \n",
        "features = list(zip(weather_encoded,temp_encoded))\n",
        "print(features)\n"
      ],
      "execution_count": null,
      "outputs": [
        {
          "output_type": "stream",
          "name": "stdout",
          "text": [
            "[2 2 0 1 1 1 0 2 2 1 2 0 0 1]\n",
            "[1 1 1 2 0 0 0 2 0 2 2 2 1 2]\n",
            "[0 0 1 1 1 0 1 0 1 1 1 1 1 0]\n",
            "[(2, 1), (2, 1), (0, 1), (1, 2), (1, 0), (1, 0), (0, 0), (2, 2), (2, 0), (1, 2), (2, 2), (0, 2), (0, 1), (1, 2)]\n",
            "\n",
            "____________________________________________________________\n",
            "\n",
            "Berdasarkan model Machine Learning kita (KNN = 3)\n",
            "\n",
            "Prediksi Machine Learning KNN dengan input \n",
            "cuaca Rainy,Overcast, dan Suhu Mild, Hot\n",
            "\n",
            "1 = Play, 0 = No\n",
            "\n",
            "[1] <- Play      (Overcast, dan Suhu Mild)\n",
            "[1] <- Play      (Overcast, dan Suhu Hot)\n",
            "[0] <- Not Play  (Rainy, dan Suhu Hot)\n",
            "[1] <- Play      (Rainy, dan Suhu Mild)\n",
            "\n",
            "____________________________________________________________\n",
            "\n",
            "\n"
          ]
        }
      ]
    },
    {
      "cell_type": "code",
      "metadata": {
        "colab": {
          "base_uri": "https://localhost:8080/"
        },
        "id": "rGE_eUbzEABy",
        "outputId": "8de68da1-ad47-4485-e490-36972f1883d8"
      },
      "source": [
        "#KNN\n",
        "#Library yang perlu diingat\n",
        "from sklearn.neighbors import KNeighborsClassifier\n",
        "model = KNeighborsClassifier(n_neighbors=3)\n",
        "model.fit(features,label)\n",
        "predicted = model.predict([[0,2]])\n",
        "print(f\"\"\"\n",
        "____________________________________________________________\n",
        "\n",
        "Berdasarkan model Machine Learning kita (KNN = 3)\n",
        "\n",
        "Prediksi Machine Learning KNN dengan input \n",
        "cuaca Rainy,Overcast, dan Suhu Mild, Hot\n",
        "\n",
        "1 = Play, 0 = No\n",
        "\n",
        "{model.predict([[0,2]])} <- Play      (Overcast, dan Suhu Mild)\n",
        "{model.predict([[0,1]])} <- Play      (Overcast, dan Suhu Hot)\n",
        "{model.predict([[1,1]])} <- Not Play  (Rainy, dan Suhu Hot)\n",
        "{model.predict([[1,2]])} <- Play      (Rainy, dan Suhu Mild)\n",
        "\n",
        "____________________________________________________________\n",
        "\n",
        "\"\"\")"
      ],
      "execution_count": null,
      "outputs": [
        {
          "output_type": "stream",
          "name": "stdout",
          "text": [
            "\n",
            "____________________________________________________________\n",
            "\n",
            "Berdasarkan model Machine Learning kita (KNN = 3)\n",
            "\n",
            "Prediksi Machine Learning KNN dengan input \n",
            "cuaca Rainy,Overcast, dan Suhu Mild, Hot\n",
            "\n",
            "1 = Play, 0 = No\n",
            "\n",
            "[1] <- Play      (Overcast, dan Suhu Mild)\n",
            "[1] <- Play      (Overcast, dan Suhu Hot)\n",
            "[0] <- Not Play  (Rainy, dan Suhu Hot)\n",
            "[1] <- Play      (Rainy, dan Suhu Mild)\n",
            "\n",
            "____________________________________________________________\n",
            "\n",
            "\n"
          ]
        }
      ]
    },
    {
      "cell_type": "code",
      "metadata": {
        "colab": {
          "base_uri": "https://localhost:8080/"
        },
        "id": "L7xWzZcVEEOM",
        "outputId": "9cbfed95-3969-415d-eefb-ef0eef1dc6af"
      },
      "source": [
        "#Naive Bayes\n",
        "#Library yang perlu diingat\n",
        "from sklearn.naive_bayes import GaussianNB\n",
        "model = GaussianNB()\n",
        "model.fit(features,label)\n",
        "predicted = model.predict([[0,2]])\n",
        "print(f\"\"\"\n",
        "____________________________________________________________\n",
        "\n",
        "Berdasarkan model Naive Bayes kita ()\n",
        "\n",
        "Prediksi Machine Learning Naive Bayes dengan input \n",
        "cuaca Rainy,Overcast, dan Suhu Mild, Hot\n",
        "\n",
        "1 = Play, 0 = No\n",
        "\n",
        "{model.predict([[0,2]])} <- Play      (Overcast, dan Suhu Mild)\n",
        "{model.predict([[0,1]])} <- Play      (Overcast, dan Suhu Hot)\n",
        "{model.predict([[1,1]])} <- Play      (Rainy, dan Suhu Hot)\n",
        "{model.predict([[1,2]])} <- Play      (Rainy, dan Suhu Mild)\n",
        "\n",
        "____________________________________________________________\n",
        "\n",
        "\"\"\")"
      ],
      "execution_count": null,
      "outputs": [
        {
          "output_type": "stream",
          "name": "stdout",
          "text": [
            "\n",
            "____________________________________________________________\n",
            "\n",
            "Berdasarkan model Naive Bayes kita ()\n",
            "\n",
            "Prediksi Machine Learning Naive Bayes dengan input \n",
            "cuaca Rainy,Overcast, dan Suhu Mild, Hot\n",
            "\n",
            "1 = Play, 0 = No\n",
            "\n",
            "[1] <- Play      (Overcast, dan Suhu Mild)\n",
            "[1] <- Play      (Overcast, dan Suhu Hot)\n",
            "[1] <- Play  (Rainy, dan Suhu Hot)\n",
            "[1] <- Play      (Rainy, dan Suhu Mild)\n",
            "\n",
            "____________________________________________________________\n",
            "\n",
            "\n"
          ]
        }
      ]
    },
    {
      "cell_type": "code",
      "metadata": {
        "colab": {
          "base_uri": "https://localhost:8080/"
        },
        "id": "Ygu2ixpHFBSw",
        "outputId": "15587cc1-28e8-405f-b10e-3c181c5261f8"
      },
      "source": [
        "#Decision Tree\n",
        "#Library yang perlu diingat\n",
        "from sklearn.tree import DecisionTreeClassifier\n",
        "from sklearn.model_selection import train_test_split\n",
        "from sklearn import metrics\n",
        "\n",
        "X = features\n",
        "y = label\n",
        "\n",
        "X_train, X_test, y_train, y_test = train_test_split(X,y,test_size = 0.5, random_state=1)\n",
        "\n",
        "model = DecisionTreeClassifier()\n",
        "model = model.fit(X_train,y_train)\n",
        "y_pred = model.predict(X_test)\n",
        "\n",
        "print(f\"\"\"\n",
        "____________________________________________________________\n",
        "\n",
        "Berdasarkan model Decision Tree kita ()\n",
        "\n",
        "Prediksi Machine Learning Decision Tree dengan input \n",
        "cuaca Rainy,Overcast, dan Suhu Mild, Hot\n",
        "\n",
        "1 = Play, 0 = No\n",
        "\n",
        "{model.predict([[0,2]])} <- Play      (Overcast, dan Suhu Mild)\n",
        "{model.predict([[0,1]])} <- Play      (Overcast, dan Suhu Hot)\n",
        "{model.predict([[1,1]])} <- Not Play  (Rainy, dan Suhu Hot)\n",
        "{model.predict([[1,2]])} <- Not Play  (Rainy, dan Suhu Mild)\n",
        "\n",
        "____________________________________________________________\n",
        "\n",
        "\"\"\")"
      ],
      "execution_count": null,
      "outputs": [
        {
          "output_type": "stream",
          "name": "stdout",
          "text": [
            "\n",
            "____________________________________________________________\n",
            "\n",
            "Berdasarkan model Decision Tree kita ()\n",
            "\n",
            "Prediksi Machine Learning Decision Tree dengan input \n",
            "cuaca Rainy,Overcast, dan Suhu Mild, Hot\n",
            "\n",
            "1 = Play, 0 = No\n",
            "\n",
            "[1] <- Play      (Overcast, dan Suhu Mild)\n",
            "[1] <- Play      (Overcast, dan Suhu Hot)\n",
            "[0] <- Not Play  (Rainy, dan Suhu Hot)\n",
            "[0] <- Not Play  (Rainy, dan Suhu Mild)\n",
            "\n",
            "____________________________________________________________\n",
            "\n",
            "\n"
          ]
        }
      ]
    },
    {
      "cell_type": "code",
      "metadata": {
        "colab": {
          "base_uri": "https://localhost:8080/"
        },
        "id": "936mAYv4G2n_",
        "outputId": "9c784e9f-10de-4246-b746-e1c1b854ceb6"
      },
      "source": [
        "#Random Forest (kumpulan dari decision tree)\n",
        "\n",
        "from sklearn.ensemble import RandomForestClassifier\n",
        "from sklearn.model_selection import train_test_split\n",
        "from sklearn import metrics\n",
        "\n",
        "X = features\n",
        "y = label\n",
        "\n",
        "X_train, X_test, y_train, y_test = train_test_split(X,y,test_size = 0.5, random_state=1)\n",
        "\n",
        "model = RandomForestClassifier(n_estimators=10)\n",
        "model = model.fit(X_train,y_train)\n",
        "y_pred = model.predict(X_test)\n",
        "\n",
        "print(f\"\"\"\n",
        "____________________________________________________________\n",
        "\n",
        "Berdasarkan model Random Forest kita (n_estimator =10)\n",
        "\n",
        "Prediksi Machine Learning Random Fores dengan input \n",
        "cuaca Rainy,Overcast, dan Suhu Mild, Hot\n",
        "\n",
        "1 = Play, 0 = No\n",
        "\n",
        "{model.predict([[0,2]])} <- Play      (Overcast, dan Suhu Mild)\n",
        "{model.predict([[0,1]])} <- Play      (Overcast, dan Suhu Hot)\n",
        "{model.predict([[1,1]])} <- Not Play  (Rainy, dan Suhu Hot)\n",
        "{model.predict([[1,2]])} <- Not Play  (Rainy, dan Suhu Mild)\n",
        "\n",
        "____________________________________________________________\n",
        "\n",
        "\"\"\")"
      ],
      "execution_count": null,
      "outputs": [
        {
          "output_type": "stream",
          "name": "stdout",
          "text": [
            "\n",
            "____________________________________________________________\n",
            "\n",
            "Berdasarkan model Random Forest kita (n_estimator =10)\n",
            "\n",
            "Prediksi Machine Learning Random Fores dengan input \n",
            "cuaca Rainy,Overcast, dan Suhu Mild, Hot\n",
            "\n",
            "1 = Play, 0 = No\n",
            "\n",
            "[1] <- Play      (Overcast, dan Suhu Mild)\n",
            "[1] <- Play      (Overcast, dan Suhu Hot)\n",
            "[0] <- Not Play  (Rainy, dan Suhu Hot)\n",
            "[1] <- Not Play  (Rainy, dan Suhu Mild)\n",
            "\n",
            "____________________________________________________________\n",
            "\n",
            "\n"
          ]
        }
      ]
    },
    {
      "cell_type": "code",
      "metadata": {
        "colab": {
          "base_uri": "https://localhost:8080/"
        },
        "id": "ihrnaaidJWCq",
        "outputId": "ca4d27ec-0239-41e4-ecad-99bfffb99d8b"
      },
      "source": [
        "#SVM\n",
        "\n",
        "from sklearn import svm\n",
        "from sklearn.model_selection import train_test_split\n",
        "from sklearn import metrics\n",
        "\n",
        "X = features\n",
        "y = label\n",
        "\n",
        "X_train, X_test, y_train, y_test = train_test_split(X,y,test_size = 0.8, random_state=1)\n",
        "\n",
        "model = svm.SVC(kernel='linear')\n",
        "model = model.fit(X_train,y_train)\n",
        "y_pred = model.predict(X_test)\n",
        "\n",
        "print(f\"\"\"\n",
        "____________________________________________________________\n",
        "\n",
        "Berdasarkan model SVM kita (n_estimator =100)\n",
        "\n",
        "Prediksi Machine Learning SVM dengan input \n",
        "cuaca Rainy,Overcast, dan Suhu Mild, Hot\n",
        "\n",
        "1 = Play, 0 = No\n",
        "\n",
        "{model.predict([[0,2]])} <- Play      (Overcast, dan Suhu Mild)\n",
        "{model.predict([[0,1]])} <- Play      (Overcast, dan Suhu Hot)\n",
        "{model.predict([[1,1]])} <- Not Play  (Rainy, dan Suhu Hot)\n",
        "{model.predict([[1,2]])} <- Play      (Rainy, dan Suhu Mild)\n",
        "\n",
        "____________________________________________________________\n",
        "\n",
        "\"\"\")"
      ],
      "execution_count": null,
      "outputs": [
        {
          "output_type": "stream",
          "name": "stdout",
          "text": [
            "\n",
            "____________________________________________________________\n",
            "\n",
            "Berdasarkan model SVM kita (n_estimator =100)\n",
            "\n",
            "Prediksi Machine Learning SVM dengan input \n",
            "cuaca Rainy,Overcast, dan Suhu Mild, Hot\n",
            "\n",
            "1 = Play, 0 = No\n",
            "\n",
            "[1] <- Play      (Overcast, dan Suhu Mild)\n",
            "[1] <- Play      (Overcast, dan Suhu Hot)\n",
            "[0] <- Not Play  (Rainy, dan Suhu Hot)\n",
            "[1] <- Play      (Rainy, dan Suhu Mild)\n",
            "\n",
            "____________________________________________________________\n",
            "\n",
            "\n"
          ]
        }
      ]
    },
    {
      "cell_type": "markdown",
      "metadata": {
        "id": "oFzbaxrZ9zUE"
      },
      "source": [
        "Ketika kita sudah menentukan model machine learning mana yang paling baik maka kita akan melakuka deploy ke production. menggunakan Pickle dan Cloud (Optional)"
      ]
    },
    {
      "cell_type": "code",
      "metadata": {
        "id": "10D4Kf_wUdb0"
      },
      "source": [
        "import numpy as np\n",
        "import pickle\n",
        "\n",
        "#yang terbaik adalah Random Forest maka akan dibuat Pickle file (.pkl)\n",
        "\n",
        "model = RandomForestClassifier(n_estimators=10)\n",
        "model = model.fit(X_train,y_train)\n",
        "\n",
        "\n",
        "pickle.dump(model,open('model_classifier_terbaik.pkl','wb'))"
      ],
      "execution_count": null,
      "outputs": []
    },
    {
      "cell_type": "code",
      "metadata": {
        "colab": {
          "base_uri": "https://localhost:8080/"
        },
        "id": "pIytGGlVVIV2",
        "outputId": "d7d9622c-b7e5-40d5-fb48-d6952101b74e"
      },
      "source": [
        "model_load = pickle.load(open('model_classifier_terbaik.pkl','rb'))\n",
        "\n",
        "print(f\"\"\"\n",
        "____________________________________________________________\n",
        "\n",
        "Berdasarkan model *terbaik* kita (n_estimator =100)\n",
        "\n",
        "Prediksi Machine Learning dengan input \n",
        "cuaca Rainy,Overcast, dan Suhu Mild, Hot\n",
        "\n",
        "1 = Play, 0 = No\n",
        "\n",
        "{model.predict([[0,2]])} <- Play      (Overcast, dan Suhu Mild)\n",
        "{model.predict([[0,1]])} <- Play      (Overcast, dan Suhu Hot)\n",
        "{model.predict([[1,1]])} <- Not Play  (Rainy, dan Suhu Hot)\n",
        "{model.predict([[1,2]])} <- Not Play  (Rainy, dan Suhu Mild)\n",
        "\n",
        "____________________________________________________________\n",
        "\n",
        "\"\"\")"
      ],
      "execution_count": null,
      "outputs": [
        {
          "output_type": "stream",
          "name": "stdout",
          "text": [
            "\n",
            "____________________________________________________________\n",
            "\n",
            "Berdasarkan model *terbaik* kita (n_estimator =100)\n",
            "\n",
            "Prediksi Machine Learning dengan input \n",
            "cuaca Rainy,Overcast, dan Suhu Mild, Hot\n",
            "\n",
            "1 = Play, 0 = No\n",
            "\n",
            "[1] <- Play      (Overcast, dan Suhu Mild)\n",
            "[1] <- Play      (Overcast, dan Suhu Hot)\n",
            "[0] <- Not Play  (Rainy, dan Suhu Hot)\n",
            "[0] <- Not Play  (Rainy, dan Suhu Mild)\n",
            "\n",
            "____________________________________________________________\n",
            "\n",
            "\n"
          ]
        }
      ]
    }
  ]
}