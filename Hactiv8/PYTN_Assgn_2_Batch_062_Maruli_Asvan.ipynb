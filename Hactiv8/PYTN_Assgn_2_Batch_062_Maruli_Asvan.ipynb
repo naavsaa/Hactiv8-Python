{
  "nbformat": 4,
  "nbformat_minor": 0,
  "metadata": {
    "colab": {
      "name": "PYTN_Assgn_2_Batch 062_Maruli Asvan.ipynb",
      "provenance": [],
      "collapsed_sections": [],
      "authorship_tag": "ABX9TyM4BUPxNZXEZylFqXFhTcZz",
      "include_colab_link": true
    },
    "kernelspec": {
      "name": "python3",
      "display_name": "Python 3"
    },
    "language_info": {
      "name": "python"
    }
  },
  "cells": [
    {
      "cell_type": "markdown",
      "metadata": {
        "id": "view-in-github",
        "colab_type": "text"
      },
      "source": [
        "<a href=\"https://colab.research.google.com/github/naavsaa/Hactiv8-Python/blob/master/Hactiv8/PYTN_Assgn_2_Batch_062_Maruli_Asvan.ipynb\" target=\"_parent\"><img src=\"https://colab.research.google.com/assets/colab-badge.svg\" alt=\"Open In Colab\"/></a>"
      ]
    },
    {
      "cell_type": "code",
      "metadata": {
        "id": "nA_f6Fcu03cH",
        "colab": {
          "base_uri": "https://localhost:8080/"
        },
        "outputId": "9d99dfbe-58e1-4a89-c35a-3ef2ec76920f"
      },
      "source": [
        "import numpy as np\n",
        "import pandas as pd \n",
        "import matplotlib.pyplot as plt\n",
        "import seaborn as sns\n",
        "import statistics as stats\n",
        "import scipy.stats\n",
        "from scipy.stats import uniform\n",
        "import statsmodels.api as sm\n"
      ],
      "execution_count": 1,
      "outputs": [
        {
          "output_type": "stream",
          "name": "stderr",
          "text": [
            "/usr/local/lib/python3.7/dist-packages/statsmodels/tools/_testing.py:19: FutureWarning: pandas.util.testing is deprecated. Use the functions in the public API at pandas.testing instead.\n",
            "  import pandas.util.testing as tm\n"
          ]
        }
      ]
    },
    {
      "cell_type": "markdown",
      "metadata": {
        "id": "cfwNvkw009zM"
      },
      "source": [
        "# Read Data"
      ]
    },
    {
      "cell_type": "code",
      "metadata": {
        "colab": {
          "base_uri": "https://localhost:8080/"
        },
        "id": "UBHzoLRb1AWb",
        "outputId": "9bacd1de-843c-4ed8-9758-c0281d4a802d"
      },
      "source": [
        "# When using data from Gdrive\n",
        "from google.colab import drive   \n",
        "drive.mount('/content/gdrive')\n",
        "%cd /content/gdrive/MyDrive/Colab Notebooks/Dataset"
      ],
      "execution_count": 2,
      "outputs": [
        {
          "output_type": "stream",
          "name": "stdout",
          "text": [
            "Drive already mounted at /content/gdrive; to attempt to forcibly remount, call drive.mount(\"/content/gdrive\", force_remount=True).\n",
            "/content/gdrive/MyDrive/Colab Notebooks/Dataset\n"
          ]
        }
      ]
    },
    {
      "cell_type": "code",
      "metadata": {
        "id": "UGHmjA2m1Qt-"
      },
      "source": [
        "df=pd.read_csv('nyc-rolling-sales.csv')"
      ],
      "execution_count": 3,
      "outputs": []
    },
    {
      "cell_type": "code",
      "metadata": {
        "scrolled": true,
        "id": "6f250599",
        "colab": {
          "base_uri": "https://localhost:8080/",
          "height": 425
        },
        "outputId": "f7bfc29b-2fe8-40b5-ca34-0c7b8628597d"
      },
      "source": [
        "df.head()"
      ],
      "execution_count": 4,
      "outputs": [
        {
          "output_type": "execute_result",
          "data": {
            "text/html": [
              "<div>\n",
              "<style scoped>\n",
              "    .dataframe tbody tr th:only-of-type {\n",
              "        vertical-align: middle;\n",
              "    }\n",
              "\n",
              "    .dataframe tbody tr th {\n",
              "        vertical-align: top;\n",
              "    }\n",
              "\n",
              "    .dataframe thead th {\n",
              "        text-align: right;\n",
              "    }\n",
              "</style>\n",
              "<table border=\"1\" class=\"dataframe\">\n",
              "  <thead>\n",
              "    <tr style=\"text-align: right;\">\n",
              "      <th></th>\n",
              "      <th>Unnamed: 0</th>\n",
              "      <th>BOROUGH</th>\n",
              "      <th>NEIGHBORHOOD</th>\n",
              "      <th>BUILDING CLASS CATEGORY</th>\n",
              "      <th>TAX CLASS AT PRESENT</th>\n",
              "      <th>BLOCK</th>\n",
              "      <th>LOT</th>\n",
              "      <th>EASE-MENT</th>\n",
              "      <th>BUILDING CLASS AT PRESENT</th>\n",
              "      <th>ADDRESS</th>\n",
              "      <th>APARTMENT NUMBER</th>\n",
              "      <th>ZIP CODE</th>\n",
              "      <th>RESIDENTIAL UNITS</th>\n",
              "      <th>COMMERCIAL UNITS</th>\n",
              "      <th>TOTAL UNITS</th>\n",
              "      <th>LAND SQUARE FEET</th>\n",
              "      <th>GROSS SQUARE FEET</th>\n",
              "      <th>YEAR BUILT</th>\n",
              "      <th>TAX CLASS AT TIME OF SALE</th>\n",
              "      <th>BUILDING CLASS AT TIME OF SALE</th>\n",
              "      <th>SALE PRICE</th>\n",
              "      <th>SALE DATE</th>\n",
              "    </tr>\n",
              "  </thead>\n",
              "  <tbody>\n",
              "    <tr>\n",
              "      <th>0</th>\n",
              "      <td>4</td>\n",
              "      <td>1</td>\n",
              "      <td>ALPHABET CITY</td>\n",
              "      <td>07 RENTALS - WALKUP APARTMENTS</td>\n",
              "      <td>2A</td>\n",
              "      <td>392</td>\n",
              "      <td>6</td>\n",
              "      <td></td>\n",
              "      <td>C2</td>\n",
              "      <td>153 AVENUE B</td>\n",
              "      <td></td>\n",
              "      <td>10009</td>\n",
              "      <td>5</td>\n",
              "      <td>0</td>\n",
              "      <td>5</td>\n",
              "      <td>1633</td>\n",
              "      <td>6440</td>\n",
              "      <td>1900</td>\n",
              "      <td>2</td>\n",
              "      <td>C2</td>\n",
              "      <td>6625000</td>\n",
              "      <td>2017-07-19 00:00:00</td>\n",
              "    </tr>\n",
              "    <tr>\n",
              "      <th>1</th>\n",
              "      <td>5</td>\n",
              "      <td>1</td>\n",
              "      <td>ALPHABET CITY</td>\n",
              "      <td>07 RENTALS - WALKUP APARTMENTS</td>\n",
              "      <td>2</td>\n",
              "      <td>399</td>\n",
              "      <td>26</td>\n",
              "      <td></td>\n",
              "      <td>C7</td>\n",
              "      <td>234 EAST 4TH   STREET</td>\n",
              "      <td></td>\n",
              "      <td>10009</td>\n",
              "      <td>28</td>\n",
              "      <td>3</td>\n",
              "      <td>31</td>\n",
              "      <td>4616</td>\n",
              "      <td>18690</td>\n",
              "      <td>1900</td>\n",
              "      <td>2</td>\n",
              "      <td>C7</td>\n",
              "      <td>-</td>\n",
              "      <td>2016-12-14 00:00:00</td>\n",
              "    </tr>\n",
              "    <tr>\n",
              "      <th>2</th>\n",
              "      <td>6</td>\n",
              "      <td>1</td>\n",
              "      <td>ALPHABET CITY</td>\n",
              "      <td>07 RENTALS - WALKUP APARTMENTS</td>\n",
              "      <td>2</td>\n",
              "      <td>399</td>\n",
              "      <td>39</td>\n",
              "      <td></td>\n",
              "      <td>C7</td>\n",
              "      <td>197 EAST 3RD   STREET</td>\n",
              "      <td></td>\n",
              "      <td>10009</td>\n",
              "      <td>16</td>\n",
              "      <td>1</td>\n",
              "      <td>17</td>\n",
              "      <td>2212</td>\n",
              "      <td>7803</td>\n",
              "      <td>1900</td>\n",
              "      <td>2</td>\n",
              "      <td>C7</td>\n",
              "      <td>-</td>\n",
              "      <td>2016-12-09 00:00:00</td>\n",
              "    </tr>\n",
              "    <tr>\n",
              "      <th>3</th>\n",
              "      <td>7</td>\n",
              "      <td>1</td>\n",
              "      <td>ALPHABET CITY</td>\n",
              "      <td>07 RENTALS - WALKUP APARTMENTS</td>\n",
              "      <td>2B</td>\n",
              "      <td>402</td>\n",
              "      <td>21</td>\n",
              "      <td></td>\n",
              "      <td>C4</td>\n",
              "      <td>154 EAST 7TH STREET</td>\n",
              "      <td></td>\n",
              "      <td>10009</td>\n",
              "      <td>10</td>\n",
              "      <td>0</td>\n",
              "      <td>10</td>\n",
              "      <td>2272</td>\n",
              "      <td>6794</td>\n",
              "      <td>1913</td>\n",
              "      <td>2</td>\n",
              "      <td>C4</td>\n",
              "      <td>3936272</td>\n",
              "      <td>2016-09-23 00:00:00</td>\n",
              "    </tr>\n",
              "    <tr>\n",
              "      <th>4</th>\n",
              "      <td>8</td>\n",
              "      <td>1</td>\n",
              "      <td>ALPHABET CITY</td>\n",
              "      <td>07 RENTALS - WALKUP APARTMENTS</td>\n",
              "      <td>2A</td>\n",
              "      <td>404</td>\n",
              "      <td>55</td>\n",
              "      <td></td>\n",
              "      <td>C2</td>\n",
              "      <td>301 EAST 10TH   STREET</td>\n",
              "      <td></td>\n",
              "      <td>10009</td>\n",
              "      <td>6</td>\n",
              "      <td>0</td>\n",
              "      <td>6</td>\n",
              "      <td>2369</td>\n",
              "      <td>4615</td>\n",
              "      <td>1900</td>\n",
              "      <td>2</td>\n",
              "      <td>C2</td>\n",
              "      <td>8000000</td>\n",
              "      <td>2016-11-17 00:00:00</td>\n",
              "    </tr>\n",
              "  </tbody>\n",
              "</table>\n",
              "</div>"
            ],
            "text/plain": [
              "   Unnamed: 0  BOROUGH  ... SALE PRICE            SALE DATE\n",
              "0           4        1  ...    6625000  2017-07-19 00:00:00\n",
              "1           5        1  ...        -    2016-12-14 00:00:00\n",
              "2           6        1  ...        -    2016-12-09 00:00:00\n",
              "3           7        1  ...    3936272  2016-09-23 00:00:00\n",
              "4           8        1  ...    8000000  2016-11-17 00:00:00\n",
              "\n",
              "[5 rows x 22 columns]"
            ]
          },
          "metadata": {},
          "execution_count": 4
        }
      ]
    },
    {
      "cell_type": "markdown",
      "metadata": {
        "id": "HydBa_KZ3YqE"
      },
      "source": [
        "# Data Cleansing "
      ]
    },
    {
      "cell_type": "code",
      "metadata": {
        "id": "uHS_DzohASug"
      },
      "source": [
        "# replace field that's entirely space (or empty) with NaN\n",
        "(df.replace(r'^\\s*$', np.nan, regex=True, inplace=True))"
      ],
      "execution_count": 5,
      "outputs": []
    },
    {
      "cell_type": "code",
      "metadata": {
        "colab": {
          "base_uri": "https://localhost:8080/"
        },
        "id": "bxt_AxRtOhS9",
        "outputId": "04f1e865-c8f3-44b3-d76f-43cc5e7c22e7"
      },
      "source": [
        "df.info()"
      ],
      "execution_count": 6,
      "outputs": [
        {
          "output_type": "stream",
          "name": "stdout",
          "text": [
            "<class 'pandas.core.frame.DataFrame'>\n",
            "RangeIndex: 84548 entries, 0 to 84547\n",
            "Data columns (total 22 columns):\n",
            " #   Column                          Non-Null Count  Dtype  \n",
            "---  ------                          --------------  -----  \n",
            " 0   Unnamed: 0                      84548 non-null  int64  \n",
            " 1   BOROUGH                         84548 non-null  int64  \n",
            " 2   NEIGHBORHOOD                    84548 non-null  object \n",
            " 3   BUILDING CLASS CATEGORY         84548 non-null  object \n",
            " 4   TAX CLASS AT PRESENT            83810 non-null  object \n",
            " 5   BLOCK                           84548 non-null  int64  \n",
            " 6   LOT                             84548 non-null  int64  \n",
            " 7   EASE-MENT                       0 non-null      float64\n",
            " 8   BUILDING CLASS AT PRESENT       83810 non-null  object \n",
            " 9   ADDRESS                         84548 non-null  object \n",
            " 10  APARTMENT NUMBER                19052 non-null  object \n",
            " 11  ZIP CODE                        84548 non-null  int64  \n",
            " 12  RESIDENTIAL UNITS               84548 non-null  int64  \n",
            " 13  COMMERCIAL UNITS                84548 non-null  int64  \n",
            " 14  TOTAL UNITS                     84548 non-null  int64  \n",
            " 15  LAND SQUARE FEET                84548 non-null  object \n",
            " 16  GROSS SQUARE FEET               84548 non-null  object \n",
            " 17  YEAR BUILT                      84548 non-null  int64  \n",
            " 18  TAX CLASS AT TIME OF SALE       84548 non-null  int64  \n",
            " 19  BUILDING CLASS AT TIME OF SALE  84548 non-null  object \n",
            " 20  SALE PRICE                      84548 non-null  object \n",
            " 21  SALE DATE                       84548 non-null  object \n",
            "dtypes: float64(1), int64(10), object(11)\n",
            "memory usage: 14.2+ MB\n"
          ]
        }
      ]
    },
    {
      "cell_type": "code",
      "metadata": {
        "id": "iJN65b2AOjiw"
      },
      "source": [
        "# Drop Unnamed: 0 and EASE-MENT\n",
        "df.drop(columns={'Unnamed: 0', 'EASE-MENT'}, inplace=True) "
      ],
      "execution_count": 7,
      "outputs": []
    },
    {
      "cell_type": "code",
      "metadata": {
        "id": "TU24-kX7TtE9"
      },
      "source": [
        "# Drop column address and apartment number as it will not be use for analysis\n",
        "df.drop(columns={'ADDRESS', 'APARTMENT NUMBER'}, axis=1, inplace=True)"
      ],
      "execution_count": 8,
      "outputs": []
    },
    {
      "cell_type": "code",
      "metadata": {
        "id": "SIPY1vdpad5f"
      },
      "source": [
        "# Change some column type from string to float\n",
        "floats = ['SALE PRICE', 'LAND SQUARE FEET', 'GROSS SQUARE FEET']\n",
        "for col in floats:\n",
        "    df[col]=pd.to_numeric(df[col], errors='coerce')"
      ],
      "execution_count": 9,
      "outputs": []
    },
    {
      "cell_type": "code",
      "metadata": {
        "id": "eX3ctms9aoRC"
      },
      "source": [
        "# Change some column type as category\n",
        "categoricals = ['BOROUGH', 'NEIGHBORHOOD', 'BUILDING CLASS CATEGORY', 'TAX CLASS AT PRESENT', 'ZIP CODE', 'TAX CLASS AT TIME OF SALE', 'BUILDING CLASS AT TIME OF SALE',\n",
        "                'BUILDING CLASS AT PRESENT']\n",
        "\n",
        "for col in categoricals:\n",
        "    df[col] = df[col].astype('category')"
      ],
      "execution_count": 10,
      "outputs": []
    },
    {
      "cell_type": "code",
      "metadata": {
        "id": "ev0HpIhDawI7"
      },
      "source": [
        "#Change SALE DATE column typ to datetime dtype and\n",
        "# Split 'SALE DATE' into month and year\n",
        "df['SALE DATE']= pd.to_datetime(df['SALE DATE'], errors='coerce')\n",
        "df['SALE MONTH'] = pd.DatetimeIndex(df['SALE DATE']).month\n",
        "df['SALE YEAR'] = pd.DatetimeIndex(df['SALE DATE']).year\n",
        "df.drop('SALE DATE', axis=1, inplace=True)"
      ],
      "execution_count": 11,
      "outputs": []
    },
    {
      "cell_type": "code",
      "metadata": {
        "colab": {
          "base_uri": "https://localhost:8080/",
          "height": 522
        },
        "id": "wIumMcfmeXKE",
        "outputId": "35c66d7a-baae-42a2-f44f-257c9af2ff55"
      },
      "source": [
        "# Check Total Unit\n",
        "sns.displot(df['TOTAL UNITS'], bins=50)\n",
        "df['TOTAL UNITS'].describe()"
      ],
      "execution_count": 12,
      "outputs": [
        {
          "output_type": "execute_result",
          "data": {
            "text/plain": [
              "count    84548.000000\n",
              "mean         2.249184\n",
              "std         18.972584\n",
              "min          0.000000\n",
              "25%          1.000000\n",
              "50%          1.000000\n",
              "75%          2.000000\n",
              "max       2261.000000\n",
              "Name: TOTAL UNITS, dtype: float64"
            ]
          },
          "metadata": {},
          "execution_count": 12
        },
        {
          "output_type": "display_data",
          "data": {
            "image/png": "[encoded data removed]",
            "text/plain": [
              "<Figure size 360x360 with 1 Axes>"
            ]
          },
          "metadata": {
            "needs_background": "light"
          }
        }
      ]
    },
    {
      "cell_type": "code",
      "metadata": {
        "id": "9QYe33eHeXHQ"
      },
      "source": [
        "# Delete row with value 0 in total unit column and maximum total unit is 2261 which is doesnt make any sense where in one sale there is purchase of 2261 unit\n",
        "\n",
        "df = df[(df['TOTAL UNITS'] > 0) & (df['TOTAL UNITS'] != 2261)]"
      ],
      "execution_count": 13,
      "outputs": []
    },
    {
      "cell_type": "code",
      "metadata": {
        "id": "YkTVVlATDLKR",
        "colab": {
          "base_uri": "https://localhost:8080/",
          "height": 738
        },
        "outputId": "0abe213c-5f29-47b3-f8e1-dd54f60f04ba"
      },
      "source": [
        "# Check Land Square and Gross Square\n",
        "plt.figure(figsize=(12,5))\n",
        "sns.displot(df['LAND SQUARE FEET'], bins=50, rug=True)\n",
        "sns.displot(df['GROSS SQUARE FEET'], bins=50, rug=True)\n",
        "plt.show()"
      ],
      "execution_count": 14,
      "outputs": [
        {
          "output_type": "display_data",
          "data": {
            "text/plain": [
              "<Figure size 864x360 with 0 Axes>"
            ]
          },
          "metadata": {}
        },
        {
          "output_type": "display_data",
          "data": {
            "image/png": "[encoded data removed]",
            "text/plain": [
              "<Figure size 360x360 with 1 Axes>"
            ]
          },
          "metadata": {
            "needs_background": "light"
          }
        },
        {
          "output_type": "display_data",
          "data": {
            "image/png": "[encoded data removed]",
            "text/plain": [
              "<Figure size 360x360 with 1 Axes>"
            ]
          },
          "metadata": {
            "needs_background": "light"
          }
        }
      ]
    },
    {
      "cell_type": "code",
      "metadata": {
        "id": "jiG4RO6XUCCi"
      },
      "source": [
        "# Delete row with value 0 in land square and gross square column\n",
        "# df = df[df['LAND SQUARE FEET']!=0]\n",
        "# df = df[df['GROSS SQUARE FEET']!=0]\n",
        "df = df[(df['LAND SQUARE FEET'] > 0) & (df['LAND SQUARE FEET'] < 10000)]\n",
        "df = df[(df['GROSS SQUARE FEET'] > 0) & (df['GROSS SQUARE FEET'] < 10000)]"
      ],
      "execution_count": 15,
      "outputs": []
    },
    {
      "cell_type": "code",
      "metadata": {
        "colab": {
          "base_uri": "https://localhost:8080/",
          "height": 386
        },
        "id": "PH3tOrdRc65Q",
        "outputId": "d8ebc5c3-c609-4267-a79a-6a2b494fddd0"
      },
      "source": [
        "# Check Year Built\n",
        "plt.figure(figsize=(12,5))\n",
        "sns.displot(df['YEAR BUILT'], bins=40, rug=True)\n",
        "plt.show()"
      ],
      "execution_count": 16,
      "outputs": [
        {
          "output_type": "display_data",
          "data": {
            "text/plain": [
              "<Figure size 864x360 with 0 Axes>"
            ]
          },
          "metadata": {}
        },
        {
          "output_type": "display_data",
          "data": {
            "image/png": "[encoded data removed]",
            "text/plain": [
              "<Figure size 360x360 with 1 Axes>"
            ]
          },
          "metadata": {
            "needs_background": "light"
          }
        }
      ]
    },
    {
      "cell_type": "code",
      "metadata": {
        "id": "vH0ib-kcdZK7"
      },
      "source": [
        "df = df[df['YEAR BUILT']!=0]"
      ],
      "execution_count": 17,
      "outputs": []
    },
    {
      "cell_type": "code",
      "metadata": {
        "colab": {
          "base_uri": "https://localhost:8080/",
          "height": 386
        },
        "id": "F825MluyLjHx",
        "outputId": "57e60af5-cd96-4dae-ae6a-29ba995a73b1"
      },
      "source": [
        "# Check Sale Price Data\n",
        "plt.figure(figsize=(12,5))\n",
        "sns.displot(df['SALE PRICE'], bins=40, rug=True)\n",
        "plt.show()"
      ],
      "execution_count": 18,
      "outputs": [
        {
          "output_type": "display_data",
          "data": {
            "text/plain": [
              "<Figure size 864x360 with 0 Axes>"
            ]
          },
          "metadata": {}
        },
        {
          "output_type": "display_data",
          "data": {
            "image/png": "[encoded data removed]",
            "text/plain": [
              "<Figure size 360x360 with 1 Axes>"
            ]
          },
          "metadata": {
            "needs_background": "light"
          }
        }
      ]
    },
    {
      "cell_type": "code",
      "metadata": {
        "colab": {
          "base_uri": "https://localhost:8080/"
        },
        "id": "TFrCXONuBLMs",
        "outputId": "f28dc121-a40b-477f-a5cc-58cc1b2fe09c"
      },
      "source": [
        "df['SALE PRICE'][df['SALE PRICE']>5000000].count()"
      ],
      "execution_count": 19,
      "outputs": [
        {
          "output_type": "execute_result",
          "data": {
            "text/plain": [
              "395"
            ]
          },
          "metadata": {},
          "execution_count": 19
        }
      ]
    },
    {
      "cell_type": "code",
      "metadata": {
        "id": "IQhXKM2sU6rI"
      },
      "source": [
        "# There are alot of $0 or small amount of Price that refer to transfer of deeds between parties.\n",
        "# Assume Value Less than $10K is all counted as transfer of deeds, thus this rows will be deleted\n",
        "# Assume value above $5M is also dropped\n",
        "df = df[df['SALE PRICE'].between(10000, 5000000)]\n"
      ],
      "execution_count": 20,
      "outputs": []
    },
    {
      "cell_type": "code",
      "metadata": {
        "colab": {
          "base_uri": "https://localhost:8080/"
        },
        "id": "vDCC_XRy5VNZ",
        "outputId": "1f2f4ea4-19c9-4983-8965-08771a9eb659"
      },
      "source": [
        "# Check Sale Year Data\n",
        "df['SALE YEAR'].value_counts()"
      ],
      "execution_count": 21,
      "outputs": [
        {
          "output_type": "execute_result",
          "data": {
            "text/plain": [
              "2017    17204\n",
              "2016     9357\n",
              "Name: SALE YEAR, dtype: int64"
            ]
          },
          "metadata": {},
          "execution_count": 21
        }
      ]
    },
    {
      "cell_type": "markdown",
      "metadata": {
        "id": "q62a5n5ib0b1"
      },
      "source": [
        "Data after Cleansing that will be used for analysis"
      ]
    },
    {
      "cell_type": "code",
      "metadata": {
        "colab": {
          "base_uri": "https://localhost:8080/",
          "height": 323
        },
        "id": "zwr-WQGEbyuM",
        "outputId": "ec4ed759-aa3a-43c4-efce-0adeb9f5febb"
      },
      "source": [
        "df.head()"
      ],
      "execution_count": 22,
      "outputs": [
        {
          "output_type": "execute_result",
          "data": {
            "text/html": [
              "<div>\n",
              "<style scoped>\n",
              "    .dataframe tbody tr th:only-of-type {\n",
              "        vertical-align: middle;\n",
              "    }\n",
              "\n",
              "    .dataframe tbody tr th {\n",
              "        vertical-align: top;\n",
              "    }\n",
              "\n",
              "    .dataframe thead th {\n",
              "        text-align: right;\n",
              "    }\n",
              "</style>\n",
              "<table border=\"1\" class=\"dataframe\">\n",
              "  <thead>\n",
              "    <tr style=\"text-align: right;\">\n",
              "      <th></th>\n",
              "      <th>BOROUGH</th>\n",
              "      <th>NEIGHBORHOOD</th>\n",
              "      <th>BUILDING CLASS CATEGORY</th>\n",
              "      <th>TAX CLASS AT PRESENT</th>\n",
              "      <th>BLOCK</th>\n",
              "      <th>LOT</th>\n",
              "      <th>BUILDING CLASS AT PRESENT</th>\n",
              "      <th>ZIP CODE</th>\n",
              "      <th>RESIDENTIAL UNITS</th>\n",
              "      <th>COMMERCIAL UNITS</th>\n",
              "      <th>TOTAL UNITS</th>\n",
              "      <th>LAND SQUARE FEET</th>\n",
              "      <th>GROSS SQUARE FEET</th>\n",
              "      <th>YEAR BUILT</th>\n",
              "      <th>TAX CLASS AT TIME OF SALE</th>\n",
              "      <th>BUILDING CLASS AT TIME OF SALE</th>\n",
              "      <th>SALE PRICE</th>\n",
              "      <th>SALE MONTH</th>\n",
              "      <th>SALE YEAR</th>\n",
              "    </tr>\n",
              "  </thead>\n",
              "  <tbody>\n",
              "    <tr>\n",
              "      <th>3</th>\n",
              "      <td>1</td>\n",
              "      <td>ALPHABET CITY</td>\n",
              "      <td>07 RENTALS - WALKUP APARTMENTS</td>\n",
              "      <td>2B</td>\n",
              "      <td>402</td>\n",
              "      <td>21</td>\n",
              "      <td>C4</td>\n",
              "      <td>10009</td>\n",
              "      <td>10</td>\n",
              "      <td>0</td>\n",
              "      <td>10</td>\n",
              "      <td>2272.0</td>\n",
              "      <td>6794.0</td>\n",
              "      <td>1913</td>\n",
              "      <td>2</td>\n",
              "      <td>C4</td>\n",
              "      <td>3936272.0</td>\n",
              "      <td>9</td>\n",
              "      <td>2016</td>\n",
              "    </tr>\n",
              "    <tr>\n",
              "      <th>6</th>\n",
              "      <td>1</td>\n",
              "      <td>ALPHABET CITY</td>\n",
              "      <td>07 RENTALS - WALKUP APARTMENTS</td>\n",
              "      <td>2B</td>\n",
              "      <td>406</td>\n",
              "      <td>32</td>\n",
              "      <td>C4</td>\n",
              "      <td>10009</td>\n",
              "      <td>8</td>\n",
              "      <td>0</td>\n",
              "      <td>8</td>\n",
              "      <td>1750.0</td>\n",
              "      <td>4226.0</td>\n",
              "      <td>1920</td>\n",
              "      <td>2</td>\n",
              "      <td>C4</td>\n",
              "      <td>3192840.0</td>\n",
              "      <td>9</td>\n",
              "      <td>2016</td>\n",
              "    </tr>\n",
              "    <tr>\n",
              "      <th>172</th>\n",
              "      <td>1</td>\n",
              "      <td>ALPHABET CITY</td>\n",
              "      <td>14 RENTALS - 4-10 UNIT</td>\n",
              "      <td>2A</td>\n",
              "      <td>391</td>\n",
              "      <td>19</td>\n",
              "      <td>S3</td>\n",
              "      <td>10009</td>\n",
              "      <td>3</td>\n",
              "      <td>1</td>\n",
              "      <td>4</td>\n",
              "      <td>1520.0</td>\n",
              "      <td>3360.0</td>\n",
              "      <td>1910</td>\n",
              "      <td>2</td>\n",
              "      <td>S3</td>\n",
              "      <td>3300000.0</td>\n",
              "      <td>11</td>\n",
              "      <td>2016</td>\n",
              "    </tr>\n",
              "    <tr>\n",
              "      <th>174</th>\n",
              "      <td>1</td>\n",
              "      <td>ALPHABET CITY</td>\n",
              "      <td>14 RENTALS - 4-10 UNIT</td>\n",
              "      <td>2A</td>\n",
              "      <td>394</td>\n",
              "      <td>5</td>\n",
              "      <td>S5</td>\n",
              "      <td>10009</td>\n",
              "      <td>5</td>\n",
              "      <td>1</td>\n",
              "      <td>6</td>\n",
              "      <td>1779.0</td>\n",
              "      <td>3713.0</td>\n",
              "      <td>1910</td>\n",
              "      <td>2</td>\n",
              "      <td>S5</td>\n",
              "      <td>4750000.0</td>\n",
              "      <td>4</td>\n",
              "      <td>2017</td>\n",
              "    </tr>\n",
              "    <tr>\n",
              "      <th>195</th>\n",
              "      <td>1</td>\n",
              "      <td>ALPHABET CITY</td>\n",
              "      <td>22 STORE BUILDINGS</td>\n",
              "      <td>4</td>\n",
              "      <td>390</td>\n",
              "      <td>34</td>\n",
              "      <td>K4</td>\n",
              "      <td>10009</td>\n",
              "      <td>0</td>\n",
              "      <td>1</td>\n",
              "      <td>1</td>\n",
              "      <td>1218.0</td>\n",
              "      <td>3586.0</td>\n",
              "      <td>1899</td>\n",
              "      <td>4</td>\n",
              "      <td>K4</td>\n",
              "      <td>3700000.0</td>\n",
              "      <td>9</td>\n",
              "      <td>2016</td>\n",
              "    </tr>\n",
              "  </tbody>\n",
              "</table>\n",
              "</div>"
            ],
            "text/plain": [
              "    BOROUGH   NEIGHBORHOOD  ... SALE MONTH SALE YEAR\n",
              "3         1  ALPHABET CITY  ...          9      2016\n",
              "6         1  ALPHABET CITY  ...          9      2016\n",
              "172       1  ALPHABET CITY  ...         11      2016\n",
              "174       1  ALPHABET CITY  ...          4      2017\n",
              "195       1  ALPHABET CITY  ...          9      2016\n",
              "\n",
              "[5 rows x 19 columns]"
            ]
          },
          "metadata": {},
          "execution_count": 22
        }
      ]
    },
    {
      "cell_type": "code",
      "metadata": {
        "colab": {
          "base_uri": "https://localhost:8080/"
        },
        "id": "L0yjFp5qNZ7Z",
        "outputId": "614651cd-1616-40ba-ed06-e5d99b1f97a8"
      },
      "source": [
        "print(\"unique value in Borough:\",len(df['BOROUGH'].unique()))\n",
        "print(\"unique value in NEIGHBORHOOD:\",len(df['NEIGHBORHOOD'].unique()))\n",
        "print(\"unique value in BUILDING CLASS CATEGORY:\",len(df['TAX CLASS AT PRESENT'].unique()))\n",
        "print(\"unique value in TAX CLASS AT PRESENT:\",len(df['BOROUGH'].unique()))\n",
        "print(\"unique value in BLOCK:\",len(df['BLOCK'].unique()))\n",
        "print(\"unique value in BUILDING CLASS AT PRESENT:\",len(df['BUILDING CLASS AT PRESENT'].unique()))\n",
        "print(\"unique value in ZIP CODE:\",len(df['ZIP CODE'].unique()))\n",
        "print(\"unique value in YEAR BUILT:\",len(df['YEAR BUILT'].unique()))\n",
        "print(\"unique value in TAX CLASS AT TIME OF SALE:\",len(df['TAX CLASS AT TIME OF SALE'].unique()))\n",
        "print(\"unique value in BUILDING CLASS AT TIME OF SALE:\",len(df['BUILDING CLASS AT TIME OF SALE'].unique()))\n"
      ],
      "execution_count": 23,
      "outputs": [
        {
          "output_type": "stream",
          "name": "stdout",
          "text": [
            "unique value in Borough: 5\n",
            "unique value in NEIGHBORHOOD: 236\n",
            "unique value in BUILDING CLASS CATEGORY: 6\n",
            "unique value in TAX CLASS AT PRESENT: 5\n",
            "unique value in BLOCK: 9534\n",
            "unique value in BUILDING CLASS AT PRESENT: 86\n",
            "unique value in ZIP CODE: 167\n",
            "unique value in YEAR BUILT: 130\n",
            "unique value in TAX CLASS AT TIME OF SALE: 3\n",
            "unique value in BUILDING CLASS AT TIME OF SALE: 88\n"
          ]
        }
      ]
    },
    {
      "cell_type": "markdown",
      "metadata": {
        "id": "8Mnb9d_d_WER"
      },
      "source": [
        "#Data Analysis "
      ]
    },
    {
      "cell_type": "code",
      "metadata": {
        "colab": {
          "base_uri": "https://localhost:8080/"
        },
        "id": "wQMVQabRDzwu",
        "outputId": "6b4a054c-bf4a-43dd-8184-6a22ce6895bd"
      },
      "source": [
        "# Statistic for Total Unit\n",
        "mean_totalunit = stats.mean(df['TOTAL UNITS']) #Mean\n",
        "print (\"Rata-rata total unit terjual 2016-2017:\" , round(mean_totalunit,2),\"unit\")\n",
        "\n",
        "harmonic_mean_totalunit = stats.harmonic_mean(df['TOTAL UNITS']) #Harmonic Mean\n",
        "print (\"Rata-rata harmonic dari total unit terjual 2016-2017:\" , round(harmonic_mean_totalunit,2))\n",
        "\n",
        "median_totalunit = stats.median(df['TOTAL UNITS']) #Median\n",
        "print (\"Nilai tengah total unit terjual 2016-2017:\" , median_totalunit,\"unit\")\n",
        "\n",
        "mode_totalunit = stats.mode(df['TOTAL UNITS']) #Mode\n",
        "print (\"Total unit yang sering terjual 2016-2017:\" , mode_totalunit,\"unit\")\n",
        "\n",
        "variance_totalunit = round(stats.variance(df['TOTAL UNITS']),3) #Variance\n",
        "std_totalunit = round(stats.stdev(df['TOTAL UNITS']),3) #Standard Deviation\n",
        "print (\"Variance dari total unit adalah:\" , variance_totalunit, \"dengan standard deviasi:\", std_totalunit)\n",
        "\n",
        "skew_totalunit = round(scipy.stats.skew(df['TOTAL UNITS'], bias=False),3) #Skewness\n",
        "print(\"Skewness dari total unit adalah:\", skew_totalunit)\n",
        "\n",
        "min_totalunit= min(df['TOTAL UNITS']) #Range\n",
        "max_totalunit= max(df['TOTAL UNITS'])\n",
        "print(\"Range dari total unit yang terjual adalah:\",min_totalunit,\"-\",max_totalunit,\"unit\")"
      ],
      "execution_count": 24,
      "outputs": [
        {
          "output_type": "stream",
          "name": "stdout",
          "text": [
            "Rata-rata total unit terjual 2016-2017: 1.86 unit\n",
            "Rata-rata harmonic dari total unit terjual 2016-2017: 1.43\n",
            "Nilai tengah total unit terjual 2016-2017: 2 unit\n",
            "Total unit yang sering terjual 2016-2017: 1 unit\n",
            "Variance dari total unit adalah: 1.683 dengan standard deviasi: 1.297\n",
            "Skewness dari total unit adalah: 3.678\n",
            "Range dari total unit yang terjual adalah: 1 - 20 unit\n"
          ]
        }
      ]
    },
    {
      "cell_type": "code",
      "metadata": {
        "colab": {
          "base_uri": "https://localhost:8080/"
        },
        "id": "5Ood_6g4FM29",
        "outputId": "38fc9566-cfe6-4500-e330-c3871c65ca56"
      },
      "source": [
        "# Statistic for Sale Price\n",
        "mean_saleprice = stats.mean(df['SALE PRICE']) #Mean\n",
        "print (\"rata-rata harga jual terjual 2016-2017:\" , round(mean_saleprice/1000,2),\"K USD\")\n",
        "\n",
        "harmonic_mean_saleprice = stats.harmonic_mean(df['SALE PRICE']) #Harmonic Mean\n",
        "print (\"rata-rata harmonic dari harga jual terjual 2016-2017:\" , round(harmonic_mean_saleprice/1000,2),\"K USD\")\n",
        "\n",
        "median_saleprice = stats.median(df['SALE PRICE']) #Median\n",
        "print (\"nilai tengah harga jual terjual 2016-2017:\" , median_saleprice,\"USD\")\n",
        "\n",
        "mode_saleprice = stats.mode(df['SALE PRICE']) #Mode\n",
        "print (\"harga unit yang sering terjual 2016-2017:\" , mode_saleprice,\"USD\")\n",
        "\n",
        "variance_saleprice = round(stats.variance(df['SALE PRICE']),3) #Variance\n",
        "std_saleprice = round(stats.stdev(df['SALE PRICE']),3) #Standard Deviation\n",
        "print (\"Variance dari harga jual adalah:\" , variance_saleprice, \"dengan standard deviasi:\", std_saleprice)\n",
        "\n",
        "skew_saleprice = round(scipy.stats.skew(df['SALE PRICE'], bias=False),3) #Skewness\n",
        "print(\"Skewness dari harga jual adalah:\", skew_totalunit)\n",
        "\n",
        "min_saleprice= min(df['SALE PRICE']) #Range\n",
        "max_saleprice= max(df['SALE PRICE'])\n",
        "print(\"Range dari harga jual adalah:\",min_totalunit,\"-\",max_totalunit,\"USD\")"
      ],
      "execution_count": 25,
      "outputs": [
        {
          "output_type": "stream",
          "name": "stdout",
          "text": [
            "rata-rata harga jual terjual 2016-2017: 769.53 K USD\n",
            "rata-rata harmonic dari harga jual terjual 2016-2017: 416.71 K USD\n",
            "nilai tengah harga jual terjual 2016-2017: 607000.0 USD\n",
            "harga unit yang sering terjual 2016-2017: 700000.0 USD\n",
            "Variance dari harga jual adalah: 367889513892.272 dengan standard deviasi: 606538.963\n",
            "Skewness dari harga jual adalah: 3.678\n",
            "Range dari harga jual adalah: 1 - 20 USD\n"
          ]
        }
      ]
    },
    {
      "cell_type": "code",
      "metadata": {
        "colab": {
          "base_uri": "https://localhost:8080/"
        },
        "id": "rijq6tNtwM0Y",
        "outputId": "bbd5e333-2c9a-4dd4-e9cd-8091e3e48582"
      },
      "source": [
        "# Statistic for Land Square Feet\n",
        "mean_landsquare = stats.mean(df['LAND SQUARE FEET']) #Mean\n",
        "print (\"rata-rata ukuran bangunan terjual 2016-2017:\" , round(mean_landsquare,2),\"Sq Ft\")\n",
        "\n",
        "harmonic_mean_landsquare = stats.harmonic_mean(df['LAND SQUARE FEET']) #Harmonic Mean\n",
        "print (\"rata-rata harmonic ukuran bangunan terjual 2016-2017:\" , round(harmonic_mean_landsquare,2),\"Sq Ft\")\n",
        "\n",
        "median_landsquare = stats.median(df['LAND SQUARE FEET'])#Median\n",
        "print (\"nilai tengah ukuran bangunan terjual 2016-2017:\" , median_landsquare,\"Sq Ft\")\n",
        "\n",
        "mode_landsquare = stats.mode(df['LAND SQUARE FEET']) #Mode\n",
        "print (\"ukuran bangunan yang sering terjual 2016-2017:\" , mode_landsquare,\"Sq Ft\")\n",
        "\n",
        "variance_landsquare = round(stats.variance(df['LAND SQUARE FEET']),3) #Variance\n",
        "std_landsquare = round(stats.stdev(df['LAND SQUARE FEET']),3) #Standard Deviation\n",
        "print (\"Variance dari ukuran bangunan adalah:\" , variance_landsquare, \"dengan standard deviasi:\", std_landsquare)\n",
        "\n",
        "skew_landsquare = round(scipy.stats.skew(df['LAND SQUARE FEET'], bias=False),3) #Skewness\n",
        "print(\"Skewness dari ukuran bangunan adalah:\", skew_totalunit)\n",
        "\n",
        "min_landsquare= min(df['LAND SQUARE FEET']) #Range\n",
        "max_landsquare= max(df['LAND SQUARE FEET'])\n",
        "print(\"Range dari ukuran bangunan adalah:\",min_totalunit,\"-\",max_totalunit,\"Sq Ft\")"
      ],
      "execution_count": 26,
      "outputs": [
        {
          "output_type": "stream",
          "name": "stdout",
          "text": [
            "rata-rata ukuran bangunan terjual 2016-2017: 2901.79 Sq Ft\n",
            "rata-rata harmonic ukuran bangunan terjual 2016-2017: 2399.47 Sq Ft\n",
            "nilai tengah ukuran bangunan terjual 2016-2017: 2500.0 Sq Ft\n",
            "ukuran bangunan yang sering terjual 2016-2017: 2000.0 Sq Ft\n",
            "Variance dari ukuran bangunan adalah: 1910332.704 dengan standard deviasi: 1382.148\n",
            "Skewness dari ukuran bangunan adalah: 3.678\n",
            "Range dari ukuran bangunan adalah: 1 - 20 Sq Ft\n"
          ]
        }
      ]
    },
    {
      "cell_type": "code",
      "metadata": {
        "id": "Dqfo3aGBD9b-"
      },
      "source": [
        "# Statistic for NEIGHBORHOOD\n",
        "mode_neighborhood = stats.mode(df['NEIGHBORHOOD'])\n",
        "\n"
      ],
      "execution_count": 27,
      "outputs": []
    },
    {
      "cell_type": "markdown",
      "metadata": {
        "id": "RP0t7lKHG0ak"
      },
      "source": [
        "***Summary of Statsistic ***"
      ]
    },
    {
      "cell_type": "code",
      "metadata": {
        "id": "oyZfRxdCwO8y"
      },
      "source": [
        "\n",
        "stats_residantialunit= scipy.stats.describe(df['TOTAL UNITS'],bias=False)\n",
        "stats_commercialunit= scipy.stats.describe(df['COMMERCIAL UNITS'],bias=False)\n",
        "stats_totalunit= scipy.stats.describe(df['TOTAL UNITS'],bias=False)\n",
        "stats_landsquare= scipy.stats.describe(df['LAND SQUARE FEET'],bias=False)\n",
        "stats_grosssquare= scipy.stats.describe(df['GROSS SQUARE FEET'],bias=False)\n",
        "stats_yearbuilt= scipy.stats.describe(df['YEAR BUILT'],bias=False)\n",
        "stats_saleprice= scipy.stats.describe(df['SALE PRICE'],bias=False)\n"
      ],
      "execution_count": 28,
      "outputs": []
    },
    {
      "cell_type": "code",
      "metadata": {
        "id": "vZVXrSs42GaD"
      },
      "source": [
        "pd_stats_residantialunit = pd.DataFrame([stats_residantialunit], columns=stats_residantialunit._fields)\n",
        "pd_stats_commercialunit = pd.DataFrame([stats_commercialunit], columns=stats_commercialunit._fields)\n",
        "pd_stats_totalunit = pd.DataFrame([stats_totalunit], columns=stats_totalunit._fields)\n",
        "pd_stats_landsquare = pd.DataFrame([stats_landsquare], columns=stats_landsquare._fields)\n",
        "pd_stats_grosssquare = pd.DataFrame([stats_grosssquare], columns=stats_grosssquare._fields)\n",
        "pd_stats_yearbuilt = pd.DataFrame([stats_yearbuilt], columns=stats_yearbuilt._fields)\n",
        "pd_stats_saleprice = pd.DataFrame([stats_saleprice], columns=stats_saleprice._fields)\n",
        "summary_stats= pd.concat([pd_stats_residantialunit, pd_stats_commercialunit,pd_stats_totalunit,pd_stats_landsquare,pd_stats_grosssquare,pd_stats_yearbuilt,pd_stats_saleprice])\n",
        "summary_stats.rename({'nobs':'Number of Sample'}, axis=1, inplace=True)\n",
        "\n",
        "index_list= ['RESIDENTIAL UNITS', 'COMMERCIAL UNITS','TOTAL UNITS', 'LAND SQUARE FEET', 'GROSS SQUARE FEET','YEAR BUILT', 'SALE PRICE'] \n",
        "summary_stats['']=index_list\n",
        "summary_stats.set_index('',inplace=True)\n"
      ],
      "execution_count": 29,
      "outputs": []
    },
    {
      "cell_type": "code",
      "metadata": {
        "colab": {
          "base_uri": "https://localhost:8080/",
          "height": 252
        },
        "id": "zL10o4eT6iVC",
        "outputId": "b716131a-54fa-4459-e83f-476de21d8ce8"
      },
      "source": [
        "summary_stats_T=summary_stats.transpose()\n",
        "print (\"Summary of some column of NYC Property Sales are listed in table below\")\n",
        "summary_stats_T"
      ],
      "execution_count": 30,
      "outputs": [
        {
          "output_type": "stream",
          "name": "stdout",
          "text": [
            "Summary of some column of NYC Property Sales are listed in table below\n"
          ]
        },
        {
          "output_type": "execute_result",
          "data": {
            "text/html": [
              "<div>\n",
              "<style scoped>\n",
              "    .dataframe tbody tr th:only-of-type {\n",
              "        vertical-align: middle;\n",
              "    }\n",
              "\n",
              "    .dataframe tbody tr th {\n",
              "        vertical-align: top;\n",
              "    }\n",
              "\n",
              "    .dataframe thead th {\n",
              "        text-align: right;\n",
              "    }\n",
              "</style>\n",
              "<table border=\"1\" class=\"dataframe\">\n",
              "  <thead>\n",
              "    <tr style=\"text-align: right;\">\n",
              "      <th></th>\n",
              "      <th>RESIDENTIAL UNITS</th>\n",
              "      <th>COMMERCIAL UNITS</th>\n",
              "      <th>TOTAL UNITS</th>\n",
              "      <th>LAND SQUARE FEET</th>\n",
              "      <th>GROSS SQUARE FEET</th>\n",
              "      <th>YEAR BUILT</th>\n",
              "      <th>SALE PRICE</th>\n",
              "    </tr>\n",
              "  </thead>\n",
              "  <tbody>\n",
              "    <tr>\n",
              "      <th>Number of Sample</th>\n",
              "      <td>26561</td>\n",
              "      <td>26561</td>\n",
              "      <td>26561</td>\n",
              "      <td>26561</td>\n",
              "      <td>26561</td>\n",
              "      <td>26561</td>\n",
              "      <td>26561</td>\n",
              "    </tr>\n",
              "    <tr>\n",
              "      <th>minmax</th>\n",
              "      <td>(1, 20)</td>\n",
              "      <td>(0, 14)</td>\n",
              "      <td>(1, 20)</td>\n",
              "      <td>(200.0, 9996.0)</td>\n",
              "      <td>(120.0, 9926.0)</td>\n",
              "      <td>(1800, 2017)</td>\n",
              "      <td>(10000.0, 5000000.0)</td>\n",
              "    </tr>\n",
              "    <tr>\n",
              "      <th>mean</th>\n",
              "      <td>1.85671</td>\n",
              "      <td>0.0873085</td>\n",
              "      <td>1.85671</td>\n",
              "      <td>2901.79</td>\n",
              "      <td>2074.86</td>\n",
              "      <td>1940.95</td>\n",
              "      <td>769533</td>\n",
              "    </tr>\n",
              "    <tr>\n",
              "      <th>variance</th>\n",
              "      <td>1.68316</td>\n",
              "      <td>0.16877</td>\n",
              "      <td>1.68316</td>\n",
              "      <td>1.91033e+06</td>\n",
              "      <td>1.23273e+06</td>\n",
              "      <td>918.697</td>\n",
              "      <td>3.6789e+11</td>\n",
              "    </tr>\n",
              "    <tr>\n",
              "      <th>skewness</th>\n",
              "      <td>3.67783</td>\n",
              "      <td>8.92452</td>\n",
              "      <td>3.67783</td>\n",
              "      <td>1.60547</td>\n",
              "      <td>2.353</td>\n",
              "      <td>0.808583</td>\n",
              "      <td>2.86376</td>\n",
              "    </tr>\n",
              "    <tr>\n",
              "      <th>kurtosis</th>\n",
              "      <td>22.6742</td>\n",
              "      <td>140.806</td>\n",
              "      <td>22.6742</td>\n",
              "      <td>3.31876</td>\n",
              "      <td>8.73945</td>\n",
              "      <td>-0.0600706</td>\n",
              "      <td>11.325</td>\n",
              "    </tr>\n",
              "  </tbody>\n",
              "</table>\n",
              "</div>"
            ],
            "text/plain": [
              "                 RESIDENTIAL UNITS  ...            SALE PRICE\n",
              "Number of Sample             26561  ...                 26561\n",
              "minmax                     (1, 20)  ...  (10000.0, 5000000.0)\n",
              "mean                       1.85671  ...                769533\n",
              "variance                   1.68316  ...            3.6789e+11\n",
              "skewness                   3.67783  ...               2.86376\n",
              "kurtosis                   22.6742  ...                11.325\n",
              "\n",
              "[6 rows x 7 columns]"
            ]
          },
          "metadata": {},
          "execution_count": 30
        }
      ]
    },
    {
      "cell_type": "code",
      "metadata": {
        "colab": {
          "base_uri": "https://localhost:8080/",
          "height": 529
        },
        "id": "rnkAXQUGLfcB",
        "outputId": "f71c0042-4c9b-4e01-9965-4de25558a6f2"
      },
      "source": [
        "#Check Correlation of all Parameter\n",
        "df_corr = df.corr()\n",
        "fig, ax = plt.subplots(figsize=(9, 7))\n",
        "ax = sns.heatmap(df_corr, annot=True)"
      ],
      "execution_count": 31,
      "outputs": [
        {
          "output_type": "display_data",
          "data": {
            "image/png": "[encoded data removed]",
            "text/plain": [
              "<Figure size 648x504 with 2 Axes>"
            ]
          },
          "metadata": {
            "needs_background": "light"
          }
        }
      ]
    },
    {
      "cell_type": "code",
      "metadata": {
        "colab": {
          "base_uri": "https://localhost:8080/",
          "height": 386
        },
        "id": "ZPMS53kspPpE",
        "outputId": "3dbcbc46-a553-4341-dc5c-7bf6f1e7032e"
      },
      "source": [
        "# Normal Distribution for Sale Price\n",
        "norm_saleprice= sns.displot(df['SALE PRICE'], bins=100, kde=True,color='blue')\n",
        "norm_saleprice.set(xlabel=\"Normal Distribution of Sale Price\", ylabel=\"Frequency\")"
      ],
      "execution_count": 32,
      "outputs": [
        {
          "output_type": "execute_result",
          "data": {
            "text/plain": [
              "<seaborn.axisgrid.FacetGrid at 0x7ff17c7bf890>"
            ]
          },
          "metadata": {},
          "execution_count": 32
        },
        {
          "output_type": "display_data",
          "data": {
            "image/png": "[encoded data removed]",
            "text/plain": [
              "<Figure size 360x360 with 1 Axes>"
            ]
          },
          "metadata": {
            "needs_background": "light"
          }
        }
      ]
    },
    {
      "cell_type": "code",
      "metadata": {
        "colab": {
          "base_uri": "https://localhost:8080/",
          "height": 350
        },
        "id": "-OwMaBeXpPfj",
        "outputId": "977d75cc-661d-4105-d821-939ad11c949c"
      },
      "source": [
        "# Distribution of Year Built\n",
        "sns.distplot(df['YEAR BUILT'], bins=100)"
      ],
      "execution_count": 33,
      "outputs": [
        {
          "output_type": "stream",
          "name": "stderr",
          "text": [
            "/usr/local/lib/python3.7/dist-packages/seaborn/distributions.py:2619: FutureWarning: `distplot` is a deprecated function and will be removed in a future version. Please adapt your code to use either `displot` (a figure-level function with similar flexibility) or `histplot` (an axes-level function for histograms).\n",
            "  warnings.warn(msg, FutureWarning)\n"
          ]
        },
        {
          "output_type": "execute_result",
          "data": {
            "text/plain": [
              "<matplotlib.axes._subplots.AxesSubplot at 0x7ff17c5cf690>"
            ]
          },
          "metadata": {},
          "execution_count": 33
        },
        {
          "output_type": "display_data",
          "data": {
            "image/png": "[encoded data removed]",
            "text/plain": [
              "<Figure size 432x288 with 1 Axes>"
            ]
          },
          "metadata": {
            "needs_background": "light"
          }
        }
      ]
    },
    {
      "cell_type": "code",
      "metadata": {
        "id": "S8DAxTlvpPbO"
      },
      "source": [
        "# Hypotesis Testing\n",
        "# Manhattan is said the most popular neighborhoods in NYC. The Hypotesis is Manhattan Much More Expensive than other Neighborhoods "
      ],
      "execution_count": 34,
      "outputs": []
    },
    {
      "cell_type": "code",
      "metadata": {
        "colab": {
          "base_uri": "https://localhost:8080/"
        },
        "id": "76BE-kRz5rT6",
        "outputId": "a36390ed-45d3-42e5-fe95-dc25c9d3dcd2"
      },
      "source": [
        "# Check unique value in borough column\n",
        "df['BOROUGH'].value_counts()"
      ],
      "execution_count": 35,
      "outputs": [
        {
          "output_type": "execute_result",
          "data": {
            "text/plain": [
              "4    10496\n",
              "3     7971\n",
              "5     4686\n",
              "2     3139\n",
              "1      269\n",
              "Name: BOROUGH, dtype: int64"
            ]
          },
          "metadata": {},
          "execution_count": 35
        }
      ]
    },
    {
      "cell_type": "markdown",
      "metadata": {
        "id": "VMifrvjV8PAW"
      },
      "source": [
        "From google search, below is the borough number \n",
        "\n",
        "1 = Manhattan\n",
        "2 = Bronx\n",
        "3 = Brooklyn\n",
        "4 = Queens\n",
        "5 = Staten Island"
      ]
    },
    {
      "cell_type": "code",
      "metadata": {
        "id": "hbKW2fpGf8VJ"
      },
      "source": [
        "df_manhattan=df[df.BOROUGH == 1]\n",
        "df_others=df[df.BOROUGH != 1]"
      ],
      "execution_count": 36,
      "outputs": []
    },
    {
      "cell_type": "code",
      "metadata": {
        "id": "1fB0Ou9wf8Lj"
      },
      "source": [
        "μ_manhattan_saleprice= stats.mean(df_manhattan['SALE PRICE']/df_manhattan['GROSS SQUARE FEET'])\n",
        "μ_others_saleprice = stats.mean(df_others['SALE PRICE']/df_others['GROSS SQUARE FEET'])\n",
        "n_manhattan=len(df[df['BOROUGH']==1])\n",
        "n_others=len(df[df['BOROUGH']!=1])\n",
        "μ_manhattan_stdev= stats.stdev(df_manhattan['SALE PRICE']/df_manhattan['GROSS SQUARE FEET'])\n",
        "μ_others_stdev= stats.stdev(df_others['SALE PRICE']/df_others['GROSS SQUARE FEET'])"
      ],
      "execution_count": 37,
      "outputs": []
    },
    {
      "cell_type": "code",
      "metadata": {
        "colab": {
          "base_uri": "https://localhost:8080/"
        },
        "id": "X6C9tZhFWEy9",
        "outputId": "18aa09f0-2e18-4e56-fd2d-95d66e474a73"
      },
      "source": [
        "print(\"μ_manhattan_saleprice=\",round(μ_manhattan_saleprice,2),\"USD/Sq Feet\")\n",
        "print(\"μ_other_saleprice=\",round(μ_others_saleprice,2),\"USD/Sq Feet\")\n",
        "\n",
        "print(\"standard deviasi manhattan_saleprice=\",round(μ_manhattan_stdev,2),\"USD/Sq Feet\")\n",
        "print(\"standard deviasi others_saleprice=\",round(μ_others_stdev,2),\"USD/Sq Feet\")\n",
        "\n",
        "print(\"jumlah sample manhattan=\",n_manhattan)\n",
        "print(\"jumlah sample other borough=\",n_others)"
      ],
      "execution_count": 38,
      "outputs": [
        {
          "output_type": "stream",
          "name": "stdout",
          "text": [
            "μ_manhattan_saleprice= 710.56 USD/Sq Feet\n",
            "μ_other_saleprice= 388.42 USD/Sq Feet\n",
            "standard deviasi manhattan_saleprice= 899.61 USD/Sq Feet\n",
            "standard deviasi others_saleprice= 254.55 USD/Sq Feet\n",
            "jumlah sample manhattan= 269\n",
            "jumlah sample other borough= 26292\n"
          ]
        }
      ]
    },
    {
      "cell_type": "code",
      "metadata": {
        "colab": {
          "base_uri": "https://localhost:8080/"
        },
        "id": "RhquIOOIl7N2",
        "outputId": "3cf83e43-9033-48b7-d350-95f8a00343b1"
      },
      "source": [
        "sm.stats.ztest((df_manhattan['SALE PRICE']/df_manhattan['GROSS SQUARE FEET']).dropna(),(df_others['SALE PRICE']/df_others['GROSS SQUARE FEET']).dropna(),alternative='two-sided')"
      ],
      "execution_count": 39,
      "outputs": [
        {
          "output_type": "execute_result",
          "data": {
            "text/plain": [
              "(19.54901620352463, 4.205526732986334e-85)"
            ]
          },
          "metadata": {},
          "execution_count": 39
        }
      ]
    },
    {
      "cell_type": "markdown",
      "metadata": {
        "id": "TMC1zxNEn8D_"
      },
      "source": [
        "Karena nilai p-value sangat kecil = 4,2e-85 maka kita dapat **Reject the Null Hypotesis**"
      ]
    },
    {
      "cell_type": "markdown",
      "metadata": {
        "id": "GBCDsT_p9e1H"
      },
      "source": [
        " **Relationship of Unit and Sale Price**"
      ]
    },
    {
      "cell_type": "code",
      "metadata": {
        "colab": {
          "base_uri": "https://localhost:8080/",
          "height": 513
        },
        "id": "wPY43_UT_T-V",
        "outputId": "f5980a59-8700-4864-f14a-bc182cbe59ce"
      },
      "source": [
        "#Check Relationship between Residential Unit and Sale Price\n",
        "plt.figure(figsize=(22,8))\n",
        "sns.boxplot(x='RESIDENTIAL UNITS', y='SALE PRICE', data=df)\n",
        "plt.title('RESIDENTIAL UNITS vs SALE PRICE')\n",
        "plt.show()"
      ],
      "execution_count": 40,
      "outputs": [
        {
          "output_type": "display_data",
          "data": {
            "image/png": "[encoded data removed]",
            "text/plain": [
              "<Figure size 1584x576 with 1 Axes>"
            ]
          },
          "metadata": {
            "needs_background": "light"
          }
        }
      ]
    },
    {
      "cell_type": "code",
      "metadata": {
        "colab": {
          "base_uri": "https://localhost:8080/",
          "height": 513
        },
        "id": "AvXIvr489q4M",
        "outputId": "ca09c489-5b7a-4e93-f255-5f84b4bc2cc8"
      },
      "source": [
        "#Check Relationship between Commercial Unit and Sale Price\n",
        "plt.figure(figsize=(22,8))\n",
        "sns.boxplot(x='COMMERCIAL UNITS', y='SALE PRICE', data=df)\n",
        "plt.title('COMMERCIAL UNITS vs SALE PRICE')\n",
        "plt.show()"
      ],
      "execution_count": 41,
      "outputs": [
        {
          "output_type": "display_data",
          "data": {
            "image/png": "[encoded data removed]",
            "text/plain": [
              "<Figure size 1584x576 with 1 Axes>"
            ]
          },
          "metadata": {
            "needs_background": "light"
          }
        }
      ]
    },
    {
      "cell_type": "code",
      "metadata": {
        "colab": {
          "base_uri": "https://localhost:8080/",
          "height": 513
        },
        "id": "Gk3C17aK9y4T",
        "outputId": "a53d29e7-3ee8-47f3-8f24-a70216ad7544"
      },
      "source": [
        "#Check Relationship between Total Unit and Sale Price\n",
        "plt.figure(figsize=(22,8))\n",
        "sns.boxplot(x='TOTAL UNITS', y='SALE PRICE', data=df)\n",
        "plt.title('TOTAL UNITS vs SALE PRICE')\n",
        "plt.show()"
      ],
      "execution_count": 42,
      "outputs": [
        {
          "output_type": "display_data",
          "data": {
            "image/png": "[encoded data removed]",
            "text/plain": [
              "<Figure size 1584x576 with 1 Axes>"
            ]
          },
          "metadata": {
            "needs_background": "light"
          }
        }
      ]
    }
  ]
}