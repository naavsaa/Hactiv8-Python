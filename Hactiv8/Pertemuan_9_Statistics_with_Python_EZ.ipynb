{
  "nbformat": 4,
  "nbformat_minor": 0,
  "metadata": {
    "colab": {
      "name": "Pertemuan 9- Statistics with Python EZ.ipynb",
      "provenance": [],
      "include_colab_link": true
    },
    "kernelspec": {
      "display_name": "Python 3",
      "name": "python3"
    },
    "language_info": {
      "name": "python"
    }
  },
  "cells": [
    {
      "cell_type": "markdown",
      "metadata": {
        "id": "view-in-github",
        "colab_type": "text"
      },
      "source": [
        "<a href=\"https://colab.research.google.com/github/naavsaa/Hactiv8-Python/blob/master/Pertemuan_9_Statistics_with_Python_EZ.ipynb\" target=\"_parent\"><img src=\"https://colab.research.google.com/assets/colab-badge.svg\" alt=\"Open In Colab\"/></a>"
      ]
    },
    {
      "cell_type": "code",
      "metadata": {
        "colab": {
          "base_uri": "https://localhost:8080/"
        },
        "id": "4VPugNBlx_4R",
        "outputId": "fefc35a6-50d2-4096-f8f4-8697da943db2"
      },
      "source": [
        "import math\n",
        "import statistics\n",
        "import numpy as np\n",
        "import scipy.stats\n",
        "import pandas as pd\n",
        "\n",
        "\n",
        "#STEP 1 : define the number : x->list , y->Array, z->series\n",
        "\n",
        "x =[8.0,1,2.5,4,28.0]\n",
        "x_with_nan = [8.0,1,2.5,math.nan,4,28.0]\n",
        "\n",
        "y, y_with_nan = np.array(x), np.array(x_with_nan)\n",
        "z, z_with_nan = pd.Series(x), pd.Series(x_with_nan)\n",
        "\n",
        "print(y)\n",
        "print(y_with_nan)\n",
        "print(z_with_nan)\n",
        "\n",
        "#Central Tendency Mean\n",
        "\n",
        "mean_ = sum(x) / len(x)\n",
        "print(f\"\"\"\n",
        "Mean Equals (manual / no function) {mean_} \n",
        "\"\"\")\n",
        "\n",
        "mean_ = statistics.mean(x)\n",
        "print(f\"\"\"\n",
        "Mean Equals (auto / with function) {mean_} \n",
        "\"\"\")"
      ],
      "execution_count": null,
      "outputs": [
        {
          "name": "stdout",
          "output_type": "stream",
          "text": [
            "[ 8.   1.   2.5  4.  28. ]\n",
            "[ 8.   1.   2.5  nan  4.  28. ]\n",
            "0     8.0\n",
            "1     1.0\n",
            "2     2.5\n",
            "3     NaN\n",
            "4     4.0\n",
            "5    28.0\n",
            "dtype: float64\n",
            "\n",
            "Mean Equals (manual / no function) 8.7 \n",
            "\n",
            "\n",
            "Mean Equals (auto / with function) 8.7 \n",
            "\n"
          ]
        }
      ]
    },
    {
      "cell_type": "code",
      "metadata": {
        "colab": {
          "base_uri": "https://localhost:8080/"
        },
        "id": "Tas0K5-h428x",
        "outputId": "b0bdd843-1492-4b7e-c896-972d193b8c2f"
      },
      "source": [
        "#Central Tendency Weighted Mean\n",
        "\n",
        "SKS    = [4.0, 4.0, 2.0,2.0,4.0]\n",
        "#Fisika (80), Kimia(95), Sejarah(75), Pkn(70), Matematika(70)\n",
        "Matkul = [80.0, 95.0,75.0,70.0,70.0]\n",
        "\n",
        "wmean = sum(SKS[i] * Matkul[i] for i in range(len(SKS))) / sum (SKS)\n",
        "\n",
        "print(f\"\"\"manual compute {wmean} B+\"\"\")\n",
        "\n",
        "# menggunakan tipe data array dan series \n",
        "# agar bisa auto compute tanpa rumus panjang\n",
        "\n",
        "Matkul_array,Matkul_series ,SKS_array,SKS_series = np.array(Matkul),pd.Series(Matkul),np.array(SKS),pd.Series(Matkul)\n",
        "\n",
        "wmean = np.average(Matkul_array, weights=SKS_array)\n",
        "\n",
        "print(f\"\"\"\n",
        "auto compute rata2 {wmean} B+\n",
        "\"\"\")\n",
        "\n",
        "wmean = np.average(Matkul_series, weights=SKS_series)\n",
        "\n",
        "print(f\"\"\"\n",
        "auto compute rata2 {wmean} B+\n",
        "\"\"\")\n",
        "\n",
        "#central tendency harmonic mean dan geometrical mean \n",
        "#bisa dicoba sendiri ya\n",
        "\n",
        "\n",
        "\n"
      ],
      "execution_count": null,
      "outputs": [
        {
          "name": "stdout",
          "output_type": "stream",
          "text": [
            "manual compute 79.375 B+\n",
            "\n",
            "auto compute rata2 79.375 B+\n",
            "\n",
            "\n",
            "auto compute rata2 79.1025641025641 B+\n",
            "\n"
          ]
        }
      ]
    },
    {
      "cell_type": "code",
      "metadata": {
        "colab": {
          "base_uri": "https://localhost:8080/"
        },
        "id": "sniHVZ8w9wuV",
        "outputId": "4d5bd98c-fc73-4e10-a84e-fe01a3a51d84"
      },
      "source": [
        "#central tendecy median\n",
        "\n",
        "# nilai x : [8.0,1,2.5,4,28.0]\n",
        "# kita cari nilai median\n",
        "\n",
        "n = len(x)\n",
        "\n",
        "#N%2 adalah jika data ganjil\n",
        "if n%2 : \n",
        "  median_= sorted(x)[round(0.5*(n-1))]\n",
        "#ELSE (N%2 != 1 ) adalah jika data genap\n",
        "else :\n",
        "  #diurutkan\n",
        "  x_ord =  sorted(x)\n",
        "  #mengambil index / lokasi nilai tengah \n",
        "  index =  round(0.5 * len(x))\n",
        "  median_ = 0.5 * (x_ord[index-1] + x_ord[index])\n",
        "\n",
        "print(f\"\"\"\n",
        "manual compute {median_}\n",
        "      \"\"\")\n",
        "\n",
        "print(f\"\"\"\n",
        "auto compute median-low : {statistics.median_low(x[:-1])}\n",
        "      \"\"\")\n",
        "\n",
        "print(f\"\"\"\n",
        "auto compute median-high : {statistics.median_high(x[:-1])}\n",
        "      \"\"\")\n"
      ],
      "execution_count": null,
      "outputs": [
        {
          "name": "stdout",
          "output_type": "stream",
          "text": [
            "\n",
            "manual compute 4\n",
            "      \n",
            "\n",
            "auto compute median-low : 2.5\n",
            "      \n",
            "\n",
            "auto compute median-high : 4\n",
            "      \n"
          ]
        }
      ]
    },
    {
      "cell_type": "code",
      "metadata": {
        "colab": {
          "base_uri": "https://localhost:8080/"
        },
        "id": "scwfvDfpBRfX",
        "outputId": "55503616-2097-499e-ec03-74a5086722d7"
      },
      "source": [
        "#Working with 2 dimensional Data\n",
        "\n",
        "a = np.array([[1,1,1],\n",
        "              [2,3,1],\n",
        "              [4,9,2],\n",
        "              [8,27,4],\n",
        "              [16,1,1]])\n",
        "\n",
        "#kita bisa langsung melakukan metode statistik central tendency\n",
        "\n",
        "print(f\"\"\"quick compute 2d like 1d {np.mean(a)}\"\"\")\n",
        "\n",
        "print(f\"\"\"quick compute 2d foreach axis vertical {np.mean(a,axis=0)}\"\"\")\n",
        "\n",
        "print(f\"\"\"quick compute 2d foreach axis horizontal {np.mean(a,axis=1)}\"\"\")\n",
        "\n",
        "print(f\"\"\"quick compute 2d gmean axis vertical {scipy.stats.gmean(a)} \"\"\")\n",
        "\n",
        "print(f\"\"\"quick compute 2d gmean axis none {scipy.stats.gmean(a,axis=None)} \"\"\")\n",
        "\n"
      ],
      "execution_count": null,
      "outputs": [
        {
          "name": "stdout",
          "output_type": "stream",
          "text": [
            "quick compute 2d like 1d 5.4\n",
            "quick compute 2d foreach axis vertical [6.2 8.2 1.8]\n",
            "quick compute 2d foreach axis horizontal [ 1.  2.  5. 13.  6.]\n",
            "quick compute 2d gmean axis vertical [4.         3.73719282 1.51571657] \n",
            "quick compute 2d gmean axis none 2.829705017016332 \n"
          ]
        }
      ]
    },
    {
      "cell_type": "code",
      "metadata": {
        "colab": {
          "base_uri": "https://localhost:8080/"
        },
        "id": "IepUpNM1JS2E",
        "outputId": "e6f30bf4-b832-4d2e-8572-d0ff469b48be"
      },
      "source": [
        "#Data frames\n",
        "\n",
        "row_names = ['first','second','thrid','fourth','fifth']\n",
        "col_names = ['A','B','C']\n",
        "df = pd.DataFrame(a,index = row_names,columns=col_names)\n",
        "print(df)\n",
        "\n",
        "print(f\"\"\"\n",
        "\n",
        "quick compute with DF Axis vertical\n",
        "\n",
        "{df.mean()}\n",
        "\"\"\")\n",
        "\n",
        "print(f\"\"\"\n",
        "\n",
        "quick compute with DF Axis horizontal\n",
        "\n",
        "{df.mean(axis=1)}\n",
        "\"\"\")\n",
        "\n",
        "print(f\"\"\"\n",
        "\n",
        "quick compute with DF Axis partial vertical\n",
        "\n",
        "{df['A'].mean()}\n",
        "\"\"\")\n",
        "\n",
        "print(f\"\"\"\n",
        "\n",
        "quick compute all statics DF Axis partial vertical (hanya bisa vertikal)\n",
        "\n",
        "{df.describe()}\n",
        "\"\"\")\n"
      ],
      "execution_count": null,
      "outputs": [
        {
          "name": "stdout",
          "output_type": "stream",
          "text": [
            "         A   B  C\n",
            "first    1   1  1\n",
            "second   2   3  1\n",
            "thrid    4   9  2\n",
            "fourth   8  27  4\n",
            "fifth   16   1  1\n",
            "\n",
            "\n",
            "quick compute with DF Axis vertical\n",
            "\n",
            "A    6.2\n",
            "B    8.2\n",
            "C    1.8\n",
            "dtype: float64\n",
            "\n",
            "\n",
            "\n",
            "quick compute with DF Axis horizontal\n",
            "\n",
            "first      1.0\n",
            "second     2.0\n",
            "thrid      5.0\n",
            "fourth    13.0\n",
            "fifth      6.0\n",
            "dtype: float64\n",
            "\n",
            "\n",
            "\n",
            "quick compute with DF Axis partial vertical\n",
            "\n",
            "6.2\n",
            "\n",
            "\n",
            "\n",
            "quick compute all statics DF Axis partial vertical (hanya bisa vertikal)\n",
            "\n",
            "              A          B        C\n",
            "count   5.00000   5.000000  5.00000\n",
            "mean    6.20000   8.200000  1.80000\n",
            "std     6.09918  11.009087  1.30384\n",
            "min     1.00000   1.000000  1.00000\n",
            "25%     2.00000   1.000000  1.00000\n",
            "50%     4.00000   3.000000  1.00000\n",
            "75%     8.00000   9.000000  2.00000\n",
            "max    16.00000  27.000000  4.00000\n",
            "\n"
          ]
        }
      ]
    },
    {
      "cell_type": "code",
      "metadata": {
        "colab": {
          "background_save": true,
          "base_uri": "https://localhost:8080/"
        },
        "id": "UXYlG-RLK0zu",
        "outputId": "18f59a7f-38b8-4151-f8b0-607937d1bc16"
      },
      "source": [
        "#Measures of Correlation Between Pairs of Data\n",
        "\n",
        "#STEP 1 define the data using list, array and series\n",
        "\n",
        "x = list(range(-10,11))\n",
        "y = [0,2,2,2,2,3,3,6,7,4,7,6,6,9,4,5,5,10,11,12,14]\n",
        "x_,y_ = np.array(x),np.array(y)\n",
        "x__,y__ = pd.Series(x_),pd.Series(y_)\n",
        "\n",
        "#STEP 2 measure covariance\n",
        "\n",
        "n = len(x)\n",
        "mean_x, mean_y = sum(x)/n,sum(y)/n\n",
        "cov_xy = (sum((x[k] - mean_x) * (y[k] - mean_y) for k in range(n))) / (n-1)\n",
        "\n",
        "print(f\"\"\"manual formula covariance {cov_xy}\"\"\")\n",
        "\n",
        "cov_matrix = np.cov(x_,y_)\n",
        "print(f\"\"\"manual formula covariance (ambil diagonalnya) 19.95\n",
        "{cov_matrix}\n",
        "\n",
        "\"\"\")\n",
        "\n",
        "#STEP 3\n",
        "#Correlation Coefficient\n",
        "\n",
        "var_x = sum((item-mean_x)**2 for item in x)/(n-1)\n",
        "var_y = sum((item-mean_y)**2 for item in y)/(n-1)\n",
        "\n",
        "std_x,std_y = var_x ** 0.5,var_y **0.5\n",
        "r= cov_xy / (std_x * std_y )\n",
        "print(f\"\"\"\n",
        "manual formula correlation {r}\"\"\")\n",
        "\n",
        "r,\n",
        "\n"
      ],
      "execution_count": null,
      "outputs": [
        {
          "name": "stdout",
          "output_type": "stream",
          "text": [
            "manual formula covariance 19.95\n",
            "manual formula covariance (ambil diagonalnya) 19.95\n",
            "[[38.5        19.95      ]\n",
            " [19.95       13.91428571]]\n",
            "\n",
            "\n",
            "\n",
            "manual formula correlation 0.861950005631606\n"
          ]
        },
        {
          "ename": "AttributeError",
          "evalue": "ignored",
          "output_type": "error",
          "traceback": [
            "\u001b[0;31m---------------------------------------------------------------------------\u001b[0m",
            "\u001b[0;31mAttributeError\u001b[0m                            Traceback (most recent call last)",
            "\u001b[0;32m<ipython-input-65-9c57ab18da2b>\u001b[0m in \u001b[0;36m<module>\u001b[0;34m()\u001b[0m\n\u001b[1;32m     33\u001b[0m manual formula correlation {r}\"\"\")\n\u001b[1;32m     34\u001b[0m \u001b[0;34m\u001b[0m\u001b[0m\n\u001b[0;32m---> 35\u001b[0;31m \u001b[0mr\u001b[0m\u001b[0;34m,\u001b[0m\u001b[0mp\u001b[0m \u001b[0;34m=\u001b[0m \u001b[0mscipy\u001b[0m\u001b[0;34m.\u001b[0m\u001b[0mstats\u001b[0m\u001b[0;34m.\u001b[0m\u001b[0mpearson\u001b[0m\u001b[0;34m(\u001b[0m\u001b[0mx_\u001b[0m\u001b[0;34m,\u001b[0m\u001b[0my_\u001b[0m\u001b[0;34m)\u001b[0m\u001b[0;34m\u001b[0m\u001b[0;34m\u001b[0m\u001b[0m\n\u001b[0m\u001b[1;32m     36\u001b[0m \u001b[0;34m\u001b[0m\u001b[0m\n\u001b[1;32m     37\u001b[0m print(f\"\"\"\n",
            "\u001b[0;31mAttributeError\u001b[0m: module 'scipy.stats' has no attribute 'pearson'"
          ]
        }
      ]
    },
    {
      "cell_type": "code",
      "metadata": {
        "id": "DgoiMLIcLgTE"
      },
      "source": [
        ""
      ],
      "execution_count": null,
      "outputs": []
    }
  ]
}